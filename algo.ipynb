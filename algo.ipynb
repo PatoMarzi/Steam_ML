{
 "cells": [
  {
   "cell_type": "code",
   "execution_count": 1,
   "metadata": {},
   "outputs": [],
   "source": [
    "import pandas as pd"
   ]
  },
  {
   "cell_type": "code",
   "execution_count": 4,
   "metadata": {},
   "outputs": [
    {
     "name": "stdout",
     "output_type": "stream",
     "text": [
      "              Value\n",
      "NewIndexName       \n",
      "0                10\n",
      "1                20\n",
      "2                30\n",
      "3                40\n",
      "4                50\n"
     ]
    }
   ],
   "source": [
    "# Create a sample DataFrame with a default numeric index\n",
    "data = {'Value': [10, 20, 30, 40, 50]}\n",
    "df = pd.DataFrame(data)\n",
    "\n",
    "# Rename the index\n",
    "df = df.rename_axis('NewIndexName')\n",
    "\n",
    "# Now, the index is renamed to 'NewIndexName'\n",
    "print(df)"
   ]
  },
  {
   "cell_type": "code",
   "execution_count": 7,
   "metadata": {},
   "outputs": [],
   "source": [
    "\n",
    "\n",
    "def PlayTimeGenre( genre : str ):\n",
    "    '''\n",
    "    Find the genre with the most playtime hours.\n",
    "\n",
    "    Parameters\n",
    "    ----------\n",
    "    genre : str\n",
    "        Desired genre to look for.\n",
    "    \n",
    "    Returns\n",
    "    -------\n",
    "    int\n",
    "        Year when the highest number of hours played was recorded for that genre.\n",
    "    \n",
    "    Examples\n",
    "    -------\n",
    "    >>> PlayTimeGenre('Action')\n",
    "    2012\n",
    "    >>> PlayTimeGenre('Indie')\n",
    "    2006\n",
    "\n",
    "    '''\n",
    "\n",
    "\n",
    "\n",
    "    pass"
   ]
  },
  {
   "cell_type": "code",
   "execution_count": null,
   "metadata": {},
   "outputs": [],
   "source": []
  }
 ],
 "metadata": {
  "kernelspec": {
   "display_name": "Python 3",
   "language": "python",
   "name": "python3"
  },
  "language_info": {
   "codemirror_mode": {
    "name": "ipython",
    "version": 3
   },
   "file_extension": ".py",
   "mimetype": "text/x-python",
   "name": "python",
   "nbconvert_exporter": "python",
   "pygments_lexer": "ipython3",
   "version": "3.11.5"
  }
 },
 "nbformat": 4,
 "nbformat_minor": 2
}
