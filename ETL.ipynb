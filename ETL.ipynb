{
 "cells": [
  {
   "cell_type": "code",
   "execution_count": 2,
   "metadata": {},
   "outputs": [],
   "source": [
    "import numpy as np\n",
    "import pandas as pd"
   ]
  },
  {
   "cell_type": "markdown",
   "metadata": {},
   "source": [
    "## We create our first function, which will unnest any json text into plain text"
   ]
  },
  {
   "cell_type": "code",
   "execution_count": 4,
   "metadata": {},
   "outputs": [],
   "source": [
    "def unnest(path, dicc):\n",
    "    \"\"\"\n",
    "    Read json text and convert it as plain text.\n",
    "    \n",
    "    Parameters\n",
    "    ----------\n",
    "    path : str\n",
    "        path where the json file is located.\n",
    "    dicc : dict\n",
    "        dictionary with key-value pairs.\n",
    "\n",
    "    returns\n",
    "    -------\n",
    "    DataFrame\n",
    "        result of converting said dictionary to a DataFrame.\n",
    "\n",
    "    Examples\n",
    "    --------\n",
    "    >>> unnest('./folder/file.csv', dictionary)\n",
    "    {\n",
    "    \"names\": [\"Michael\", \"Jim\", \"Dwight\"], \n",
    "    \"Position\": [\"Manager\", \"Salesman\", \"Salesman\"],\n",
    "    \"Age\": [42, 29, 27]\n",
    "    }\n",
    "    \"\"\"\n",
    "\n",
    "    df = []\n",
    "    with open(path, encoding = 'UTF-8-SIG') as f:\n",
    "        for line in f:\n",
    "            df.append(eval(line))\n",
    "    \n",
    "    for i in df:\n",
    "        for clave, valor in i.items():\n",
    "            dicc[clave].append(valor)\n",
    "    dicc = pd.DataFrame(dicc)\n",
    "    return dicc"
   ]
  },
  {
   "cell_type": "code",
   "execution_count": null,
   "metadata": {},
   "outputs": [],
   "source": [
    "# We make our dictionary with key names same as the column names and an empty list.\n",
    "diccionarioReviews = {'user_id' : [], 'user_url': [], 'reviews': []}\n",
    "\n",
    "reviews = unnest('./DataSets/australian_user_reviews.json', diccionarioReviews)"
   ]
  },
  {
   "cell_type": "code",
   "execution_count": null,
   "metadata": {},
   "outputs": [],
   "source": [
    "reviews.head()"
   ]
  },
  {
   "cell_type": "code",
   "execution_count": null,
   "metadata": {},
   "outputs": [],
   "source": [
    "reviews.info()"
   ]
  },
  {
   "cell_type": "markdown",
   "metadata": {},
   "source": [
    "We drop any duplicate value our dataset may have"
   ]
  },
  {
   "cell_type": "code",
   "execution_count": null,
   "metadata": {},
   "outputs": [],
   "source": [
    "reviews[reviews['user_id'].duplicated(keep = False)].sort_values(by = 'user_id')"
   ]
  },
  {
   "cell_type": "code",
   "execution_count": null,
   "metadata": {},
   "outputs": [],
   "source": [
    "reviews.drop_duplicates(subset = 'user_id', keep = False, inplace = True)"
   ]
  },
  {
   "cell_type": "code",
   "execution_count": null,
   "metadata": {},
   "outputs": [],
   "source": [
    "reviews.head().sort_values(by = 'user_id')"
   ]
  },
  {
   "cell_type": "markdown",
   "metadata": {},
   "source": [
    "We repeat this process with our items DataSet."
   ]
  },
  {
   "cell_type": "code",
   "execution_count": null,
   "metadata": {},
   "outputs": [],
   "source": [
    "items = {'user_id' : [], 'items_count': [], 'steam_id': [], 'user_url': [], 'items': []}\n",
    "items = unnest('./DataSets/australian_users_items.json', items)\n"
   ]
  },
  {
   "cell_type": "code",
   "execution_count": null,
   "metadata": {},
   "outputs": [],
   "source": [
    "items.head()"
   ]
  },
  {
   "cell_type": "code",
   "execution_count": null,
   "metadata": {},
   "outputs": [],
   "source": [
    "items.info()"
   ]
  },
  {
   "cell_type": "markdown",
   "metadata": {},
   "source": [
    "We check for any duplicate value."
   ]
  },
  {
   "cell_type": "code",
   "execution_count": null,
   "metadata": {},
   "outputs": [],
   "source": [
    "items[items['user_id'].duplicated(keep = False)].sort_values(by = 'user_id')"
   ]
  },
  {
   "cell_type": "markdown",
   "metadata": {},
   "source": [
    "We drop said values"
   ]
  },
  {
   "cell_type": "code",
   "execution_count": null,
   "metadata": {},
   "outputs": [],
   "source": [
    "items.drop_duplicates(subset = 'user_id', keep = 'first', inplace = True)"
   ]
  },
  {
   "cell_type": "markdown",
   "metadata": {},
   "source": [
    "We make our Steam DataSet"
   ]
  },
  {
   "cell_type": "code",
   "execution_count": null,
   "metadata": {},
   "outputs": [],
   "source": [
    "df = []\n",
    "\n",
    "with open('./DataSets/output_steam_games.json', encoding = 'UTF-8-SIG') as f:\n",
    "    for line in f:\n",
    "        if '\"id\": NaN'in line:\n",
    "            continue\n",
    "        line = line.replace(\"true\", \"True\")\n",
    "        line = line.replace(\"false\", \"False\")\n",
    "        line = line.replace(\"NaN\", \"None\")\n",
    "        df.append(eval(line))\n",
    "\n",
    "steam = pd.DataFrame(df)"
   ]
  },
  {
   "cell_type": "code",
   "execution_count": null,
   "metadata": {},
   "outputs": [],
   "source": [
    "steam[steam['title'].duplicated(keep = False)].sort_values(by = 'title')"
   ]
  },
  {
   "cell_type": "code",
   "execution_count": null,
   "metadata": {},
   "outputs": [],
   "source": [
    "steam.drop_duplicates(subset = 'id', keep = 'first', inplace = True)"
   ]
  },
  {
   "cell_type": "markdown",
   "metadata": {},
   "source": [
    "We transform the 'release_date' values from str type to a Date type"
   ]
  },
  {
   "cell_type": "code",
   "execution_count": null,
   "metadata": {},
   "outputs": [],
   "source": [
    "# Passing errors = 'coerce' will force an out-of-bounds date to NaT, in addition to forcing \n",
    "# non-dates (or non-parseable dates) to NaT.\n",
    "steam['release_date'] = pd.to_datetime(steam['release_date'], format = '%Y-%m-%d', errors = 'coerce')"
   ]
  },
  {
   "cell_type": "code",
   "execution_count": null,
   "metadata": {},
   "outputs": [],
   "source": [
    "steam['price']"
   ]
  },
  {
   "cell_type": "markdown",
   "metadata": {},
   "source": [
    "We see that the price column has mixed type values, we normalise these values changing them to numbers"
   ]
  },
  {
   "cell_type": "code",
   "execution_count": null,
   "metadata": {},
   "outputs": [],
   "source": [
    "# We do a function just in case we have multiple columns/DataSets to change.\n",
    "def toZero(var):\n",
    "    \"\"\"\n",
    "    Take parameter and change it to zero, regardless of its type.\n",
    "\n",
    "    parameters\n",
    "    ----------\n",
    "    n : str\n",
    "        Non numeric value.\n",
    "\n",
    "    examples\n",
    "    --------\n",
    "    >>> toZero('Hello')\n",
    "    0\n",
    "    >>> toZero(5)\n",
    "    5.0\n",
    "    \"\"\"\n",
    "    \n",
    "    try:\n",
    "        return float(var)\n",
    "    except:\n",
    "        return 0\n"
   ]
  },
  {
   "cell_type": "code",
   "execution_count": null,
   "metadata": {},
   "outputs": [],
   "source": [
    "steam['price'] = steam['price'].apply(toZero)"
   ]
  },
  {
   "cell_type": "code",
   "execution_count": null,
   "metadata": {},
   "outputs": [],
   "source": [
    "steam.head(1)"
   ]
  },
  {
   "cell_type": "code",
   "execution_count": null,
   "metadata": {},
   "outputs": [],
   "source": [
    "# Get rid of the unnecesary columns. This columns will not be used in our API.\n",
    "steamColumns = ['publisher', 'app_name', 'url', 'reviews_url', 'early_access', 'specs', 'url', 'reviews_url']\n",
    "steam.drop(steamColumns, axis = 1, inplace = True)\n",
    "\n",
    "steam.head()"
   ]
  },
  {
   "cell_type": "markdown",
   "metadata": {},
   "source": [
    "We procede to unnest the remaining list-columns into several columns."
   ]
  },
  {
   "cell_type": "code",
   "execution_count": null,
   "metadata": {},
   "outputs": [],
   "source": [
    "# Check the key names.\n",
    "reviews['reviews'][0]"
   ]
  },
  {
   "cell_type": "code",
   "execution_count": null,
   "metadata": {},
   "outputs": [],
   "source": [
    "reviewDF ={'user_id': [], 'funny': [],'posted': [], 'last_edited': [], 'item_id': [], 'helpful':[], 'recommend': [], 'review': [] }\n",
    "\n",
    "for index, review in enumerate(reviews['reviews']):\n",
    "    for r in list(review):\n",
    "        for key, value in r.items():\n",
    "            reviewDF[key].append(value)\n",
    "        reviewDF['user_id'].append(reviews.iloc[index]['user_id'])\n",
    "\n",
    "reviewDF = pd.DataFrame(reviewDF)\n",
    "reviewDF.head()"
   ]
  },
  {
   "cell_type": "markdown",
   "metadata": {},
   "source": [
    "Transform the text in the `posted` column into a Date value."
   ]
  },
  {
   "cell_type": "code",
   "execution_count": null,
   "metadata": {},
   "outputs": [],
   "source": [
    "from datetime import datetime\n",
    "reviewDF['posted'] = reviewDF['posted'].str.replace('Posted ', \"\")\n",
    "reviewDF['posted'] = pd.to_datetime(reviewDF['posted'], format = '%B%d%Y.', errors = 'ignore')"
   ]
  },
  {
   "cell_type": "code",
   "execution_count": null,
   "metadata": {},
   "outputs": [],
   "source": [
    "reviewDF.drop(columns= ['funny', 'last_edited', 'helpful'], inplace = True)\n",
    "reviewDF"
   ]
  },
  {
   "cell_type": "markdown",
   "metadata": {},
   "source": [
    "Unnest the items column in the items DataFrame"
   ]
  },
  {
   "cell_type": "code",
   "execution_count": null,
   "metadata": {},
   "outputs": [],
   "source": [
    "itemsDF = {'user_id': [], 'item_id': [], 'item_name': [], 'playtime_forever': [], 'playtime_2weeks': []}\n",
    "\n",
    "for index, item_list in enumerate(items['items']):\n",
    "    for item in item_list:\n",
    "        itemsDF['user_id'].append(items.iloc[index]['user_id'])\n",
    "        for key in itemsDF.keys():\n",
    "            if key != 'user_id':\n",
    "                itemsDF[key].append(item.get(key, None))  # Use get() to handle missing keys\n",
    "\n",
    "itemsDF = pd.DataFrame(itemsDF)\n",
    "itemsDF.head()\n"
   ]
  },
  {
   "cell_type": "markdown",
   "metadata": {},
   "source": [
    "Apply sentiment analysis to the review column."
   ]
  },
  {
   "cell_type": "code",
   "execution_count": null,
   "metadata": {},
   "outputs": [],
   "source": [
    "from textblob import TextBlob\n",
    "\n",
    "def sentiment_analysis(column):\n",
    "    '''\n",
    "    Read text from a DataFrame, create a numeric column corresponding to previous one.\n",
    "    This new column will have one for a neutral review, zero for bad review and two for a good review.\n",
    "\n",
    "    Parameters\n",
    "    ----------\n",
    "    column : pandas.core.series.Series\n",
    "        column name in which the analysis will be applied\n",
    "\n",
    "    Returns\n",
    "    -------\n",
    "    DataFrame\n",
    "        A DataFrame with a numeric column corresponding to review\n",
    "\n",
    "    Examples\n",
    "    --------\n",
    "    >>> sentiment_analysis(positiveText)\n",
    "    2\n",
    "    >>> sentiment_analysis(negativeText)\n",
    "    0\n",
    "    >>> sentiment_analysis(neutralText)\n",
    "    1\n",
    "    '''\n",
    "    analysis = TextBlob(column)\n",
    "    if analysis.sentiment.polarity < 0:\n",
    "        return 0\n",
    "    elif analysis.sentiment.polarity == 0:\n",
    "        return 1\n",
    "    else:\n",
    "        return 2"
   ]
  },
  {
   "cell_type": "markdown",
   "metadata": {},
   "source": [
    "Apply the function to the DataFrame"
   ]
  },
  {
   "cell_type": "code",
   "execution_count": null,
   "metadata": {},
   "outputs": [],
   "source": [
    "reviewDF['sentiment_analysis'] = reviewDF['review'].apply(sentiment_analysis)\n",
    "reviewDF['sentiment_analysis'].fillna(1, inplace = True)"
   ]
  },
  {
   "cell_type": "markdown",
   "metadata": {},
   "source": [
    "Drop the review column, which will no longer be needed."
   ]
  },
  {
   "cell_type": "code",
   "execution_count": null,
   "metadata": {},
   "outputs": [],
   "source": [
    "reviewDF.drop('review', axis = 1, inplace = True)"
   ]
  },
  {
   "cell_type": "code",
   "execution_count": 7,
   "metadata": {},
   "outputs": [
    {
     "data": {
      "text/html": [
       "<div>\n",
       "<style scoped>\n",
       "    .dataframe tbody tr th:only-of-type {\n",
       "        vertical-align: middle;\n",
       "    }\n",
       "\n",
       "    .dataframe tbody tr th {\n",
       "        vertical-align: top;\n",
       "    }\n",
       "\n",
       "    .dataframe thead th {\n",
       "        text-align: right;\n",
       "    }\n",
       "</style>\n",
       "<table border=\"1\" class=\"dataframe\">\n",
       "  <thead>\n",
       "    <tr style=\"text-align: right;\">\n",
       "      <th></th>\n",
       "      <th>user_id</th>\n",
       "      <th>posted</th>\n",
       "      <th>item_id</th>\n",
       "      <th>recommend</th>\n",
       "      <th>sentiment_analysis</th>\n",
       "    </tr>\n",
       "  </thead>\n",
       "  <tbody>\n",
       "    <tr>\n",
       "      <th>0</th>\n",
       "      <td>76561197970982479</td>\n",
       "      <td>November 5, 2011.</td>\n",
       "      <td>1250</td>\n",
       "      <td>True</td>\n",
       "      <td>2</td>\n",
       "    </tr>\n",
       "    <tr>\n",
       "      <th>1</th>\n",
       "      <td>76561197970982479</td>\n",
       "      <td>July 15, 2011.</td>\n",
       "      <td>22200</td>\n",
       "      <td>True</td>\n",
       "      <td>2</td>\n",
       "    </tr>\n",
       "    <tr>\n",
       "      <th>2</th>\n",
       "      <td>76561197970982479</td>\n",
       "      <td>April 21, 2011.</td>\n",
       "      <td>43110</td>\n",
       "      <td>True</td>\n",
       "      <td>2</td>\n",
       "    </tr>\n",
       "    <tr>\n",
       "      <th>3</th>\n",
       "      <td>js41637</td>\n",
       "      <td>June 24, 2014.</td>\n",
       "      <td>251610</td>\n",
       "      <td>True</td>\n",
       "      <td>2</td>\n",
       "    </tr>\n",
       "    <tr>\n",
       "      <th>4</th>\n",
       "      <td>js41637</td>\n",
       "      <td>September 8, 2013.</td>\n",
       "      <td>227300</td>\n",
       "      <td>True</td>\n",
       "      <td>0</td>\n",
       "    </tr>\n",
       "    <tr>\n",
       "      <th>...</th>\n",
       "      <td>...</td>\n",
       "      <td>...</td>\n",
       "      <td>...</td>\n",
       "      <td>...</td>\n",
       "      <td>...</td>\n",
       "    </tr>\n",
       "    <tr>\n",
       "      <th>57563</th>\n",
       "      <td>76561198312638244</td>\n",
       "      <td>July 10.</td>\n",
       "      <td>70</td>\n",
       "      <td>True</td>\n",
       "      <td>2</td>\n",
       "    </tr>\n",
       "    <tr>\n",
       "      <th>57564</th>\n",
       "      <td>76561198312638244</td>\n",
       "      <td>July 8.</td>\n",
       "      <td>362890</td>\n",
       "      <td>True</td>\n",
       "      <td>2</td>\n",
       "    </tr>\n",
       "    <tr>\n",
       "      <th>57565</th>\n",
       "      <td>LydiaMorley</td>\n",
       "      <td>July 3.</td>\n",
       "      <td>273110</td>\n",
       "      <td>True</td>\n",
       "      <td>2</td>\n",
       "    </tr>\n",
       "    <tr>\n",
       "      <th>57566</th>\n",
       "      <td>LydiaMorley</td>\n",
       "      <td>July 20.</td>\n",
       "      <td>730</td>\n",
       "      <td>True</td>\n",
       "      <td>2</td>\n",
       "    </tr>\n",
       "    <tr>\n",
       "      <th>57567</th>\n",
       "      <td>LydiaMorley</td>\n",
       "      <td>July 2.</td>\n",
       "      <td>440</td>\n",
       "      <td>True</td>\n",
       "      <td>2</td>\n",
       "    </tr>\n",
       "  </tbody>\n",
       "</table>\n",
       "<p>57568 rows × 5 columns</p>\n",
       "</div>"
      ],
      "text/plain": [
       "                 user_id              posted item_id  recommend  \\\n",
       "0      76561197970982479   November 5, 2011.    1250       True   \n",
       "1      76561197970982479      July 15, 2011.   22200       True   \n",
       "2      76561197970982479     April 21, 2011.   43110       True   \n",
       "3                js41637      June 24, 2014.  251610       True   \n",
       "4                js41637  September 8, 2013.  227300       True   \n",
       "...                  ...                 ...     ...        ...   \n",
       "57563  76561198312638244            July 10.      70       True   \n",
       "57564  76561198312638244             July 8.  362890       True   \n",
       "57565        LydiaMorley             July 3.  273110       True   \n",
       "57566        LydiaMorley            July 20.     730       True   \n",
       "57567        LydiaMorley             July 2.     440       True   \n",
       "\n",
       "       sentiment_analysis  \n",
       "0                       2  \n",
       "1                       2  \n",
       "2                       2  \n",
       "3                       2  \n",
       "4                       0  \n",
       "...                   ...  \n",
       "57563                   2  \n",
       "57564                   2  \n",
       "57565                   2  \n",
       "57566                   2  \n",
       "57567                   2  \n",
       "\n",
       "[57568 rows x 5 columns]"
      ]
     },
     "execution_count": 7,
     "metadata": {},
     "output_type": "execute_result"
    }
   ],
   "source": [
    "review"
   ]
  },
  {
   "cell_type": "markdown",
   "metadata": {},
   "source": [
    "We add a 'year' column to the steam DataSet, taken from the 'release_date' column."
   ]
  },
  {
   "cell_type": "code",
   "execution_count": 9,
   "metadata": {},
   "outputs": [
    {
     "data": {
      "text/html": [
       "<div>\n",
       "<style scoped>\n",
       "    .dataframe tbody tr th:only-of-type {\n",
       "        vertical-align: middle;\n",
       "    }\n",
       "\n",
       "    .dataframe tbody tr th {\n",
       "        vertical-align: top;\n",
       "    }\n",
       "\n",
       "    .dataframe thead th {\n",
       "        text-align: right;\n",
       "    }\n",
       "</style>\n",
       "<table border=\"1\" class=\"dataframe\">\n",
       "  <thead>\n",
       "    <tr style=\"text-align: right;\">\n",
       "      <th></th>\n",
       "      <th>genres</th>\n",
       "      <th>title</th>\n",
       "      <th>release_date</th>\n",
       "      <th>tags</th>\n",
       "      <th>price</th>\n",
       "      <th>id</th>\n",
       "      <th>developer</th>\n",
       "      <th>year</th>\n",
       "    </tr>\n",
       "  </thead>\n",
       "  <tbody>\n",
       "    <tr>\n",
       "      <th>0</th>\n",
       "      <td>['Action', 'Casual', 'Indie', 'Simulation', 'S...</td>\n",
       "      <td>Lost Summoner Kitty</td>\n",
       "      <td>2018-01-04</td>\n",
       "      <td>['Strategy', 'Action', 'Indie', 'Casual', 'Sim...</td>\n",
       "      <td>4.99</td>\n",
       "      <td>761140</td>\n",
       "      <td>Kotoshiro</td>\n",
       "      <td>2018</td>\n",
       "    </tr>\n",
       "    <tr>\n",
       "      <th>1</th>\n",
       "      <td>['Free to Play', 'Indie', 'RPG', 'Strategy']</td>\n",
       "      <td>Ironbound</td>\n",
       "      <td>2018-01-04</td>\n",
       "      <td>['Free to Play', 'Strategy', 'Indie', 'RPG', '...</td>\n",
       "      <td>0.00</td>\n",
       "      <td>643980</td>\n",
       "      <td>Secret Level SRL</td>\n",
       "      <td>2018</td>\n",
       "    </tr>\n",
       "    <tr>\n",
       "      <th>2</th>\n",
       "      <td>['Casual', 'Free to Play', 'Indie', 'Simulatio...</td>\n",
       "      <td>Real Pool 3D - Poolians</td>\n",
       "      <td>2017-07-24</td>\n",
       "      <td>['Free to Play', 'Simulation', 'Sports', 'Casu...</td>\n",
       "      <td>0.00</td>\n",
       "      <td>670290</td>\n",
       "      <td>Poolians.com</td>\n",
       "      <td>2017</td>\n",
       "    </tr>\n",
       "    <tr>\n",
       "      <th>3</th>\n",
       "      <td>['Action', 'Adventure', 'Casual']</td>\n",
       "      <td>弹炸人2222</td>\n",
       "      <td>2017-12-07</td>\n",
       "      <td>['Action', 'Adventure', 'Casual']</td>\n",
       "      <td>0.99</td>\n",
       "      <td>767400</td>\n",
       "      <td>彼岸领域</td>\n",
       "      <td>2017</td>\n",
       "    </tr>\n",
       "    <tr>\n",
       "      <th>4</th>\n",
       "      <td>['Action', 'Adventure', 'Simulation']</td>\n",
       "      <td>Battle Royale Trainer</td>\n",
       "      <td>2018-01-04</td>\n",
       "      <td>['Action', 'Adventure', 'Simulation', 'FPS', '...</td>\n",
       "      <td>3.99</td>\n",
       "      <td>772540</td>\n",
       "      <td>Trickjump Games Ltd</td>\n",
       "      <td>2018</td>\n",
       "    </tr>\n",
       "    <tr>\n",
       "      <th>...</th>\n",
       "      <td>...</td>\n",
       "      <td>...</td>\n",
       "      <td>...</td>\n",
       "      <td>...</td>\n",
       "      <td>...</td>\n",
       "      <td>...</td>\n",
       "      <td>...</td>\n",
       "      <td>...</td>\n",
       "    </tr>\n",
       "    <tr>\n",
       "      <th>28348</th>\n",
       "      <td>['Action', 'Adventure', 'Casual', 'Indie']</td>\n",
       "      <td>Kebab it Up!</td>\n",
       "      <td>2018-01-04</td>\n",
       "      <td>['Action', 'Indie', 'Casual', 'Violent', 'Adve...</td>\n",
       "      <td>1.99</td>\n",
       "      <td>745400</td>\n",
       "      <td>Bidoniera Games</td>\n",
       "      <td>2018</td>\n",
       "    </tr>\n",
       "    <tr>\n",
       "      <th>28349</th>\n",
       "      <td>['Casual', 'Indie', 'Simulation', 'Strategy']</td>\n",
       "      <td>Colony On Mars</td>\n",
       "      <td>2018-01-04</td>\n",
       "      <td>['Strategy', 'Indie', 'Casual', 'Simulation']</td>\n",
       "      <td>1.99</td>\n",
       "      <td>773640</td>\n",
       "      <td>Nikita \"Ghost_RUS\"</td>\n",
       "      <td>2018</td>\n",
       "    </tr>\n",
       "    <tr>\n",
       "      <th>28350</th>\n",
       "      <td>['Casual', 'Indie', 'Strategy']</td>\n",
       "      <td>LOGistICAL: South Africa</td>\n",
       "      <td>2018-01-04</td>\n",
       "      <td>['Strategy', 'Indie', 'Casual']</td>\n",
       "      <td>4.99</td>\n",
       "      <td>733530</td>\n",
       "      <td>Sacada</td>\n",
       "      <td>2018</td>\n",
       "    </tr>\n",
       "    <tr>\n",
       "      <th>28351</th>\n",
       "      <td>['Indie', 'Racing', 'Simulation']</td>\n",
       "      <td>Russian Roads</td>\n",
       "      <td>2018-01-04</td>\n",
       "      <td>['Indie', 'Simulation', 'Racing']</td>\n",
       "      <td>1.99</td>\n",
       "      <td>610660</td>\n",
       "      <td>Laush Dmitriy Sergeevich</td>\n",
       "      <td>2018</td>\n",
       "    </tr>\n",
       "    <tr>\n",
       "      <th>28352</th>\n",
       "      <td>['Casual', 'Indie']</td>\n",
       "      <td>EXIT 2 - Directions</td>\n",
       "      <td>2017-09-02</td>\n",
       "      <td>['Indie', 'Casual', 'Puzzle', 'Singleplayer', ...</td>\n",
       "      <td>4.99</td>\n",
       "      <td>658870</td>\n",
       "      <td>xropi,stev3ns</td>\n",
       "      <td>2017</td>\n",
       "    </tr>\n",
       "  </tbody>\n",
       "</table>\n",
       "<p>28353 rows × 8 columns</p>\n",
       "</div>"
      ],
      "text/plain": [
       "                                                  genres  \\\n",
       "0      ['Action', 'Casual', 'Indie', 'Simulation', 'S...   \n",
       "1           ['Free to Play', 'Indie', 'RPG', 'Strategy']   \n",
       "2      ['Casual', 'Free to Play', 'Indie', 'Simulatio...   \n",
       "3                      ['Action', 'Adventure', 'Casual']   \n",
       "4                  ['Action', 'Adventure', 'Simulation']   \n",
       "...                                                  ...   \n",
       "28348         ['Action', 'Adventure', 'Casual', 'Indie']   \n",
       "28349      ['Casual', 'Indie', 'Simulation', 'Strategy']   \n",
       "28350                    ['Casual', 'Indie', 'Strategy']   \n",
       "28351                  ['Indie', 'Racing', 'Simulation']   \n",
       "28352                                ['Casual', 'Indie']   \n",
       "\n",
       "                          title release_date  \\\n",
       "0           Lost Summoner Kitty   2018-01-04   \n",
       "1                     Ironbound   2018-01-04   \n",
       "2       Real Pool 3D - Poolians   2017-07-24   \n",
       "3                       弹炸人2222   2017-12-07   \n",
       "4         Battle Royale Trainer   2018-01-04   \n",
       "...                         ...          ...   \n",
       "28348              Kebab it Up!   2018-01-04   \n",
       "28349            Colony On Mars   2018-01-04   \n",
       "28350  LOGistICAL: South Africa   2018-01-04   \n",
       "28351             Russian Roads   2018-01-04   \n",
       "28352       EXIT 2 - Directions   2017-09-02   \n",
       "\n",
       "                                                    tags  price      id  \\\n",
       "0      ['Strategy', 'Action', 'Indie', 'Casual', 'Sim...   4.99  761140   \n",
       "1      ['Free to Play', 'Strategy', 'Indie', 'RPG', '...   0.00  643980   \n",
       "2      ['Free to Play', 'Simulation', 'Sports', 'Casu...   0.00  670290   \n",
       "3                      ['Action', 'Adventure', 'Casual']   0.99  767400   \n",
       "4      ['Action', 'Adventure', 'Simulation', 'FPS', '...   3.99  772540   \n",
       "...                                                  ...    ...     ...   \n",
       "28348  ['Action', 'Indie', 'Casual', 'Violent', 'Adve...   1.99  745400   \n",
       "28349      ['Strategy', 'Indie', 'Casual', 'Simulation']   1.99  773640   \n",
       "28350                    ['Strategy', 'Indie', 'Casual']   4.99  733530   \n",
       "28351                  ['Indie', 'Simulation', 'Racing']   1.99  610660   \n",
       "28352  ['Indie', 'Casual', 'Puzzle', 'Singleplayer', ...   4.99  658870   \n",
       "\n",
       "                      developer  year  \n",
       "0                     Kotoshiro  2018  \n",
       "1              Secret Level SRL  2018  \n",
       "2                  Poolians.com  2017  \n",
       "3                          彼岸领域  2017  \n",
       "4           Trickjump Games Ltd  2018  \n",
       "...                         ...   ...  \n",
       "28348           Bidoniera Games  2018  \n",
       "28349        Nikita \"Ghost_RUS\"  2018  \n",
       "28350                    Sacada  2018  \n",
       "28351  Laush Dmitriy Sergeevich  2018  \n",
       "28352             xropi,stev3ns  2017  \n",
       "\n",
       "[28353 rows x 8 columns]"
      ]
     },
     "execution_count": 9,
     "metadata": {},
     "output_type": "execute_result"
    }
   ],
   "source": [
    "steam['year'] = pd.to_datetime(steam['release_date']).dt.year\n",
    "steam"
   ]
  },
  {
   "cell_type": "markdown",
   "metadata": {},
   "source": [
    "### We drop unnecesary columns."
   ]
  },
  {
   "cell_type": "code",
   "execution_count": 10,
   "metadata": {},
   "outputs": [],
   "source": [
    "steam.drop(columns = ['release_date', 'tags', 'price', 'developer'], inplace= True)"
   ]
  },
  {
   "cell_type": "code",
   "execution_count": 11,
   "metadata": {},
   "outputs": [
    {
     "data": {
      "text/html": [
       "<div>\n",
       "<style scoped>\n",
       "    .dataframe tbody tr th:only-of-type {\n",
       "        vertical-align: middle;\n",
       "    }\n",
       "\n",
       "    .dataframe tbody tr th {\n",
       "        vertical-align: top;\n",
       "    }\n",
       "\n",
       "    .dataframe thead th {\n",
       "        text-align: right;\n",
       "    }\n",
       "</style>\n",
       "<table border=\"1\" class=\"dataframe\">\n",
       "  <thead>\n",
       "    <tr style=\"text-align: right;\">\n",
       "      <th></th>\n",
       "      <th>genres</th>\n",
       "      <th>title</th>\n",
       "      <th>id</th>\n",
       "      <th>year</th>\n",
       "    </tr>\n",
       "  </thead>\n",
       "  <tbody>\n",
       "    <tr>\n",
       "      <th>0</th>\n",
       "      <td>['Action', 'Casual', 'Indie', 'Simulation', 'S...</td>\n",
       "      <td>Lost Summoner Kitty</td>\n",
       "      <td>761140</td>\n",
       "      <td>2018</td>\n",
       "    </tr>\n",
       "    <tr>\n",
       "      <th>1</th>\n",
       "      <td>['Free to Play', 'Indie', 'RPG', 'Strategy']</td>\n",
       "      <td>Ironbound</td>\n",
       "      <td>643980</td>\n",
       "      <td>2018</td>\n",
       "    </tr>\n",
       "    <tr>\n",
       "      <th>2</th>\n",
       "      <td>['Casual', 'Free to Play', 'Indie', 'Simulatio...</td>\n",
       "      <td>Real Pool 3D - Poolians</td>\n",
       "      <td>670290</td>\n",
       "      <td>2017</td>\n",
       "    </tr>\n",
       "    <tr>\n",
       "      <th>3</th>\n",
       "      <td>['Action', 'Adventure', 'Casual']</td>\n",
       "      <td>弹炸人2222</td>\n",
       "      <td>767400</td>\n",
       "      <td>2017</td>\n",
       "    </tr>\n",
       "    <tr>\n",
       "      <th>4</th>\n",
       "      <td>['Action', 'Adventure', 'Simulation']</td>\n",
       "      <td>Battle Royale Trainer</td>\n",
       "      <td>772540</td>\n",
       "      <td>2018</td>\n",
       "    </tr>\n",
       "  </tbody>\n",
       "</table>\n",
       "</div>"
      ],
      "text/plain": [
       "                                              genres                    title  \\\n",
       "0  ['Action', 'Casual', 'Indie', 'Simulation', 'S...      Lost Summoner Kitty   \n",
       "1       ['Free to Play', 'Indie', 'RPG', 'Strategy']                Ironbound   \n",
       "2  ['Casual', 'Free to Play', 'Indie', 'Simulatio...  Real Pool 3D - Poolians   \n",
       "3                  ['Action', 'Adventure', 'Casual']                  弹炸人2222   \n",
       "4              ['Action', 'Adventure', 'Simulation']    Battle Royale Trainer   \n",
       "\n",
       "       id  year  \n",
       "0  761140  2018  \n",
       "1  643980  2018  \n",
       "2  670290  2017  \n",
       "3  767400  2017  \n",
       "4  772540  2018  "
      ]
     },
     "execution_count": 11,
     "metadata": {},
     "output_type": "execute_result"
    }
   ],
   "source": [
    "steam.head()"
   ]
  },
  {
   "cell_type": "markdown",
   "metadata": {},
   "source": [
    "### Now we get rid of any null values that take space in our DataFrames"
   ]
  },
  {
   "cell_type": "code",
   "execution_count": 3,
   "metadata": {},
   "outputs": [
    {
     "data": {
      "text/plain": [
       "genres          0\n",
       "title           0\n",
       "release_date    0\n",
       "tags            0\n",
       "price           0\n",
       "id              0\n",
       "developer       0\n",
       "dtype: int64"
      ]
     },
     "execution_count": 3,
     "metadata": {},
     "output_type": "execute_result"
    }
   ],
   "source": [
    "steam.isnull().sum()"
   ]
  },
  {
   "cell_type": "markdown",
   "metadata": {},
   "source": [
    "We repeat this process for the remaining DataSets."
   ]
  },
  {
   "cell_type": "code",
   "execution_count": null,
   "metadata": {},
   "outputs": [],
   "source": [
    "itemsDF.isnull().sum()"
   ]
  },
  {
   "cell_type": "code",
   "execution_count": null,
   "metadata": {},
   "outputs": [],
   "source": [
    "reviewDF.isnull().sum()"
   ]
  },
  {
   "cell_type": "markdown",
   "metadata": {},
   "source": [
    "Save the DataFrames."
   ]
  },
  {
   "cell_type": "code",
   "execution_count": null,
   "metadata": {},
   "outputs": [],
   "source": [
    "import parquet\n",
    "import pyarrow\n",
    "import fastparquet\n",
    "reviewDF.to_parquet('./data/review.parquet', index = False)\n",
    "itemsDF.to_parquet('./data/items.parquet', index = False)\n",
    "steam.to_csv('./data/steam.csv', index = False, errors = 'replace')"
   ]
  },
  {
   "cell_type": "code",
   "execution_count": 57,
   "metadata": {},
   "outputs": [],
   "source": [
    "steam = pd.read_csv('./data/steam.csv', encoding = 'UTF-8')\n",
    "review = pd.read_parquet('./data/review.parquet')\n",
    "items = pd.read_parquet('./data/items.parquet')"
   ]
  },
  {
   "cell_type": "markdown",
   "metadata": {},
   "source": [
    "## Now we need to prepare the files we are going to use for each function. We do so by merging the DataSets and keeping the columns we need."
   ]
  },
  {
   "cell_type": "code",
   "execution_count": 60,
   "metadata": {},
   "outputs": [
    {
     "name": "stdout",
     "output_type": "stream",
     "text": [
      "<class 'pandas.core.frame.DataFrame'>\n",
      "RangeIndex: 28353 entries, 0 to 28352\n",
      "Data columns (total 7 columns):\n",
      " #   Column        Non-Null Count  Dtype  \n",
      "---  ------        --------------  -----  \n",
      " 0   genres        28353 non-null  object \n",
      " 1   title         28353 non-null  object \n",
      " 2   release_date  28353 non-null  object \n",
      " 3   tags          28353 non-null  object \n",
      " 4   price         28353 non-null  float64\n",
      " 5   id            28353 non-null  int64  \n",
      " 6   developer     28353 non-null  object \n",
      "dtypes: float64(1), int64(1), object(5)\n",
      "memory usage: 1.5+ MB\n"
     ]
    }
   ],
   "source": [
    "steam.info()"
   ]
  },
  {
   "cell_type": "code",
   "execution_count": 80,
   "metadata": {},
   "outputs": [
    {
     "data": {
      "text/html": [
       "<div>\n",
       "<style scoped>\n",
       "    .dataframe tbody tr th:only-of-type {\n",
       "        vertical-align: middle;\n",
       "    }\n",
       "\n",
       "    .dataframe tbody tr th {\n",
       "        vertical-align: top;\n",
       "    }\n",
       "\n",
       "    .dataframe thead th {\n",
       "        text-align: right;\n",
       "    }\n",
       "</style>\n",
       "<table border=\"1\" class=\"dataframe\">\n",
       "  <thead>\n",
       "    <tr style=\"text-align: right;\">\n",
       "      <th></th>\n",
       "      <th>genres</th>\n",
       "      <th>title</th>\n",
       "      <th>release_date</th>\n",
       "      <th>tags</th>\n",
       "      <th>price</th>\n",
       "      <th>id</th>\n",
       "      <th>developer</th>\n",
       "    </tr>\n",
       "  </thead>\n",
       "  <tbody>\n",
       "    <tr>\n",
       "      <th>0</th>\n",
       "      <td>['Action', 'Casual', 'Indie', 'Simulation', 'S...</td>\n",
       "      <td>Lost Summoner Kitty</td>\n",
       "      <td>2018-01-04</td>\n",
       "      <td>['Strategy', 'Action', 'Indie', 'Casual', 'Sim...</td>\n",
       "      <td>4.99</td>\n",
       "      <td>761140</td>\n",
       "      <td>Kotoshiro</td>\n",
       "    </tr>\n",
       "    <tr>\n",
       "      <th>1</th>\n",
       "      <td>['Free to Play', 'Indie', 'RPG', 'Strategy']</td>\n",
       "      <td>Ironbound</td>\n",
       "      <td>2018-01-04</td>\n",
       "      <td>['Free to Play', 'Strategy', 'Indie', 'RPG', '...</td>\n",
       "      <td>0.00</td>\n",
       "      <td>643980</td>\n",
       "      <td>Secret Level SRL</td>\n",
       "    </tr>\n",
       "  </tbody>\n",
       "</table>\n",
       "</div>"
      ],
      "text/plain": [
       "                                              genres                title  \\\n",
       "0  ['Action', 'Casual', 'Indie', 'Simulation', 'S...  Lost Summoner Kitty   \n",
       "1       ['Free to Play', 'Indie', 'RPG', 'Strategy']            Ironbound   \n",
       "\n",
       "  release_date                                               tags  price  \\\n",
       "0   2018-01-04  ['Strategy', 'Action', 'Indie', 'Casual', 'Sim...   4.99   \n",
       "1   2018-01-04  ['Free to Play', 'Strategy', 'Indie', 'RPG', '...   0.00   \n",
       "\n",
       "       id         developer  \n",
       "0  761140         Kotoshiro  \n",
       "1  643980  Secret Level SRL  "
      ]
     },
     "execution_count": 80,
     "metadata": {},
     "output_type": "execute_result"
    }
   ],
   "source": [
    "steam.head(2)"
   ]
  },
  {
   "cell_type": "code",
   "execution_count": 59,
   "metadata": {},
   "outputs": [
    {
     "name": "stdout",
     "output_type": "stream",
     "text": [
      "<class 'pandas.core.frame.DataFrame'>\n",
      "RangeIndex: 57568 entries, 0 to 57567\n",
      "Data columns (total 5 columns):\n",
      " #   Column              Non-Null Count  Dtype \n",
      "---  ------              --------------  ----- \n",
      " 0   user_id             57568 non-null  object\n",
      " 1   posted              57568 non-null  object\n",
      " 2   item_id             57568 non-null  object\n",
      " 3   recommend           57568 non-null  bool  \n",
      " 4   sentiment_analysis  57568 non-null  int64 \n",
      "dtypes: bool(1), int64(1), object(3)\n",
      "memory usage: 1.8+ MB\n"
     ]
    }
   ],
   "source": [
    "review.info()"
   ]
  },
  {
   "cell_type": "code",
   "execution_count": 81,
   "metadata": {},
   "outputs": [],
   "source": [
    "from ast import literal_eval\n",
    "steam['genres'] = steam['genres'].apply(literal_eval)\n",
    "df = steam.explode('genres')"
   ]
  },
  {
   "cell_type": "code",
   "execution_count": 82,
   "metadata": {},
   "outputs": [
    {
     "data": {
      "text/html": [
       "<div>\n",
       "<style scoped>\n",
       "    .dataframe tbody tr th:only-of-type {\n",
       "        vertical-align: middle;\n",
       "    }\n",
       "\n",
       "    .dataframe tbody tr th {\n",
       "        vertical-align: top;\n",
       "    }\n",
       "\n",
       "    .dataframe thead th {\n",
       "        text-align: right;\n",
       "    }\n",
       "</style>\n",
       "<table border=\"1\" class=\"dataframe\">\n",
       "  <thead>\n",
       "    <tr style=\"text-align: right;\">\n",
       "      <th></th>\n",
       "      <th>genres</th>\n",
       "      <th>title</th>\n",
       "      <th>release_date</th>\n",
       "      <th>tags</th>\n",
       "      <th>price</th>\n",
       "      <th>id</th>\n",
       "      <th>developer</th>\n",
       "    </tr>\n",
       "  </thead>\n",
       "  <tbody>\n",
       "    <tr>\n",
       "      <th>0</th>\n",
       "      <td>Action</td>\n",
       "      <td>Lost Summoner Kitty</td>\n",
       "      <td>2018-01-04</td>\n",
       "      <td>['Strategy', 'Action', 'Indie', 'Casual', 'Sim...</td>\n",
       "      <td>4.99</td>\n",
       "      <td>761140</td>\n",
       "      <td>Kotoshiro</td>\n",
       "    </tr>\n",
       "    <tr>\n",
       "      <th>0</th>\n",
       "      <td>Casual</td>\n",
       "      <td>Lost Summoner Kitty</td>\n",
       "      <td>2018-01-04</td>\n",
       "      <td>['Strategy', 'Action', 'Indie', 'Casual', 'Sim...</td>\n",
       "      <td>4.99</td>\n",
       "      <td>761140</td>\n",
       "      <td>Kotoshiro</td>\n",
       "    </tr>\n",
       "    <tr>\n",
       "      <th>0</th>\n",
       "      <td>Indie</td>\n",
       "      <td>Lost Summoner Kitty</td>\n",
       "      <td>2018-01-04</td>\n",
       "      <td>['Strategy', 'Action', 'Indie', 'Casual', 'Sim...</td>\n",
       "      <td>4.99</td>\n",
       "      <td>761140</td>\n",
       "      <td>Kotoshiro</td>\n",
       "    </tr>\n",
       "    <tr>\n",
       "      <th>0</th>\n",
       "      <td>Simulation</td>\n",
       "      <td>Lost Summoner Kitty</td>\n",
       "      <td>2018-01-04</td>\n",
       "      <td>['Strategy', 'Action', 'Indie', 'Casual', 'Sim...</td>\n",
       "      <td>4.99</td>\n",
       "      <td>761140</td>\n",
       "      <td>Kotoshiro</td>\n",
       "    </tr>\n",
       "    <tr>\n",
       "      <th>0</th>\n",
       "      <td>Strategy</td>\n",
       "      <td>Lost Summoner Kitty</td>\n",
       "      <td>2018-01-04</td>\n",
       "      <td>['Strategy', 'Action', 'Indie', 'Casual', 'Sim...</td>\n",
       "      <td>4.99</td>\n",
       "      <td>761140</td>\n",
       "      <td>Kotoshiro</td>\n",
       "    </tr>\n",
       "    <tr>\n",
       "      <th>...</th>\n",
       "      <td>...</td>\n",
       "      <td>...</td>\n",
       "      <td>...</td>\n",
       "      <td>...</td>\n",
       "      <td>...</td>\n",
       "      <td>...</td>\n",
       "      <td>...</td>\n",
       "    </tr>\n",
       "    <tr>\n",
       "      <th>28351</th>\n",
       "      <td>Indie</td>\n",
       "      <td>Russian Roads</td>\n",
       "      <td>2018-01-04</td>\n",
       "      <td>['Indie', 'Simulation', 'Racing']</td>\n",
       "      <td>1.99</td>\n",
       "      <td>610660</td>\n",
       "      <td>Laush Dmitriy Sergeevich</td>\n",
       "    </tr>\n",
       "    <tr>\n",
       "      <th>28351</th>\n",
       "      <td>Racing</td>\n",
       "      <td>Russian Roads</td>\n",
       "      <td>2018-01-04</td>\n",
       "      <td>['Indie', 'Simulation', 'Racing']</td>\n",
       "      <td>1.99</td>\n",
       "      <td>610660</td>\n",
       "      <td>Laush Dmitriy Sergeevich</td>\n",
       "    </tr>\n",
       "    <tr>\n",
       "      <th>28351</th>\n",
       "      <td>Simulation</td>\n",
       "      <td>Russian Roads</td>\n",
       "      <td>2018-01-04</td>\n",
       "      <td>['Indie', 'Simulation', 'Racing']</td>\n",
       "      <td>1.99</td>\n",
       "      <td>610660</td>\n",
       "      <td>Laush Dmitriy Sergeevich</td>\n",
       "    </tr>\n",
       "    <tr>\n",
       "      <th>28352</th>\n",
       "      <td>Casual</td>\n",
       "      <td>EXIT 2 - Directions</td>\n",
       "      <td>2017-09-02</td>\n",
       "      <td>['Indie', 'Casual', 'Puzzle', 'Singleplayer', ...</td>\n",
       "      <td>4.99</td>\n",
       "      <td>658870</td>\n",
       "      <td>xropi,stev3ns</td>\n",
       "    </tr>\n",
       "    <tr>\n",
       "      <th>28352</th>\n",
       "      <td>Indie</td>\n",
       "      <td>EXIT 2 - Directions</td>\n",
       "      <td>2017-09-02</td>\n",
       "      <td>['Indie', 'Casual', 'Puzzle', 'Singleplayer', ...</td>\n",
       "      <td>4.99</td>\n",
       "      <td>658870</td>\n",
       "      <td>xropi,stev3ns</td>\n",
       "    </tr>\n",
       "  </tbody>\n",
       "</table>\n",
       "<p>70305 rows × 7 columns</p>\n",
       "</div>"
      ],
      "text/plain": [
       "           genres                title release_date  \\\n",
       "0          Action  Lost Summoner Kitty   2018-01-04   \n",
       "0          Casual  Lost Summoner Kitty   2018-01-04   \n",
       "0           Indie  Lost Summoner Kitty   2018-01-04   \n",
       "0      Simulation  Lost Summoner Kitty   2018-01-04   \n",
       "0        Strategy  Lost Summoner Kitty   2018-01-04   \n",
       "...           ...                  ...          ...   \n",
       "28351       Indie        Russian Roads   2018-01-04   \n",
       "28351      Racing        Russian Roads   2018-01-04   \n",
       "28351  Simulation        Russian Roads   2018-01-04   \n",
       "28352      Casual  EXIT 2 - Directions   2017-09-02   \n",
       "28352       Indie  EXIT 2 - Directions   2017-09-02   \n",
       "\n",
       "                                                    tags  price      id  \\\n",
       "0      ['Strategy', 'Action', 'Indie', 'Casual', 'Sim...   4.99  761140   \n",
       "0      ['Strategy', 'Action', 'Indie', 'Casual', 'Sim...   4.99  761140   \n",
       "0      ['Strategy', 'Action', 'Indie', 'Casual', 'Sim...   4.99  761140   \n",
       "0      ['Strategy', 'Action', 'Indie', 'Casual', 'Sim...   4.99  761140   \n",
       "0      ['Strategy', 'Action', 'Indie', 'Casual', 'Sim...   4.99  761140   \n",
       "...                                                  ...    ...     ...   \n",
       "28351                  ['Indie', 'Simulation', 'Racing']   1.99  610660   \n",
       "28351                  ['Indie', 'Simulation', 'Racing']   1.99  610660   \n",
       "28351                  ['Indie', 'Simulation', 'Racing']   1.99  610660   \n",
       "28352  ['Indie', 'Casual', 'Puzzle', 'Singleplayer', ...   4.99  658870   \n",
       "28352  ['Indie', 'Casual', 'Puzzle', 'Singleplayer', ...   4.99  658870   \n",
       "\n",
       "                      developer  \n",
       "0                     Kotoshiro  \n",
       "0                     Kotoshiro  \n",
       "0                     Kotoshiro  \n",
       "0                     Kotoshiro  \n",
       "0                     Kotoshiro  \n",
       "...                         ...  \n",
       "28351  Laush Dmitriy Sergeevich  \n",
       "28351  Laush Dmitriy Sergeevich  \n",
       "28351  Laush Dmitriy Sergeevich  \n",
       "28352             xropi,stev3ns  \n",
       "28352             xropi,stev3ns  \n",
       "\n",
       "[70305 rows x 7 columns]"
      ]
     },
     "execution_count": 82,
     "metadata": {},
     "output_type": "execute_result"
    }
   ],
   "source": [
    "df"
   ]
  },
  {
   "cell_type": "markdown",
   "metadata": {},
   "source": [
    "We change the 'item_id' column type to int64 so that we can merge both datasets on a same data type"
   ]
  },
  {
   "cell_type": "code",
   "execution_count": 118,
   "metadata": {},
   "outputs": [],
   "source": [
    "items['item_id'] = items['item_id'].astype('int64')"
   ]
  },
  {
   "cell_type": "code",
   "execution_count": 119,
   "metadata": {},
   "outputs": [],
   "source": [
    "merged = pd.merge(steam, items, left_on = 'id', right_on = 'item_id', how = 'inner')"
   ]
  },
  {
   "cell_type": "code",
   "execution_count": 120,
   "metadata": {},
   "outputs": [
    {
     "data": {
      "text/html": [
       "<div>\n",
       "<style scoped>\n",
       "    .dataframe tbody tr th:only-of-type {\n",
       "        vertical-align: middle;\n",
       "    }\n",
       "\n",
       "    .dataframe tbody tr th {\n",
       "        vertical-align: top;\n",
       "    }\n",
       "\n",
       "    .dataframe thead th {\n",
       "        text-align: right;\n",
       "    }\n",
       "</style>\n",
       "<table border=\"1\" class=\"dataframe\">\n",
       "  <thead>\n",
       "    <tr style=\"text-align: right;\">\n",
       "      <th></th>\n",
       "      <th>genres</th>\n",
       "      <th>title</th>\n",
       "      <th>release_date</th>\n",
       "      <th>tags</th>\n",
       "      <th>price</th>\n",
       "      <th>id</th>\n",
       "      <th>developer</th>\n",
       "      <th>user_id</th>\n",
       "      <th>item_id</th>\n",
       "      <th>item_name</th>\n",
       "      <th>playtime_forever</th>\n",
       "      <th>playtime_2weeks</th>\n",
       "    </tr>\n",
       "  </thead>\n",
       "  <tbody>\n",
       "    <tr>\n",
       "      <th>0</th>\n",
       "      <td>[Action, Indie, Racing]</td>\n",
       "      <td>Carmageddon Max Pack</td>\n",
       "      <td>1997-06-30</td>\n",
       "      <td>['Racing', 'Action', 'Classic', 'Indie', 'Gore...</td>\n",
       "      <td>9.99</td>\n",
       "      <td>282010</td>\n",
       "      <td>Stainless Games Ltd</td>\n",
       "      <td>UTNerd24</td>\n",
       "      <td>282010</td>\n",
       "      <td>Carmageddon Max Pack</td>\n",
       "      <td>5</td>\n",
       "      <td>0</td>\n",
       "    </tr>\n",
       "    <tr>\n",
       "      <th>1</th>\n",
       "      <td>[Action, Indie, Racing]</td>\n",
       "      <td>Carmageddon Max Pack</td>\n",
       "      <td>1997-06-30</td>\n",
       "      <td>['Racing', 'Action', 'Classic', 'Indie', 'Gore...</td>\n",
       "      <td>9.99</td>\n",
       "      <td>282010</td>\n",
       "      <td>Stainless Games Ltd</td>\n",
       "      <td>I_DID_911_JUST_SAYING</td>\n",
       "      <td>282010</td>\n",
       "      <td>Carmageddon Max Pack</td>\n",
       "      <td>0</td>\n",
       "      <td>0</td>\n",
       "    </tr>\n",
       "    <tr>\n",
       "      <th>2</th>\n",
       "      <td>[Action, Indie, Racing]</td>\n",
       "      <td>Carmageddon Max Pack</td>\n",
       "      <td>1997-06-30</td>\n",
       "      <td>['Racing', 'Action', 'Classic', 'Indie', 'Gore...</td>\n",
       "      <td>9.99</td>\n",
       "      <td>282010</td>\n",
       "      <td>Stainless Games Ltd</td>\n",
       "      <td>76561197962104795</td>\n",
       "      <td>282010</td>\n",
       "      <td>Carmageddon Max Pack</td>\n",
       "      <td>0</td>\n",
       "      <td>0</td>\n",
       "    </tr>\n",
       "    <tr>\n",
       "      <th>3</th>\n",
       "      <td>[Action, Indie, Racing]</td>\n",
       "      <td>Carmageddon Max Pack</td>\n",
       "      <td>1997-06-30</td>\n",
       "      <td>['Racing', 'Action', 'Classic', 'Indie', 'Gore...</td>\n",
       "      <td>9.99</td>\n",
       "      <td>282010</td>\n",
       "      <td>Stainless Games Ltd</td>\n",
       "      <td>r3ap3r78</td>\n",
       "      <td>282010</td>\n",
       "      <td>Carmageddon Max Pack</td>\n",
       "      <td>0</td>\n",
       "      <td>0</td>\n",
       "    </tr>\n",
       "    <tr>\n",
       "      <th>4</th>\n",
       "      <td>[Action, Indie, Racing]</td>\n",
       "      <td>Carmageddon Max Pack</td>\n",
       "      <td>1997-06-30</td>\n",
       "      <td>['Racing', 'Action', 'Classic', 'Indie', 'Gore...</td>\n",
       "      <td>9.99</td>\n",
       "      <td>282010</td>\n",
       "      <td>Stainless Games Ltd</td>\n",
       "      <td>saint556</td>\n",
       "      <td>282010</td>\n",
       "      <td>Carmageddon Max Pack</td>\n",
       "      <td>13</td>\n",
       "      <td>0</td>\n",
       "    </tr>\n",
       "  </tbody>\n",
       "</table>\n",
       "</div>"
      ],
      "text/plain": [
       "                    genres                 title release_date  \\\n",
       "0  [Action, Indie, Racing]  Carmageddon Max Pack   1997-06-30   \n",
       "1  [Action, Indie, Racing]  Carmageddon Max Pack   1997-06-30   \n",
       "2  [Action, Indie, Racing]  Carmageddon Max Pack   1997-06-30   \n",
       "3  [Action, Indie, Racing]  Carmageddon Max Pack   1997-06-30   \n",
       "4  [Action, Indie, Racing]  Carmageddon Max Pack   1997-06-30   \n",
       "\n",
       "                                                tags  price      id  \\\n",
       "0  ['Racing', 'Action', 'Classic', 'Indie', 'Gore...   9.99  282010   \n",
       "1  ['Racing', 'Action', 'Classic', 'Indie', 'Gore...   9.99  282010   \n",
       "2  ['Racing', 'Action', 'Classic', 'Indie', 'Gore...   9.99  282010   \n",
       "3  ['Racing', 'Action', 'Classic', 'Indie', 'Gore...   9.99  282010   \n",
       "4  ['Racing', 'Action', 'Classic', 'Indie', 'Gore...   9.99  282010   \n",
       "\n",
       "             developer                user_id  item_id             item_name  \\\n",
       "0  Stainless Games Ltd               UTNerd24   282010  Carmageddon Max Pack   \n",
       "1  Stainless Games Ltd  I_DID_911_JUST_SAYING   282010  Carmageddon Max Pack   \n",
       "2  Stainless Games Ltd      76561197962104795   282010  Carmageddon Max Pack   \n",
       "3  Stainless Games Ltd               r3ap3r78   282010  Carmageddon Max Pack   \n",
       "4  Stainless Games Ltd               saint556   282010  Carmageddon Max Pack   \n",
       "\n",
       "   playtime_forever  playtime_2weeks  \n",
       "0                 5                0  \n",
       "1                 0                0  \n",
       "2                 0                0  \n",
       "3                 0                0  \n",
       "4                13                0  "
      ]
     },
     "execution_count": 120,
     "metadata": {},
     "output_type": "execute_result"
    }
   ],
   "source": [
    "merged.head()"
   ]
  },
  {
   "cell_type": "code",
   "execution_count": 121,
   "metadata": {},
   "outputs": [],
   "source": [
    "merged['year'] = pd.to_datetime(merged['release_date']).dt.year\n",
    "merged['year'] = merged['year'].astype('int64')"
   ]
  },
  {
   "cell_type": "code",
   "execution_count": 122,
   "metadata": {},
   "outputs": [
    {
     "data": {
      "text/html": [
       "<div>\n",
       "<style scoped>\n",
       "    .dataframe tbody tr th:only-of-type {\n",
       "        vertical-align: middle;\n",
       "    }\n",
       "\n",
       "    .dataframe tbody tr th {\n",
       "        vertical-align: top;\n",
       "    }\n",
       "\n",
       "    .dataframe thead th {\n",
       "        text-align: right;\n",
       "    }\n",
       "</style>\n",
       "<table border=\"1\" class=\"dataframe\">\n",
       "  <thead>\n",
       "    <tr style=\"text-align: right;\">\n",
       "      <th></th>\n",
       "      <th>genres</th>\n",
       "      <th>title</th>\n",
       "      <th>release_date</th>\n",
       "      <th>tags</th>\n",
       "      <th>price</th>\n",
       "      <th>id</th>\n",
       "      <th>developer</th>\n",
       "      <th>user_id</th>\n",
       "      <th>item_id</th>\n",
       "      <th>item_name</th>\n",
       "      <th>playtime_forever</th>\n",
       "      <th>playtime_2weeks</th>\n",
       "      <th>year</th>\n",
       "    </tr>\n",
       "  </thead>\n",
       "  <tbody>\n",
       "    <tr>\n",
       "      <th>0</th>\n",
       "      <td>[Action, Indie, Racing]</td>\n",
       "      <td>Carmageddon Max Pack</td>\n",
       "      <td>1997-06-30</td>\n",
       "      <td>['Racing', 'Action', 'Classic', 'Indie', 'Gore...</td>\n",
       "      <td>9.99</td>\n",
       "      <td>282010</td>\n",
       "      <td>Stainless Games Ltd</td>\n",
       "      <td>UTNerd24</td>\n",
       "      <td>282010</td>\n",
       "      <td>Carmageddon Max Pack</td>\n",
       "      <td>5</td>\n",
       "      <td>0</td>\n",
       "      <td>1997</td>\n",
       "    </tr>\n",
       "    <tr>\n",
       "      <th>1</th>\n",
       "      <td>[Action, Indie, Racing]</td>\n",
       "      <td>Carmageddon Max Pack</td>\n",
       "      <td>1997-06-30</td>\n",
       "      <td>['Racing', 'Action', 'Classic', 'Indie', 'Gore...</td>\n",
       "      <td>9.99</td>\n",
       "      <td>282010</td>\n",
       "      <td>Stainless Games Ltd</td>\n",
       "      <td>I_DID_911_JUST_SAYING</td>\n",
       "      <td>282010</td>\n",
       "      <td>Carmageddon Max Pack</td>\n",
       "      <td>0</td>\n",
       "      <td>0</td>\n",
       "      <td>1997</td>\n",
       "    </tr>\n",
       "    <tr>\n",
       "      <th>2</th>\n",
       "      <td>[Action, Indie, Racing]</td>\n",
       "      <td>Carmageddon Max Pack</td>\n",
       "      <td>1997-06-30</td>\n",
       "      <td>['Racing', 'Action', 'Classic', 'Indie', 'Gore...</td>\n",
       "      <td>9.99</td>\n",
       "      <td>282010</td>\n",
       "      <td>Stainless Games Ltd</td>\n",
       "      <td>76561197962104795</td>\n",
       "      <td>282010</td>\n",
       "      <td>Carmageddon Max Pack</td>\n",
       "      <td>0</td>\n",
       "      <td>0</td>\n",
       "      <td>1997</td>\n",
       "    </tr>\n",
       "    <tr>\n",
       "      <th>3</th>\n",
       "      <td>[Action, Indie, Racing]</td>\n",
       "      <td>Carmageddon Max Pack</td>\n",
       "      <td>1997-06-30</td>\n",
       "      <td>['Racing', 'Action', 'Classic', 'Indie', 'Gore...</td>\n",
       "      <td>9.99</td>\n",
       "      <td>282010</td>\n",
       "      <td>Stainless Games Ltd</td>\n",
       "      <td>r3ap3r78</td>\n",
       "      <td>282010</td>\n",
       "      <td>Carmageddon Max Pack</td>\n",
       "      <td>0</td>\n",
       "      <td>0</td>\n",
       "      <td>1997</td>\n",
       "    </tr>\n",
       "    <tr>\n",
       "      <th>4</th>\n",
       "      <td>[Action, Indie, Racing]</td>\n",
       "      <td>Carmageddon Max Pack</td>\n",
       "      <td>1997-06-30</td>\n",
       "      <td>['Racing', 'Action', 'Classic', 'Indie', 'Gore...</td>\n",
       "      <td>9.99</td>\n",
       "      <td>282010</td>\n",
       "      <td>Stainless Games Ltd</td>\n",
       "      <td>saint556</td>\n",
       "      <td>282010</td>\n",
       "      <td>Carmageddon Max Pack</td>\n",
       "      <td>13</td>\n",
       "      <td>0</td>\n",
       "      <td>1997</td>\n",
       "    </tr>\n",
       "  </tbody>\n",
       "</table>\n",
       "</div>"
      ],
      "text/plain": [
       "                    genres                 title release_date  \\\n",
       "0  [Action, Indie, Racing]  Carmageddon Max Pack   1997-06-30   \n",
       "1  [Action, Indie, Racing]  Carmageddon Max Pack   1997-06-30   \n",
       "2  [Action, Indie, Racing]  Carmageddon Max Pack   1997-06-30   \n",
       "3  [Action, Indie, Racing]  Carmageddon Max Pack   1997-06-30   \n",
       "4  [Action, Indie, Racing]  Carmageddon Max Pack   1997-06-30   \n",
       "\n",
       "                                                tags  price      id  \\\n",
       "0  ['Racing', 'Action', 'Classic', 'Indie', 'Gore...   9.99  282010   \n",
       "1  ['Racing', 'Action', 'Classic', 'Indie', 'Gore...   9.99  282010   \n",
       "2  ['Racing', 'Action', 'Classic', 'Indie', 'Gore...   9.99  282010   \n",
       "3  ['Racing', 'Action', 'Classic', 'Indie', 'Gore...   9.99  282010   \n",
       "4  ['Racing', 'Action', 'Classic', 'Indie', 'Gore...   9.99  282010   \n",
       "\n",
       "             developer                user_id  item_id             item_name  \\\n",
       "0  Stainless Games Ltd               UTNerd24   282010  Carmageddon Max Pack   \n",
       "1  Stainless Games Ltd  I_DID_911_JUST_SAYING   282010  Carmageddon Max Pack   \n",
       "2  Stainless Games Ltd      76561197962104795   282010  Carmageddon Max Pack   \n",
       "3  Stainless Games Ltd               r3ap3r78   282010  Carmageddon Max Pack   \n",
       "4  Stainless Games Ltd               saint556   282010  Carmageddon Max Pack   \n",
       "\n",
       "   playtime_forever  playtime_2weeks  year  \n",
       "0                 5                0  1997  \n",
       "1                 0                0  1997  \n",
       "2                 0                0  1997  \n",
       "3                 0                0  1997  \n",
       "4                13                0  1997  "
      ]
     },
     "execution_count": 122,
     "metadata": {},
     "output_type": "execute_result"
    }
   ],
   "source": [
    "merged.head()"
   ]
  },
  {
   "cell_type": "markdown",
   "metadata": {},
   "source": [
    "Delete the unnecesary columns"
   ]
  },
  {
   "cell_type": "code",
   "execution_count": 123,
   "metadata": {},
   "outputs": [],
   "source": [
    "merged.drop(['genres', 'playtime_2weeks', 'developer', 'release_date', 'price', 'item_id', 'tags', 'item_name'], axis = 1, inplace = True)"
   ]
  },
  {
   "cell_type": "code",
   "execution_count": 124,
   "metadata": {},
   "outputs": [
    {
     "data": {
      "text/html": [
       "<div>\n",
       "<style scoped>\n",
       "    .dataframe tbody tr th:only-of-type {\n",
       "        vertical-align: middle;\n",
       "    }\n",
       "\n",
       "    .dataframe tbody tr th {\n",
       "        vertical-align: top;\n",
       "    }\n",
       "\n",
       "    .dataframe thead th {\n",
       "        text-align: right;\n",
       "    }\n",
       "</style>\n",
       "<table border=\"1\" class=\"dataframe\">\n",
       "  <thead>\n",
       "    <tr style=\"text-align: right;\">\n",
       "      <th></th>\n",
       "      <th>title</th>\n",
       "      <th>id</th>\n",
       "      <th>user_id</th>\n",
       "      <th>playtime_forever</th>\n",
       "      <th>year</th>\n",
       "    </tr>\n",
       "  </thead>\n",
       "  <tbody>\n",
       "    <tr>\n",
       "      <th>0</th>\n",
       "      <td>Carmageddon Max Pack</td>\n",
       "      <td>282010</td>\n",
       "      <td>UTNerd24</td>\n",
       "      <td>5</td>\n",
       "      <td>1997</td>\n",
       "    </tr>\n",
       "    <tr>\n",
       "      <th>1</th>\n",
       "      <td>Carmageddon Max Pack</td>\n",
       "      <td>282010</td>\n",
       "      <td>I_DID_911_JUST_SAYING</td>\n",
       "      <td>0</td>\n",
       "      <td>1997</td>\n",
       "    </tr>\n",
       "    <tr>\n",
       "      <th>2</th>\n",
       "      <td>Carmageddon Max Pack</td>\n",
       "      <td>282010</td>\n",
       "      <td>76561197962104795</td>\n",
       "      <td>0</td>\n",
       "      <td>1997</td>\n",
       "    </tr>\n",
       "    <tr>\n",
       "      <th>3</th>\n",
       "      <td>Carmageddon Max Pack</td>\n",
       "      <td>282010</td>\n",
       "      <td>r3ap3r78</td>\n",
       "      <td>0</td>\n",
       "      <td>1997</td>\n",
       "    </tr>\n",
       "    <tr>\n",
       "      <th>4</th>\n",
       "      <td>Carmageddon Max Pack</td>\n",
       "      <td>282010</td>\n",
       "      <td>saint556</td>\n",
       "      <td>13</td>\n",
       "      <td>1997</td>\n",
       "    </tr>\n",
       "  </tbody>\n",
       "</table>\n",
       "</div>"
      ],
      "text/plain": [
       "                  title      id                user_id  playtime_forever  year\n",
       "0  Carmageddon Max Pack  282010               UTNerd24                 5  1997\n",
       "1  Carmageddon Max Pack  282010  I_DID_911_JUST_SAYING                 0  1997\n",
       "2  Carmageddon Max Pack  282010      76561197962104795                 0  1997\n",
       "3  Carmageddon Max Pack  282010               r3ap3r78                 0  1997\n",
       "4  Carmageddon Max Pack  282010               saint556                13  1997"
      ]
     },
     "execution_count": 124,
     "metadata": {},
     "output_type": "execute_result"
    }
   ],
   "source": [
    "merged.head()"
   ]
  },
  {
   "cell_type": "markdown",
   "metadata": {},
   "source": [
    "Now we can create a smaller file which will be more efficient in memory terms."
   ]
  },
  {
   "cell_type": "code",
   "execution_count": 33,
   "metadata": {},
   "outputs": [],
   "source": [
    "df2.to_parquet('./data/genre_functions.parquet', index = False)"
   ]
  },
  {
   "cell_type": "code",
   "execution_count": 39,
   "metadata": {},
   "outputs": [],
   "source": [
    "df = pd.read_parquet('./data/genre_functions.parquet')"
   ]
  },
  {
   "cell_type": "markdown",
   "metadata": {},
   "source": [
    "### Now we proceed creating a DataSet for our user system recommendation."
   ]
  },
  {
   "cell_type": "code",
   "execution_count": 125,
   "metadata": {},
   "outputs": [
    {
     "data": {
      "text/html": [
       "<div>\n",
       "<style scoped>\n",
       "    .dataframe tbody tr th:only-of-type {\n",
       "        vertical-align: middle;\n",
       "    }\n",
       "\n",
       "    .dataframe tbody tr th {\n",
       "        vertical-align: top;\n",
       "    }\n",
       "\n",
       "    .dataframe thead th {\n",
       "        text-align: right;\n",
       "    }\n",
       "</style>\n",
       "<table border=\"1\" class=\"dataframe\">\n",
       "  <thead>\n",
       "    <tr style=\"text-align: right;\">\n",
       "      <th></th>\n",
       "      <th>title</th>\n",
       "      <th>id</th>\n",
       "      <th>user_id</th>\n",
       "      <th>playtime_forever</th>\n",
       "      <th>year</th>\n",
       "    </tr>\n",
       "  </thead>\n",
       "  <tbody>\n",
       "    <tr>\n",
       "      <th>0</th>\n",
       "      <td>Carmageddon Max Pack</td>\n",
       "      <td>282010</td>\n",
       "      <td>UTNerd24</td>\n",
       "      <td>5</td>\n",
       "      <td>1997</td>\n",
       "    </tr>\n",
       "  </tbody>\n",
       "</table>\n",
       "</div>"
      ],
      "text/plain": [
       "                  title      id   user_id  playtime_forever  year\n",
       "0  Carmageddon Max Pack  282010  UTNerd24                 5  1997"
      ]
     },
     "execution_count": 125,
     "metadata": {},
     "output_type": "execute_result"
    }
   ],
   "source": [
    "merged.head(1)"
   ]
  },
  {
   "cell_type": "code",
   "execution_count": 126,
   "metadata": {},
   "outputs": [
    {
     "data": {
      "text/html": [
       "<div>\n",
       "<style scoped>\n",
       "    .dataframe tbody tr th:only-of-type {\n",
       "        vertical-align: middle;\n",
       "    }\n",
       "\n",
       "    .dataframe tbody tr th {\n",
       "        vertical-align: top;\n",
       "    }\n",
       "\n",
       "    .dataframe thead th {\n",
       "        text-align: right;\n",
       "    }\n",
       "</style>\n",
       "<table border=\"1\" class=\"dataframe\">\n",
       "  <thead>\n",
       "    <tr style=\"text-align: right;\">\n",
       "      <th></th>\n",
       "      <th>user_id</th>\n",
       "      <th>posted</th>\n",
       "      <th>item_id</th>\n",
       "      <th>recommend</th>\n",
       "      <th>sentiment_analysis</th>\n",
       "    </tr>\n",
       "  </thead>\n",
       "  <tbody>\n",
       "    <tr>\n",
       "      <th>0</th>\n",
       "      <td>76561197970982479</td>\n",
       "      <td>November 5, 2011.</td>\n",
       "      <td>1250</td>\n",
       "      <td>True</td>\n",
       "      <td>2</td>\n",
       "    </tr>\n",
       "  </tbody>\n",
       "</table>\n",
       "</div>"
      ],
      "text/plain": [
       "             user_id             posted item_id  recommend  sentiment_analysis\n",
       "0  76561197970982479  November 5, 2011.    1250       True                   2"
      ]
     },
     "execution_count": 126,
     "metadata": {},
     "output_type": "execute_result"
    }
   ],
   "source": [
    "review.head(1)"
   ]
  },
  {
   "cell_type": "code",
   "execution_count": 127,
   "metadata": {},
   "outputs": [],
   "source": [
    "df3 = pd.merge(merged, review, on = 'user_id', how = 'inner')"
   ]
  },
  {
   "cell_type": "code",
   "execution_count": 128,
   "metadata": {},
   "outputs": [
    {
     "data": {
      "text/html": [
       "<div>\n",
       "<style scoped>\n",
       "    .dataframe tbody tr th:only-of-type {\n",
       "        vertical-align: middle;\n",
       "    }\n",
       "\n",
       "    .dataframe tbody tr th {\n",
       "        vertical-align: top;\n",
       "    }\n",
       "\n",
       "    .dataframe thead th {\n",
       "        text-align: right;\n",
       "    }\n",
       "</style>\n",
       "<table border=\"1\" class=\"dataframe\">\n",
       "  <thead>\n",
       "    <tr style=\"text-align: right;\">\n",
       "      <th></th>\n",
       "      <th>title</th>\n",
       "      <th>id</th>\n",
       "      <th>user_id</th>\n",
       "      <th>playtime_forever</th>\n",
       "      <th>year</th>\n",
       "      <th>posted</th>\n",
       "      <th>item_id</th>\n",
       "      <th>recommend</th>\n",
       "      <th>sentiment_analysis</th>\n",
       "    </tr>\n",
       "  </thead>\n",
       "  <tbody>\n",
       "    <tr>\n",
       "      <th>0</th>\n",
       "      <td>Carmageddon Max Pack</td>\n",
       "      <td>282010</td>\n",
       "      <td>UTNerd24</td>\n",
       "      <td>5</td>\n",
       "      <td>1997</td>\n",
       "      <td>May 6, 2014.</td>\n",
       "      <td>244210</td>\n",
       "      <td>True</td>\n",
       "      <td>0</td>\n",
       "    </tr>\n",
       "    <tr>\n",
       "      <th>1</th>\n",
       "      <td>Carmageddon Max Pack</td>\n",
       "      <td>282010</td>\n",
       "      <td>UTNerd24</td>\n",
       "      <td>5</td>\n",
       "      <td>1997</td>\n",
       "      <td>December 2, 2015.</td>\n",
       "      <td>440</td>\n",
       "      <td>True</td>\n",
       "      <td>0</td>\n",
       "    </tr>\n",
       "  </tbody>\n",
       "</table>\n",
       "</div>"
      ],
      "text/plain": [
       "                  title      id   user_id  playtime_forever  year  \\\n",
       "0  Carmageddon Max Pack  282010  UTNerd24                 5  1997   \n",
       "1  Carmageddon Max Pack  282010  UTNerd24                 5  1997   \n",
       "\n",
       "              posted item_id  recommend  sentiment_analysis  \n",
       "0       May 6, 2014.  244210       True                   0  \n",
       "1  December 2, 2015.     440       True                   0  "
      ]
     },
     "execution_count": 128,
     "metadata": {},
     "output_type": "execute_result"
    }
   ],
   "source": [
    "df3.head(2)"
   ]
  },
  {
   "cell_type": "markdown",
   "metadata": {},
   "source": [
    "Once our DataSet has all the columns we need, we proceed to save it."
   ]
  },
  {
   "cell_type": "code",
   "execution_count": null,
   "metadata": {},
   "outputs": [],
   "source": [
    "df3.to_parquet('./data/recommendations.parquet')"
   ]
  },
  {
   "cell_type": "code",
   "execution_count": 23,
   "metadata": {},
   "outputs": [],
   "source": [
    "items = pd.read_parquet('./data/items.parquet')"
   ]
  },
  {
   "cell_type": "markdown",
   "metadata": {},
   "source": [
    "#### We check how much memory is allocated in order to manipulate the 'items' DataFrame"
   ]
  },
  {
   "cell_type": "code",
   "execution_count": 54,
   "metadata": {},
   "outputs": [
    {
     "name": "stdout",
     "output_type": "stream",
     "text": [
      "<class 'pandas.core.frame.DataFrame'>\n",
      "RangeIndex: 5094082 entries, 0 to 5094081\n",
      "Data columns (total 4 columns):\n",
      " #   Column            Dtype \n",
      "---  ------            ----- \n",
      " 0   user_id           string\n",
      " 1   item_id           int32 \n",
      " 2   item_name         string\n",
      " 3   playtime_forever  int32 \n",
      "dtypes: int32(2), string(2)\n",
      "memory usage: 116.6 MB\n"
     ]
    }
   ],
   "source": [
    "items.info()"
   ]
  },
  {
   "cell_type": "markdown",
   "metadata": {},
   "source": [
    "#### There is a lot of memory waste since ``object`` ``dtype`` requieres more memory than an ``int32`` ``dtype``."
   ]
  },
  {
   "cell_type": "markdown",
   "metadata": {},
   "source": [
    "#### We change all of the DataFrames type, to have a better memory management"
   ]
  },
  {
   "cell_type": "code",
   "execution_count": 27,
   "metadata": {},
   "outputs": [],
   "source": [
    "items['playtime_forever'] = items['playtime_forever'].astype('int32')\n",
    "items['item_id'] = items['item_id'].astype('int32')\n",
    "items['user_id'] = items['user_id'].astype('category')\n",
    "items['item_name'] = items['item_name'].astype('category')"
   ]
  },
  {
   "cell_type": "code",
   "execution_count": 28,
   "metadata": {},
   "outputs": [
    {
     "name": "stdout",
     "output_type": "stream",
     "text": [
      "<class 'pandas.core.frame.DataFrame'>\n",
      "RangeIndex: 5094082 entries, 0 to 5094081\n",
      "Data columns (total 4 columns):\n",
      " #   Column            Dtype   \n",
      "---  ------            -----   \n",
      " 0   user_id           category\n",
      " 1   item_id           int32   \n",
      " 2   item_name         category\n",
      " 3   playtime_forever  int32   \n",
      "dtypes: category(2), int32(2)\n",
      "memory usage: 70.9 MB\n"
     ]
    }
   ],
   "source": [
    "items.info()"
   ]
  },
  {
   "cell_type": "markdown",
   "metadata": {},
   "source": [
    "# We gained 38.9 MB of memory"
   ]
  },
  {
   "cell_type": "markdown",
   "metadata": {},
   "source": [
    "## We overwrite our previous file, which was larger."
   ]
  },
  {
   "cell_type": "code",
   "execution_count": 29,
   "metadata": {},
   "outputs": [],
   "source": [
    "items.to_parquet('./data/items.parquet')"
   ]
  },
  {
   "cell_type": "markdown",
   "metadata": {},
   "source": [
    "### We proceed the same with the remaining DataFrames"
   ]
  },
  {
   "cell_type": "code",
   "execution_count": 62,
   "metadata": {},
   "outputs": [
    {
     "data": {
      "text/html": [
       "<div>\n",
       "<style scoped>\n",
       "    .dataframe tbody tr th:only-of-type {\n",
       "        vertical-align: middle;\n",
       "    }\n",
       "\n",
       "    .dataframe tbody tr th {\n",
       "        vertical-align: top;\n",
       "    }\n",
       "\n",
       "    .dataframe thead th {\n",
       "        text-align: right;\n",
       "    }\n",
       "</style>\n",
       "<table border=\"1\" class=\"dataframe\">\n",
       "  <thead>\n",
       "    <tr style=\"text-align: right;\">\n",
       "      <th></th>\n",
       "      <th>genres</th>\n",
       "      <th>year</th>\n",
       "      <th>user_id</th>\n",
       "      <th>playtime_forever</th>\n",
       "      <th>title</th>\n",
       "    </tr>\n",
       "  </thead>\n",
       "  <tbody>\n",
       "    <tr>\n",
       "      <th>0</th>\n",
       "      <td>Action</td>\n",
       "      <td>1997</td>\n",
       "      <td>UTNerd24</td>\n",
       "      <td>5</td>\n",
       "      <td>Lost Summoner Kitty</td>\n",
       "    </tr>\n",
       "    <tr>\n",
       "      <th>1</th>\n",
       "      <td>Action</td>\n",
       "      <td>1997</td>\n",
       "      <td>I_DID_911_JUST_SAYING</td>\n",
       "      <td>0</td>\n",
       "      <td>Ironbound</td>\n",
       "    </tr>\n",
       "    <tr>\n",
       "      <th>2</th>\n",
       "      <td>Action</td>\n",
       "      <td>1997</td>\n",
       "      <td>76561197962104795</td>\n",
       "      <td>0</td>\n",
       "      <td>Real Pool 3D - Poolians</td>\n",
       "    </tr>\n",
       "    <tr>\n",
       "      <th>3</th>\n",
       "      <td>Action</td>\n",
       "      <td>1997</td>\n",
       "      <td>r3ap3r78</td>\n",
       "      <td>0</td>\n",
       "      <td>弹炸人2222</td>\n",
       "    </tr>\n",
       "    <tr>\n",
       "      <th>4</th>\n",
       "      <td>Action</td>\n",
       "      <td>1997</td>\n",
       "      <td>saint556</td>\n",
       "      <td>13</td>\n",
       "      <td>Battle Royale Trainer</td>\n",
       "    </tr>\n",
       "    <tr>\n",
       "      <th>...</th>\n",
       "      <td>...</td>\n",
       "      <td>...</td>\n",
       "      <td>...</td>\n",
       "      <td>...</td>\n",
       "      <td>...</td>\n",
       "    </tr>\n",
       "    <tr>\n",
       "      <th>9761456</th>\n",
       "      <td>Action</td>\n",
       "      <td>2004</td>\n",
       "      <td>76561198273508956</td>\n",
       "      <td>0</td>\n",
       "      <td>NaN</td>\n",
       "    </tr>\n",
       "    <tr>\n",
       "      <th>9761457</th>\n",
       "      <td>Action</td>\n",
       "      <td>2004</td>\n",
       "      <td>76561198282090798</td>\n",
       "      <td>0</td>\n",
       "      <td>NaN</td>\n",
       "    </tr>\n",
       "    <tr>\n",
       "      <th>9761458</th>\n",
       "      <td>Action</td>\n",
       "      <td>2004</td>\n",
       "      <td>943525</td>\n",
       "      <td>0</td>\n",
       "      <td>NaN</td>\n",
       "    </tr>\n",
       "    <tr>\n",
       "      <th>9761459</th>\n",
       "      <td>Action</td>\n",
       "      <td>2004</td>\n",
       "      <td>76561198283312749</td>\n",
       "      <td>9</td>\n",
       "      <td>NaN</td>\n",
       "    </tr>\n",
       "    <tr>\n",
       "      <th>9761460</th>\n",
       "      <td>Action</td>\n",
       "      <td>2004</td>\n",
       "      <td>76561198312638244</td>\n",
       "      <td>99</td>\n",
       "      <td>NaN</td>\n",
       "    </tr>\n",
       "  </tbody>\n",
       "</table>\n",
       "<p>9761461 rows × 5 columns</p>\n",
       "</div>"
      ],
      "text/plain": [
       "         genres  year                user_id  playtime_forever  \\\n",
       "0        Action  1997               UTNerd24                 5   \n",
       "1        Action  1997  I_DID_911_JUST_SAYING                 0   \n",
       "2        Action  1997      76561197962104795                 0   \n",
       "3        Action  1997               r3ap3r78                 0   \n",
       "4        Action  1997               saint556                13   \n",
       "...         ...   ...                    ...               ...   \n",
       "9761456  Action  2004      76561198273508956                 0   \n",
       "9761457  Action  2004      76561198282090798                 0   \n",
       "9761458  Action  2004                 943525                 0   \n",
       "9761459  Action  2004      76561198283312749                 9   \n",
       "9761460  Action  2004      76561198312638244                99   \n",
       "\n",
       "                           title  \n",
       "0            Lost Summoner Kitty  \n",
       "1                      Ironbound  \n",
       "2        Real Pool 3D - Poolians  \n",
       "3                        弹炸人2222  \n",
       "4          Battle Royale Trainer  \n",
       "...                          ...  \n",
       "9761456                      NaN  \n",
       "9761457                      NaN  \n",
       "9761458                      NaN  \n",
       "9761459                      NaN  \n",
       "9761460                      NaN  \n",
       "\n",
       "[9761461 rows x 5 columns]"
      ]
     },
     "execution_count": 62,
     "metadata": {},
     "output_type": "execute_result"
    }
   ],
   "source": [
    "recommend =pd.read_parquet('./data/recommendations.parquet')\n",
    "recommend"
   ]
  },
  {
   "cell_type": "code",
   "execution_count": 37,
   "metadata": {},
   "outputs": [
    {
     "name": "stdout",
     "output_type": "stream",
     "text": [
      "<class 'pandas.core.frame.DataFrame'>\n",
      "RangeIndex: 9761461 entries, 0 to 9761460\n",
      "Data columns (total 4 columns):\n",
      " #   Column            Dtype \n",
      "---  ------            ----- \n",
      " 0   genres            object\n",
      " 1   year              int16 \n",
      " 2   user_id           object\n",
      " 3   playtime_forever  int32 \n",
      "dtypes: int16(1), int32(1), object(2)\n",
      "memory usage: 204.8+ MB\n"
     ]
    }
   ],
   "source": [
    "recommend.info()"
   ]
  },
  {
   "cell_type": "markdown",
   "metadata": {},
   "source": [
    "## There is a lot of memory waste in this DataFrame, for instance the `sentiment_analysis` column uses 64bits to store single-digit numbers"
   ]
  },
  {
   "cell_type": "code",
   "execution_count": null,
   "metadata": {},
   "outputs": [],
   "source": [
    "recommend['playtime_forever'] = recommend['playtime_forever'].astype('int32')\n",
    "recommend['year'] = recommend['year'].astype('int16')\n",
    "recommend['item_id'] = recommend['item_id'].astype('int32')\n",
    "recommend['recommend'] = recommend['recommend'].astype('bool')\n",
    "recommend['sentiment_analysis'] = recommend['sentiment_analysis'].astype('int8')\n",
    "recommend['user_id'] = recommend['user_id'].astype('category')\n"
   ]
  },
  {
   "cell_type": "code",
   "execution_count": 77,
   "metadata": {},
   "outputs": [
    {
     "name": "stdout",
     "output_type": "stream",
     "text": [
      "<class 'pandas.core.frame.DataFrame'>\n",
      "RangeIndex: 9761461 entries, 0 to 9761460\n",
      "Data columns (total 7 columns):\n",
      " #   Column              Dtype   \n",
      "---  ------              -----   \n",
      " 0   genres              category\n",
      " 1   year                int16   \n",
      " 2   user_id             category\n",
      " 3   playtime_forever    int32   \n",
      " 4   title               category\n",
      " 5   sentiment_analysis  int8    \n",
      " 6   recommend           bool    \n",
      "dtypes: bool(1), category(3), int16(1), int32(1), int8(1)\n",
      "memory usage: 143.4 MB\n"
     ]
    }
   ],
   "source": [
    "recommend.info()"
   ]
  },
  {
   "cell_type": "markdown",
   "metadata": {},
   "source": [
    "## We saved 102 MB of memory"
   ]
  },
  {
   "cell_type": "code",
   "execution_count": 78,
   "metadata": {},
   "outputs": [
    {
     "name": "stdout",
     "output_type": "stream",
     "text": [
      "<class 'pandas.core.frame.DataFrame'>\n",
      "RangeIndex: 9761461 entries, 0 to 9761460\n",
      "Data columns (total 7 columns):\n",
      " #   Column              Dtype   \n",
      "---  ------              -----   \n",
      " 0   genres              category\n",
      " 1   year                int16   \n",
      " 2   user_id             category\n",
      " 3   playtime_forever    int32   \n",
      " 4   title               category\n",
      " 5   sentiment_analysis  int8    \n",
      " 6   recommend           bool    \n",
      "dtypes: bool(1), category(3), int16(1), int32(1), int8(1)\n",
      "memory usage: 143.4 MB\n"
     ]
    }
   ],
   "source": [
    "# Finally, delete unnecesary columns\n",
    "# recommend.drop(['item_id', 'id', 'user_id', 'posted'], axis = 1, inplace=True)\n",
    "recommend.info()"
   ]
  },
  {
   "cell_type": "code",
   "execution_count": 79,
   "metadata": {},
   "outputs": [],
   "source": [
    "# We overwrite the file\n",
    "recommend.to_parquet('./data/recommendations.parquet')"
   ]
  },
  {
   "cell_type": "code",
   "execution_count": 30,
   "metadata": {},
   "outputs": [],
   "source": [
    "genre_functions = pd.read_parquet('./data/genre_functions.parquet')"
   ]
  },
  {
   "cell_type": "markdown",
   "metadata": {},
   "source": [
    "### Inspect the DataFrame"
   ]
  },
  {
   "cell_type": "code",
   "execution_count": 40,
   "metadata": {},
   "outputs": [
    {
     "name": "stdout",
     "output_type": "stream",
     "text": [
      "<class 'pandas.core.frame.DataFrame'>\n",
      "RangeIndex: 9761461 entries, 0 to 9761460\n",
      "Data columns (total 4 columns):\n",
      " #   Column            Dtype   \n",
      "---  ------            -----   \n",
      " 0   genres            category\n",
      " 1   year              int16   \n",
      " 2   user_id           category\n",
      " 3   playtime_forever  int32   \n",
      "dtypes: category(2), int16(1), int32(1)\n",
      "memory usage: 104.9 MB\n"
     ]
    }
   ],
   "source": [
    "genre_functions.info()"
   ]
  },
  {
   "cell_type": "code",
   "execution_count": 32,
   "metadata": {},
   "outputs": [
    {
     "data": {
      "text/html": [
       "<div>\n",
       "<style scoped>\n",
       "    .dataframe tbody tr th:only-of-type {\n",
       "        vertical-align: middle;\n",
       "    }\n",
       "\n",
       "    .dataframe tbody tr th {\n",
       "        vertical-align: top;\n",
       "    }\n",
       "\n",
       "    .dataframe thead th {\n",
       "        text-align: right;\n",
       "    }\n",
       "</style>\n",
       "<table border=\"1\" class=\"dataframe\">\n",
       "  <thead>\n",
       "    <tr style=\"text-align: right;\">\n",
       "      <th></th>\n",
       "      <th>genres</th>\n",
       "      <th>year</th>\n",
       "      <th>user_id</th>\n",
       "      <th>playtime_forever</th>\n",
       "    </tr>\n",
       "  </thead>\n",
       "  <tbody>\n",
       "    <tr>\n",
       "      <th>0</th>\n",
       "      <td>Action</td>\n",
       "      <td>1997</td>\n",
       "      <td>UTNerd24</td>\n",
       "      <td>5</td>\n",
       "    </tr>\n",
       "    <tr>\n",
       "      <th>1</th>\n",
       "      <td>Action</td>\n",
       "      <td>1997</td>\n",
       "      <td>I_DID_911_JUST_SAYING</td>\n",
       "      <td>0</td>\n",
       "    </tr>\n",
       "    <tr>\n",
       "      <th>2</th>\n",
       "      <td>Action</td>\n",
       "      <td>1997</td>\n",
       "      <td>76561197962104795</td>\n",
       "      <td>0</td>\n",
       "    </tr>\n",
       "    <tr>\n",
       "      <th>3</th>\n",
       "      <td>Action</td>\n",
       "      <td>1997</td>\n",
       "      <td>r3ap3r78</td>\n",
       "      <td>0</td>\n",
       "    </tr>\n",
       "    <tr>\n",
       "      <th>4</th>\n",
       "      <td>Action</td>\n",
       "      <td>1997</td>\n",
       "      <td>saint556</td>\n",
       "      <td>13</td>\n",
       "    </tr>\n",
       "  </tbody>\n",
       "</table>\n",
       "</div>"
      ],
      "text/plain": [
       "   genres  year                user_id  playtime_forever\n",
       "0  Action  1997               UTNerd24                 5\n",
       "1  Action  1997  I_DID_911_JUST_SAYING                 0\n",
       "2  Action  1997      76561197962104795                 0\n",
       "3  Action  1997               r3ap3r78                 0\n",
       "4  Action  1997               saint556                13"
      ]
     },
     "execution_count": 32,
     "metadata": {},
     "output_type": "execute_result"
    }
   ],
   "source": [
    "genre_functions.head()"
   ]
  },
  {
   "cell_type": "code",
   "execution_count": 33,
   "metadata": {},
   "outputs": [],
   "source": [
    "genre_functions['year'] = genre_functions['year'].astype('int16')\n",
    "genre_functions['playtime_forever'] = genre_functions['playtime_forever'].astype('int32')\n",
    "genre_functions['genres'] = genre_functions['genres'].astype('category')\n",
    "genre_functions['user_id'] = genre_functions['user_id'].astype('category')"
   ]
  },
  {
   "cell_type": "code",
   "execution_count": 34,
   "metadata": {},
   "outputs": [
    {
     "name": "stdout",
     "output_type": "stream",
     "text": [
      "<class 'pandas.core.frame.DataFrame'>\n",
      "RangeIndex: 9761461 entries, 0 to 9761460\n",
      "Data columns (total 4 columns):\n",
      " #   Column            Dtype   \n",
      "---  ------            -----   \n",
      " 0   genres            category\n",
      " 1   year              int16   \n",
      " 2   user_id           category\n",
      " 3   playtime_forever  int32   \n",
      "dtypes: category(2), int16(1), int32(1)\n",
      "memory usage: 104.9 MB\n"
     ]
    }
   ],
   "source": [
    "genre_functions.info()"
   ]
  },
  {
   "cell_type": "code",
   "execution_count": 35,
   "metadata": {},
   "outputs": [],
   "source": [
    "genre_functions.to_parquet('./data/genre_functions.parquet')"
   ]
  },
  {
   "cell_type": "markdown",
   "metadata": {},
   "source": [
    "## Create the smallest DataFrame possible, one for each function."
   ]
  },
  {
   "cell_type": "code",
   "execution_count": 91,
   "metadata": {},
   "outputs": [],
   "source": [
    "f1 = pd.read_parquet('./data/genre_functions.parquet')"
   ]
  },
  {
   "cell_type": "code",
   "execution_count": 92,
   "metadata": {},
   "outputs": [],
   "source": [
    "f1 = f1.drop('user_id', axis=1)"
   ]
  },
  {
   "cell_type": "code",
   "execution_count": 93,
   "metadata": {},
   "outputs": [
    {
     "name": "stdout",
     "output_type": "stream",
     "text": [
      "<class 'pandas.core.frame.DataFrame'>\n",
      "RangeIndex: 9761461 entries, 0 to 9761460\n",
      "Data columns (total 3 columns):\n",
      " #   Column            Dtype   \n",
      "---  ------            -----   \n",
      " 0   genres            category\n",
      " 1   year              int16   \n",
      " 2   playtime_forever  int32   \n",
      "dtypes: category(1), int16(1), int32(1)\n",
      "memory usage: 65.2 MB\n"
     ]
    }
   ],
   "source": [
    "f1.info()"
   ]
  },
  {
   "cell_type": "code",
   "execution_count": 95,
   "metadata": {},
   "outputs": [],
   "source": [
    "f1['playtime_forever']= f1['playtime_forever'].astype('int16')"
   ]
  },
  {
   "cell_type": "code",
   "execution_count": 98,
   "metadata": {},
   "outputs": [],
   "source": [
    "f1.to_parquet('./data/f1.parquet')"
   ]
  },
  {
   "cell_type": "code",
   "execution_count": 99,
   "metadata": {},
   "outputs": [],
   "source": [
    "f2 = pd.read_parquet('./data/genre_functions.parquet')"
   ]
  },
  {
   "cell_type": "code",
   "execution_count": 100,
   "metadata": {},
   "outputs": [],
   "source": [
    "f2.to_parquet('./data/f2.parquet')"
   ]
  },
  {
   "cell_type": "code",
   "execution_count": 101,
   "metadata": {},
   "outputs": [],
   "source": [
    "f3 = pd.read_parquet('./data/recommendations.parquet')"
   ]
  },
  {
   "cell_type": "markdown",
   "metadata": {},
   "source": [
    "title,year,recommend,user_id,sentiment_analysis"
   ]
  },
  {
   "cell_type": "code",
   "execution_count": null,
   "metadata": {},
   "outputs": [],
   "source": [
    "f3= f3.drop(['genres', 'playtime_forever'], axis=1, inplace=True)"
   ]
  },
  {
   "cell_type": "code",
   "execution_count": 115,
   "metadata": {},
   "outputs": [
    {
     "data": {
      "text/html": [
       "<div>\n",
       "<style scoped>\n",
       "    .dataframe tbody tr th:only-of-type {\n",
       "        vertical-align: middle;\n",
       "    }\n",
       "\n",
       "    .dataframe tbody tr th {\n",
       "        vertical-align: top;\n",
       "    }\n",
       "\n",
       "    .dataframe thead th {\n",
       "        text-align: right;\n",
       "    }\n",
       "</style>\n",
       "<table border=\"1\" class=\"dataframe\">\n",
       "  <thead>\n",
       "    <tr style=\"text-align: right;\">\n",
       "      <th></th>\n",
       "      <th>year</th>\n",
       "      <th>user_id</th>\n",
       "      <th>title</th>\n",
       "      <th>sentiment_analysis</th>\n",
       "      <th>recommend</th>\n",
       "    </tr>\n",
       "  </thead>\n",
       "  <tbody>\n",
       "    <tr>\n",
       "      <th>0</th>\n",
       "      <td>1997</td>\n",
       "      <td>UTNerd24</td>\n",
       "      <td>Lost Summoner Kitty</td>\n",
       "      <td>2</td>\n",
       "      <td>True</td>\n",
       "    </tr>\n",
       "    <tr>\n",
       "      <th>1</th>\n",
       "      <td>1997</td>\n",
       "      <td>I_DID_911_JUST_SAYING</td>\n",
       "      <td>Ironbound</td>\n",
       "      <td>2</td>\n",
       "      <td>True</td>\n",
       "    </tr>\n",
       "    <tr>\n",
       "      <th>2</th>\n",
       "      <td>1997</td>\n",
       "      <td>76561197962104795</td>\n",
       "      <td>Real Pool 3D - Poolians</td>\n",
       "      <td>2</td>\n",
       "      <td>True</td>\n",
       "    </tr>\n",
       "    <tr>\n",
       "      <th>3</th>\n",
       "      <td>1997</td>\n",
       "      <td>r3ap3r78</td>\n",
       "      <td>弹炸人2222</td>\n",
       "      <td>2</td>\n",
       "      <td>True</td>\n",
       "    </tr>\n",
       "    <tr>\n",
       "      <th>4</th>\n",
       "      <td>1997</td>\n",
       "      <td>saint556</td>\n",
       "      <td>Battle Royale Trainer</td>\n",
       "      <td>0</td>\n",
       "      <td>True</td>\n",
       "    </tr>\n",
       "    <tr>\n",
       "      <th>...</th>\n",
       "      <td>...</td>\n",
       "      <td>...</td>\n",
       "      <td>...</td>\n",
       "      <td>...</td>\n",
       "      <td>...</td>\n",
       "    </tr>\n",
       "    <tr>\n",
       "      <th>9761456</th>\n",
       "      <td>2004</td>\n",
       "      <td>76561198273508956</td>\n",
       "      <td>NaN</td>\n",
       "      <td>0</td>\n",
       "      <td>True</td>\n",
       "    </tr>\n",
       "    <tr>\n",
       "      <th>9761457</th>\n",
       "      <td>2004</td>\n",
       "      <td>76561198282090798</td>\n",
       "      <td>NaN</td>\n",
       "      <td>0</td>\n",
       "      <td>True</td>\n",
       "    </tr>\n",
       "    <tr>\n",
       "      <th>9761458</th>\n",
       "      <td>2004</td>\n",
       "      <td>943525</td>\n",
       "      <td>NaN</td>\n",
       "      <td>0</td>\n",
       "      <td>True</td>\n",
       "    </tr>\n",
       "    <tr>\n",
       "      <th>9761459</th>\n",
       "      <td>2004</td>\n",
       "      <td>76561198283312749</td>\n",
       "      <td>NaN</td>\n",
       "      <td>0</td>\n",
       "      <td>True</td>\n",
       "    </tr>\n",
       "    <tr>\n",
       "      <th>9761460</th>\n",
       "      <td>2004</td>\n",
       "      <td>76561198312638244</td>\n",
       "      <td>NaN</td>\n",
       "      <td>0</td>\n",
       "      <td>True</td>\n",
       "    </tr>\n",
       "  </tbody>\n",
       "</table>\n",
       "<p>9761461 rows × 5 columns</p>\n",
       "</div>"
      ],
      "text/plain": [
       "         year                user_id                    title  \\\n",
       "0        1997               UTNerd24      Lost Summoner Kitty   \n",
       "1        1997  I_DID_911_JUST_SAYING                Ironbound   \n",
       "2        1997      76561197962104795  Real Pool 3D - Poolians   \n",
       "3        1997               r3ap3r78                  弹炸人2222   \n",
       "4        1997               saint556    Battle Royale Trainer   \n",
       "...       ...                    ...                      ...   \n",
       "9761456  2004      76561198273508956                      NaN   \n",
       "9761457  2004      76561198282090798                      NaN   \n",
       "9761458  2004                 943525                      NaN   \n",
       "9761459  2004      76561198283312749                      NaN   \n",
       "9761460  2004      76561198312638244                      NaN   \n",
       "\n",
       "         sentiment_analysis  recommend  \n",
       "0                         2       True  \n",
       "1                         2       True  \n",
       "2                         2       True  \n",
       "3                         2       True  \n",
       "4                         0       True  \n",
       "...                     ...        ...  \n",
       "9761456                   0       True  \n",
       "9761457                   0       True  \n",
       "9761458                   0       True  \n",
       "9761459                   0       True  \n",
       "9761460                   0       True  \n",
       "\n",
       "[9761461 rows x 5 columns]"
      ]
     },
     "execution_count": 115,
     "metadata": {},
     "output_type": "execute_result"
    }
   ],
   "source": [
    "f3"
   ]
  },
  {
   "cell_type": "code",
   "execution_count": 106,
   "metadata": {},
   "outputs": [],
   "source": [
    "f3.to_parquet('./data/f3.parquet')"
   ]
  },
  {
   "cell_type": "code",
   "execution_count": 108,
   "metadata": {},
   "outputs": [],
   "source": [
    "f4 = pd.read_parquet('./data/recommendations.parquet')"
   ]
  },
  {
   "cell_type": "code",
   "execution_count": 112,
   "metadata": {},
   "outputs": [],
   "source": [
    "f4.drop(['genres', 'sentiment_analysis', 'playtime_forever', 'user_id'], axis = 1, inplace=True)"
   ]
  },
  {
   "cell_type": "code",
   "execution_count": 121,
   "metadata": {},
   "outputs": [],
   "source": [
    "f4.to_parquet('./data/f4.parquet')"
   ]
  },
  {
   "cell_type": "code",
   "execution_count": 116,
   "metadata": {},
   "outputs": [],
   "source": [
    "f5 = pd.read_parquet('./data/recommendations.parquet')"
   ]
  },
  {
   "cell_type": "code",
   "execution_count": 117,
   "metadata": {},
   "outputs": [
    {
     "name": "stdout",
     "output_type": "stream",
     "text": [
      "<class 'pandas.core.frame.DataFrame'>\n",
      "RangeIndex: 9761461 entries, 0 to 9761460\n",
      "Data columns (total 7 columns):\n",
      " #   Column              Dtype   \n",
      "---  ------              -----   \n",
      " 0   genres              category\n",
      " 1   year                int16   \n",
      " 2   user_id             category\n",
      " 3   playtime_forever    int32   \n",
      " 4   title               category\n",
      " 5   sentiment_analysis  int8    \n",
      " 6   recommend           bool    \n",
      "dtypes: bool(1), category(3), int16(1), int32(1), int8(1)\n",
      "memory usage: 143.4 MB\n"
     ]
    }
   ],
   "source": [
    "f5.info()"
   ]
  },
  {
   "cell_type": "code",
   "execution_count": 118,
   "metadata": {},
   "outputs": [],
   "source": [
    "f5.drop(['genres', 'user_id', 'playtime_forever', 'title', 'recommend'], axis=1,inplace=True)"
   ]
  },
  {
   "cell_type": "code",
   "execution_count": 119,
   "metadata": {},
   "outputs": [
    {
     "name": "stdout",
     "output_type": "stream",
     "text": [
      "<class 'pandas.core.frame.DataFrame'>\n",
      "RangeIndex: 9761461 entries, 0 to 9761460\n",
      "Data columns (total 2 columns):\n",
      " #   Column              Dtype\n",
      "---  ------              -----\n",
      " 0   year                int16\n",
      " 1   sentiment_analysis  int8 \n",
      "dtypes: int16(1), int8(1)\n",
      "memory usage: 27.9 MB\n"
     ]
    }
   ],
   "source": [
    "f5.info()"
   ]
  },
  {
   "cell_type": "code",
   "execution_count": 120,
   "metadata": {},
   "outputs": [],
   "source": [
    "f5.to_parquet('./data/f5.parquet')"
   ]
  },
  {
   "cell_type": "code",
   "execution_count": null,
   "metadata": {},
   "outputs": [],
   "source": []
  },
  {
   "cell_type": "markdown",
   "metadata": {},
   "source": [
    "f1 = pd.read"
   ]
  }
 ],
 "metadata": {
  "kernelspec": {
   "display_name": "Python 3",
   "language": "python",
   "name": "python3"
  },
  "language_info": {
   "codemirror_mode": {
    "name": "ipython",
    "version": 3
   },
   "file_extension": ".py",
   "mimetype": "text/x-python",
   "name": "python",
   "nbconvert_exporter": "python",
   "pygments_lexer": "ipython3",
   "version": "3.11.5"
  }
 },
 "nbformat": 4,
 "nbformat_minor": 2
}
