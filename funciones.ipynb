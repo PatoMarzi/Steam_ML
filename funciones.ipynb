{
 "cells": [
  {
   "cell_type": "code",
   "execution_count": 438,
   "metadata": {},
   "outputs": [],
   "source": [
    "from fastapi import FastAPI\n",
    "\n",
    "import numpy as np\n",
    "import pandas as pd\n",
    "import uvicorn"
   ]
  },
  {
   "cell_type": "code",
   "execution_count": null,
   "metadata": {},
   "outputs": [],
   "source": [
    "app = FastAPI()\n",
    "genreFunction = pd.read_parquet('./data/genre_functions.parquet')"
   ]
  },
  {
   "cell_type": "code",
   "execution_count": null,
   "metadata": {},
   "outputs": [],
   "source": [
    "userRecommend = pd.read_parquet('./data/recommendations.parquet')"
   ]
  },
  {
   "cell_type": "code",
   "execution_count": null,
   "metadata": {},
   "outputs": [],
   "source": [
    "items = pd.read_parquet('./data/items.parquet')\n",
    "items"
   ]
  },
  {
   "cell_type": "code",
   "execution_count": null,
   "metadata": {},
   "outputs": [],
   "source": [
    "\n",
    "# We apply the str.lower() method so that it does not matter how the word is written.\n",
    "genreFunction['genres'] = genreFunction['genres'].str.lower()\n",
    "genreFunction['genres'].unique()"
   ]
  },
  {
   "cell_type": "code",
   "execution_count": null,
   "metadata": {},
   "outputs": [],
   "source": [
    "genreFunction"
   ]
  },
  {
   "cell_type": "code",
   "execution_count": null,
   "metadata": {},
   "outputs": [],
   "source": [
    "mostPlayed = genreFunction.groupby('user_id')['playtime_forever'].sum()\n",
    "mostPlayed.head()"
   ]
  },
  {
   "cell_type": "code",
   "execution_count": 565,
   "metadata": {},
   "outputs": [],
   "source": [
    "# The app.get decorator is used to associate the function with an HTTP GET request.\n",
    "# '/PlayTimeGenre/{genre}/' is the path for the endpoint, the {genre} is the parameter.\n",
    "@app.get('/PlayTimeGenre/{genre}/')\n",
    "def PlayTimeGenre( genre : str ):\n",
    "    '''\n",
    "    Find the genre with the most playtime hours.\n",
    "\n",
    "    Parameters\n",
    "    ----------\n",
    "    genre : str\n",
    "        Desired genre to look for.\n",
    "    \n",
    "    Returns\n",
    "    -------\n",
    "    int\n",
    "        Year when the highest number of hours played was recorded for that genre.\n",
    "    \n",
    "    Examples\n",
    "    -------\n",
    "    >>> PlayTimeGenre('Action')\n",
    "    2012\n",
    "    >>> PlayTimeGenre('Indie')\n",
    "    2006\n",
    "\n",
    "    '''\n",
    "    # We look in our DataSet if there is any match with the genre entered.\n",
    "    genres = genreFunction[genreFunction['genres'] == genre.lower()]\n",
    "    if genres.empty:\n",
    "        return f'The genre {genre} does not exist.'\n",
    "\n",
    "    # We calculate the total playtime for each year in the dataset.\n",
    "    results = genres.groupby('year')['playtime_forever'].sum()\n",
    "    \n",
    "    # Locate the index where the maximum value is. In this case the most played genre.\n",
    "    idResut = results.idxmax()\n",
    "    \n",
    "    return f'Year with the most playtime hours for {genre}: {idResut}'"
   ]
  },
  {
   "cell_type": "code",
   "execution_count": null,
   "metadata": {},
   "outputs": [],
   "source": [
    "test = PlayTimeGenre('RPG')\n",
    "print(test)"
   ]
  },
  {
   "cell_type": "markdown",
   "metadata": {},
   "source": [
    "# Segunda Función"
   ]
  },
  {
   "cell_type": "code",
   "execution_count": 564,
   "metadata": {},
   "outputs": [],
   "source": [
    "@app.get('/PlayTimeGenre/{genre}/')\n",
    "def UserForGenre( genre : str ):\n",
    "    '''\n",
    "    Find the user with the most hours played by genre, as well as hours played for each year.\n",
    "\n",
    "    Parameters\n",
    "    ----------\n",
    "    genre : str\n",
    "        Desired genre to look for.\n",
    "    \n",
    "    Returns\n",
    "    -------\n",
    "    list\n",
    "        The user name and the amount of hours played by year for that particular genre.\n",
    "    \n",
    "    Examples\n",
    "    -------\n",
    "    >>> UserForGenre('Simulation')\n",
    "    UserName is the user with the most playtime for the genre \"Action\" with 23721 hours played.\n",
    "\n",
    "    Year            2003    2006    2009    2010    2011    2012    2013    2014    2015    2016    \n",
    "    Hours Played      0      0      2037    4102    1968     223     323    342     1224     112   \n",
    "    '''\n",
    "    \n",
    "    \n",
    "    # Look in the DataSet if there is any match with the genre entered.\n",
    "    genres = genreFunction[genreFunction['genres'] == genre.lower()]\n",
    "\n",
    "    if genres.empty:\n",
    "        return f'The genre {genre} does not exist.'\n",
    "\n",
    "    # Group the DataSet by user ID, then sum the amount of hours played.\n",
    "    mostPlayed = genres.groupby('user_id')['playtime_forever'].sum().reset_index()\n",
    "    \n",
    "    # Locate the index for the player.\n",
    "    player = genres.loc[genres['playtime_forever'].idxmax()]['user_id']\n",
    "\n",
    "    # Filter the DataSet with only the player id\n",
    "    filteredDFWithPlayerID = (genres[genres['user_id'] == player])\n",
    "\n",
    "    # Create a new DF with just the year and playtime_forever columns\n",
    "    hoursPlayedByYear = filteredDFWithPlayerID.groupby('year')['playtime_forever'].sum()\n",
    "    \n",
    "    \n",
    "    print(f'{player} is the user with the most playtime for the genre \"{genre.capitalize()}\" with {filteredDFWithPlayerID[\"playtime_forever\"].sum()} hours played.')\n",
    "    print(f'\\nYear\\tHours Played\\n')\n",
    "    for year, hour in hoursPlayedByYear.items():\n",
    "        print(f'{year}\\t{hour}\\n')"
   ]
  },
  {
   "cell_type": "code",
   "execution_count": null,
   "metadata": {},
   "outputs": [],
   "source": [
    "UserForGenre('actiON')"
   ]
  },
  {
   "cell_type": "markdown",
   "metadata": {},
   "source": [
    "# 3rd Function"
   ]
  },
  {
   "cell_type": "code",
   "execution_count": 391,
   "metadata": {},
   "outputs": [
    {
     "name": "stdout",
     "output_type": "stream",
     "text": [
      "<class 'pandas.core.frame.DataFrame'>\n",
      "RangeIndex: 5948940 entries, 0 to 5948939\n",
      "Data columns (total 9 columns):\n",
      " #   Column              Dtype \n",
      "---  ------              ----- \n",
      " 0   title               object\n",
      " 1   id                  int32 \n",
      " 2   user_id             object\n",
      " 3   playtime_forever    int32 \n",
      " 4   year                int16 \n",
      " 5   posted              object\n",
      " 6   item_id             int32 \n",
      " 7   recommend           bool  \n",
      " 8   sentiment_analysis  int8  \n",
      "dtypes: bool(1), int16(1), int32(3), int8(1), object(3)\n",
      "memory usage: 226.9+ MB\n"
     ]
    }
   ],
   "source": [
    "userRecommend.info()"
   ]
  },
  {
   "cell_type": "code",
   "execution_count": 375,
   "metadata": {},
   "outputs": [],
   "source": [
    "@app.get('/UsersRecommend/{year}/')\n",
    "def UsersRecommend( year : int ):\n",
    "    '''\n",
    "    Get the three most recommended games  \n",
    "    \n",
    "    Parameters\n",
    "    ----------\n",
    "    year : str\n",
    "        Year in which the top three recommended games are.\n",
    "    \n",
    "    Returns\n",
    "    -------\n",
    "    list\n",
    "        Name of the three recommended games.\n",
    "    \n",
    "    Examples\n",
    "    -------\n",
    "    >>> UsersRecommend(2018):\n",
    "    Counter-Strike: Global Offense, Garry's Mode, Fall Guys\n",
    "    >>> UsersRecommend(2021)\n",
    "    Empire: Total War, Left 4 Dead 2, The Stanley Parable\n",
    "    '''\n",
    "\n",
    "    # Create a DataSet with rows that match the year.\n",
    "    givenYear = userRecommend[userRecommend['year'] == year]\n",
    "\n",
    "    if givenYear.empty:\n",
    "        return f'There are no records for the year {year}.'\n",
    "\n",
    "    # Group the top three games\n",
    "    topThree = (givenYear['title'].value_counts().head(3).reset_index()\n",
    "        .rename(columns={ 'title': 'Game', 'count': 'Positive Reviews'}))\n",
    "    \n",
    "\n",
    "    return [{f'Top {i+1}: \"{game}\" with {reviews} positive reviews'} for i, (game, reviews) in topThree.iterrows()]\n"
   ]
  },
  {
   "cell_type": "code",
   "execution_count": 340,
   "metadata": {},
   "outputs": [
    {
     "data": {
      "text/plain": [
       "[{'Top 1: \"Counter-Strike\" with 10851 positive reviews'},\n",
       " {'Top 2: \"Hitman: Codename 47\" with 4966 positive reviews'},\n",
       " {'Top 3: \"Deus Ex: Game of the Year Edition\" with 4937 positive reviews'}]"
      ]
     },
     "execution_count": 340,
     "metadata": {},
     "output_type": "execute_result"
    }
   ],
   "source": [
    "UsersRecommend(2000)"
   ]
  },
  {
   "cell_type": "markdown",
   "metadata": {},
   "source": [
    "# 4th Function"
   ]
  },
  {
   "cell_type": "code",
   "execution_count": 435,
   "metadata": {},
   "outputs": [],
   "source": [
    "@app.get('/UsersNotRecommend/{year}/')\n",
    "def UsersNotRecommend( year : int ):\n",
    "    '''\n",
    "    Get the three least recommended games.\n",
    "    \n",
    "    Parameters\n",
    "    ----------\n",
    "    year : str\n",
    "        Year in which the three least recommended games are.\n",
    "    \n",
    "    Returns\n",
    "    -------\n",
    "    list\n",
    "        Name of the three recommended games.\n",
    "    \n",
    "    Examples\n",
    "    -------\n",
    "    >>> UsersNotRecommend(2008):\n",
    "    Portal 2, Garry's Mode, Fall Guys\n",
    "    >>> UsersNotRecommend(2011)\n",
    "    Carmageddon Max Pack, Left 4 Dead 2, The Stanley Parable\n",
    "    '''\n",
    "\n",
    "    givenYear = userRecommend[userRecommend['year'] == year]\n",
    "\n",
    "    if givenYear.empty:\n",
    "        return f'There are no records for the year {year}.'\n",
    "\n",
    "    # Group the games that are from the desired year and had negative reviews.\n",
    "    leastRecommendedGames = userRecommend[(userRecommend['year'] == year) & (userRecommend['recommend'] == False)]\n",
    "\n",
    "    # Create a list that has the 3 least recommended games for that year.\n",
    "    leastThree = (\n",
    "        leastRecommendedGames['title']\n",
    "        .value_counts()\n",
    "        .head(3)\n",
    "        .reset_index()\n",
    "        .rename(columns={'count': 'Negative Reviews', 'title': 'Game'})\n",
    "    )\n",
    "\n",
    "    leastThree = [{f'Top {i+1}: \"{game}\" with {reviews} negative reviews'} for i, (game, reviews) in leastThree.iterrows()]\n",
    "\n",
    "    return leastThree"
   ]
  },
  {
   "cell_type": "code",
   "execution_count": 436,
   "metadata": {},
   "outputs": [
    {
     "data": {
      "text/plain": [
       "[{'Top 1: \"Lost Moon\" with 40 negative reviews'},\n",
       " {'Top 2: \"Starwalker\" with 12 negative reviews'},\n",
       " {'Top 3: \"Empires Of Creation\" with 9 negative reviews'}]"
      ]
     },
     "execution_count": 436,
     "metadata": {},
     "output_type": "execute_result"
    }
   ],
   "source": [
    "UsersNotRecommend(2018)"
   ]
  },
  {
   "cell_type": "code",
   "execution_count": 437,
   "metadata": {},
   "outputs": [
    {
     "data": {
      "text/html": [
       "<div>\n",
       "<style scoped>\n",
       "    .dataframe tbody tr th:only-of-type {\n",
       "        vertical-align: middle;\n",
       "    }\n",
       "\n",
       "    .dataframe tbody tr th {\n",
       "        vertical-align: top;\n",
       "    }\n",
       "\n",
       "    .dataframe thead th {\n",
       "        text-align: right;\n",
       "    }\n",
       "</style>\n",
       "<table border=\"1\" class=\"dataframe\">\n",
       "  <thead>\n",
       "    <tr style=\"text-align: right;\">\n",
       "      <th></th>\n",
       "      <th>title</th>\n",
       "      <th>id</th>\n",
       "      <th>user_id</th>\n",
       "      <th>playtime_forever</th>\n",
       "      <th>year</th>\n",
       "      <th>posted</th>\n",
       "      <th>item_id</th>\n",
       "      <th>recommend</th>\n",
       "      <th>sentiment_analysis</th>\n",
       "    </tr>\n",
       "  </thead>\n",
       "  <tbody>\n",
       "    <tr>\n",
       "      <th>0</th>\n",
       "      <td>Carmageddon Max Pack</td>\n",
       "      <td>282010</td>\n",
       "      <td>UTNerd24</td>\n",
       "      <td>5</td>\n",
       "      <td>1997</td>\n",
       "      <td>May 6, 2014</td>\n",
       "      <td>244210</td>\n",
       "      <td>True</td>\n",
       "      <td>0</td>\n",
       "    </tr>\n",
       "  </tbody>\n",
       "</table>\n",
       "</div>"
      ],
      "text/plain": [
       "                  title      id   user_id  playtime_forever  year  \\\n",
       "0  Carmageddon Max Pack  282010  UTNerd24                 5  1997   \n",
       "\n",
       "        posted  item_id  recommend  sentiment_analysis  \n",
       "0  May 6, 2014   244210       True                   0  "
      ]
     },
     "execution_count": 437,
     "metadata": {},
     "output_type": "execute_result"
    }
   ],
   "source": [
    "userRecommend.head(1)"
   ]
  },
  {
   "cell_type": "markdown",
   "metadata": {},
   "source": [
    "# 5th Function"
   ]
  },
  {
   "cell_type": "code",
   "execution_count": 571,
   "metadata": {},
   "outputs": [],
   "source": [
    "@app.get('/sentiment_analysis/{year}/')\n",
    "def sentiment_analysis( year : int ):\n",
    "    '''\n",
    "    Get the category reviews from all users in a year.\n",
    "    \n",
    "    Parameters\n",
    "    ----------\n",
    "    year : str\n",
    "        Desired year to see how the reviews were.\n",
    "    \n",
    "    Returns\n",
    "    -------\n",
    "    list\n",
    "        Amount of all the different review categories for that year.\n",
    "    \n",
    "    Examples\n",
    "    -------\n",
    "    >>> sentiment_analysis(2018)\n",
    "    {Negative = 101, Neutral = 142, Positive = 221}\n",
    "    >>>sentiment_analysis(2019)\n",
    "    {Negative = 140, Neutral = 47, Positive = 115}\n",
    "    '''\n",
    "\n",
    "    givenYear = userRecommend[userRecommend['year'] == year]\n",
    "\n",
    "    if givenYear.empty:\n",
    "        return f'There are no records for the year {year}.'\n",
    "    \n",
    "    \n",
    "    sentiment = userRecommend.groupby('year')['sentiment_analysis'].value_counts().unstack(fill_value=0)\n",
    "\n",
    "\n",
    "    sentiment = sentiment.loc[year].to_dict()\n",
    "     \n",
    "    return {\"Negative\": sentiment.get(0, 0),\n",
    "            \"Neutral\": sentiment.get(1, 0),\n",
    "            \"Positive\": sentiment.get(2, 0)}\n",
    "            \n"
   ]
  },
  {
   "cell_type": "code",
   "execution_count": 574,
   "metadata": {},
   "outputs": [
    {
     "data": {
      "text/plain": [
       "{'Negative': 70585, 'Neutral': 59924, 'Positive': 175569}"
      ]
     },
     "execution_count": 574,
     "metadata": {},
     "output_type": "execute_result"
    }
   ],
   "source": [
    "sentiment_analysis(2009)"
   ]
  },
  {
   "cell_type": "code",
   "execution_count": 573,
   "metadata": {},
   "outputs": [
    {
     "data": {
      "text/plain": [
       "{'Negative': 101, 'Neutral': 142, 'Positive': 221}"
      ]
     },
     "execution_count": 573,
     "metadata": {},
     "output_type": "execute_result"
    }
   ],
   "source": [
    "sentiment_analysis(2018)"
   ]
  }
 ],
 "metadata": {
  "kernelspec": {
   "display_name": "Python 3",
   "language": "python",
   "name": "python3"
  },
  "language_info": {
   "codemirror_mode": {
    "name": "ipython",
    "version": 3
   },
   "file_extension": ".py",
   "mimetype": "text/x-python",
   "name": "python",
   "nbconvert_exporter": "python",
   "pygments_lexer": "ipython3",
   "version": "3.11.5"
  }
 },
 "nbformat": 4,
 "nbformat_minor": 2
}
