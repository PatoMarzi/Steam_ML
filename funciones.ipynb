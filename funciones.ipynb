{
 "cells": [
  {
   "cell_type": "code",
   "execution_count": 2,
   "metadata": {},
   "outputs": [],
   "source": [
    "from fastapi import FastAPI\n",
    "\n",
    "import numpy as np\n",
    "import pandas as pd\n",
    "import uvicorn"
   ]
  },
  {
   "cell_type": "code",
   "execution_count": 3,
   "metadata": {},
   "outputs": [],
   "source": [
    "app = FastAPI()\n",
    "genreFunction = pd.read_parquet('./data/genre_functions.parquet')"
   ]
  },
  {
   "cell_type": "code",
   "execution_count": 4,
   "metadata": {},
   "outputs": [
    {
     "name": "stdout",
     "output_type": "stream",
     "text": [
      "<class 'pandas.core.frame.DataFrame'>\n",
      "RangeIndex: 9761461 entries, 0 to 9761460\n",
      "Data columns (total 4 columns):\n",
      " #   Column            Dtype   \n",
      "---  ------            -----   \n",
      " 0   genres            category\n",
      " 1   year              int16   \n",
      " 2   user_id           category\n",
      " 3   playtime_forever  int32   \n",
      "dtypes: category(2), int16(1), int32(1)\n",
      "memory usage: 104.9 MB\n"
     ]
    }
   ],
   "source": [
    "genreFunction.info()"
   ]
  },
  {
   "cell_type": "code",
   "execution_count": 5,
   "metadata": {},
   "outputs": [
    {
     "name": "stdout",
     "output_type": "stream",
     "text": [
      "<class 'pandas.core.frame.DataFrame'>\n",
      "RangeIndex: 9761461 entries, 0 to 9761460\n",
      "Data columns (total 7 columns):\n",
      " #   Column              Dtype   \n",
      "---  ------              -----   \n",
      " 0   genres              category\n",
      " 1   year                int16   \n",
      " 2   user_id             category\n",
      " 3   playtime_forever    int32   \n",
      " 4   title               category\n",
      " 5   sentiment_analysis  int8    \n",
      " 6   recommend           bool    \n",
      "dtypes: bool(1), category(3), int16(1), int32(1), int8(1)\n",
      "memory usage: 143.4 MB\n"
     ]
    }
   ],
   "source": [
    "userRecommend = pd.read_parquet('./data/recommendations.parquet')\n",
    "userRecommend.info()"
   ]
  },
  {
   "cell_type": "code",
   "execution_count": null,
   "metadata": {},
   "outputs": [],
   "source": []
  },
  {
   "cell_type": "code",
   "execution_count": 6,
   "metadata": {},
   "outputs": [
    {
     "name": "stdout",
     "output_type": "stream",
     "text": [
      "<class 'pandas.core.frame.DataFrame'>\n",
      "RangeIndex: 9761461 entries, 0 to 9761460\n",
      "Data columns (total 7 columns):\n",
      " #   Column              Dtype   \n",
      "---  ------              -----   \n",
      " 0   genres              category\n",
      " 1   year                int16   \n",
      " 2   user_id             category\n",
      " 3   playtime_forever    int32   \n",
      " 4   title               category\n",
      " 5   sentiment_analysis  int8    \n",
      " 6   recommend           bool    \n",
      "dtypes: bool(1), category(3), int16(1), int32(1), int8(1)\n",
      "memory usage: 143.4 MB\n"
     ]
    }
   ],
   "source": [
    "userRecommend.info()"
   ]
  },
  {
   "cell_type": "code",
   "execution_count": 7,
   "metadata": {},
   "outputs": [
    {
     "data": {
      "text/html": [
       "<div>\n",
       "<style scoped>\n",
       "    .dataframe tbody tr th:only-of-type {\n",
       "        vertical-align: middle;\n",
       "    }\n",
       "\n",
       "    .dataframe tbody tr th {\n",
       "        vertical-align: top;\n",
       "    }\n",
       "\n",
       "    .dataframe thead th {\n",
       "        text-align: right;\n",
       "    }\n",
       "</style>\n",
       "<table border=\"1\" class=\"dataframe\">\n",
       "  <thead>\n",
       "    <tr style=\"text-align: right;\">\n",
       "      <th></th>\n",
       "      <th>user_id</th>\n",
       "      <th>item_id</th>\n",
       "      <th>item_name</th>\n",
       "      <th>playtime_forever</th>\n",
       "    </tr>\n",
       "  </thead>\n",
       "  <tbody>\n",
       "    <tr>\n",
       "      <th>0</th>\n",
       "      <td>76561197970982479</td>\n",
       "      <td>10</td>\n",
       "      <td>Counter-Strike</td>\n",
       "      <td>6</td>\n",
       "    </tr>\n",
       "    <tr>\n",
       "      <th>1</th>\n",
       "      <td>76561197970982479</td>\n",
       "      <td>20</td>\n",
       "      <td>Team Fortress Classic</td>\n",
       "      <td>0</td>\n",
       "    </tr>\n",
       "    <tr>\n",
       "      <th>2</th>\n",
       "      <td>76561197970982479</td>\n",
       "      <td>30</td>\n",
       "      <td>Day of Defeat</td>\n",
       "      <td>7</td>\n",
       "    </tr>\n",
       "    <tr>\n",
       "      <th>3</th>\n",
       "      <td>76561197970982479</td>\n",
       "      <td>40</td>\n",
       "      <td>Deathmatch Classic</td>\n",
       "      <td>0</td>\n",
       "    </tr>\n",
       "    <tr>\n",
       "      <th>4</th>\n",
       "      <td>76561197970982479</td>\n",
       "      <td>50</td>\n",
       "      <td>Half-Life: Opposing Force</td>\n",
       "      <td>0</td>\n",
       "    </tr>\n",
       "    <tr>\n",
       "      <th>...</th>\n",
       "      <td>...</td>\n",
       "      <td>...</td>\n",
       "      <td>...</td>\n",
       "      <td>...</td>\n",
       "    </tr>\n",
       "    <tr>\n",
       "      <th>5094077</th>\n",
       "      <td>76561198329548331</td>\n",
       "      <td>346330</td>\n",
       "      <td>BrainBread 2</td>\n",
       "      <td>0</td>\n",
       "    </tr>\n",
       "    <tr>\n",
       "      <th>5094078</th>\n",
       "      <td>76561198329548331</td>\n",
       "      <td>373330</td>\n",
       "      <td>All Is Dust</td>\n",
       "      <td>0</td>\n",
       "    </tr>\n",
       "    <tr>\n",
       "      <th>5094079</th>\n",
       "      <td>76561198329548331</td>\n",
       "      <td>388490</td>\n",
       "      <td>One Way To Die: Steam Edition</td>\n",
       "      <td>3</td>\n",
       "    </tr>\n",
       "    <tr>\n",
       "      <th>5094080</th>\n",
       "      <td>76561198329548331</td>\n",
       "      <td>521570</td>\n",
       "      <td>You Have 10 Seconds 2</td>\n",
       "      <td>4</td>\n",
       "    </tr>\n",
       "    <tr>\n",
       "      <th>5094081</th>\n",
       "      <td>76561198329548331</td>\n",
       "      <td>519140</td>\n",
       "      <td>Minds Eyes</td>\n",
       "      <td>3</td>\n",
       "    </tr>\n",
       "  </tbody>\n",
       "</table>\n",
       "<p>5094082 rows × 4 columns</p>\n",
       "</div>"
      ],
      "text/plain": [
       "                   user_id  item_id                      item_name  \\\n",
       "0        76561197970982479       10                 Counter-Strike   \n",
       "1        76561197970982479       20          Team Fortress Classic   \n",
       "2        76561197970982479       30                  Day of Defeat   \n",
       "3        76561197970982479       40             Deathmatch Classic   \n",
       "4        76561197970982479       50      Half-Life: Opposing Force   \n",
       "...                    ...      ...                            ...   \n",
       "5094077  76561198329548331   346330                   BrainBread 2   \n",
       "5094078  76561198329548331   373330                    All Is Dust   \n",
       "5094079  76561198329548331   388490  One Way To Die: Steam Edition   \n",
       "5094080  76561198329548331   521570          You Have 10 Seconds 2   \n",
       "5094081  76561198329548331   519140                     Minds Eyes   \n",
       "\n",
       "         playtime_forever  \n",
       "0                       6  \n",
       "1                       0  \n",
       "2                       7  \n",
       "3                       0  \n",
       "4                       0  \n",
       "...                   ...  \n",
       "5094077                 0  \n",
       "5094078                 0  \n",
       "5094079                 3  \n",
       "5094080                 4  \n",
       "5094081                 3  \n",
       "\n",
       "[5094082 rows x 4 columns]"
      ]
     },
     "execution_count": 7,
     "metadata": {},
     "output_type": "execute_result"
    }
   ],
   "source": [
    "items = pd.read_parquet('./data/items.parquet')\n",
    "items"
   ]
  },
  {
   "cell_type": "code",
   "execution_count": 8,
   "metadata": {},
   "outputs": [],
   "source": [
    "\n",
    "# We apply the str.lower() method so that it does not matter how the word is written.\n",
    "# f2['genres'] = f2['genres'].str.lower()\n",
    "# genreFunction['genres'].unique()"
   ]
  },
  {
   "cell_type": "code",
   "execution_count": 9,
   "metadata": {},
   "outputs": [
    {
     "name": "stdout",
     "output_type": "stream",
     "text": [
      "<class 'pandas.core.frame.DataFrame'>\n",
      "RangeIndex: 9761461 entries, 0 to 9761460\n",
      "Data columns (total 4 columns):\n",
      " #   Column            Dtype   \n",
      "---  ------            -----   \n",
      " 0   genres            category\n",
      " 1   year              int16   \n",
      " 2   user_id           category\n",
      " 3   playtime_forever  int32   \n",
      "dtypes: category(2), int16(1), int32(1)\n",
      "memory usage: 104.9 MB\n"
     ]
    }
   ],
   "source": [
    "genreFunction.info()"
   ]
  },
  {
   "cell_type": "code",
   "execution_count": 10,
   "metadata": {},
   "outputs": [],
   "source": [
    "genreFunction['genres'] = genreFunction['genres'].astype('category')\n",
    "genreFunction['user_id'] = genreFunction['user_id'].astype('category')"
   ]
  },
  {
   "cell_type": "code",
   "execution_count": 11,
   "metadata": {},
   "outputs": [
    {
     "name": "stdout",
     "output_type": "stream",
     "text": [
      "<class 'pandas.core.frame.DataFrame'>\n",
      "RangeIndex: 9761461 entries, 0 to 9761460\n",
      "Data columns (total 4 columns):\n",
      " #   Column            Dtype   \n",
      "---  ------            -----   \n",
      " 0   genres            category\n",
      " 1   year              int16   \n",
      " 2   user_id           category\n",
      " 3   playtime_forever  int32   \n",
      "dtypes: category(2), int16(1), int32(1)\n",
      "memory usage: 104.9 MB\n"
     ]
    }
   ],
   "source": [
    "genreFunction.info()"
   ]
  },
  {
   "cell_type": "code",
   "execution_count": null,
   "metadata": {},
   "outputs": [],
   "source": []
  },
  {
   "cell_type": "code",
   "execution_count": 12,
   "metadata": {},
   "outputs": [],
   "source": [
    "# mostPlayed = genreFunction.groupby('user_id')['playtime_forever'].sum()\n",
    "# mostPlayed.head()"
   ]
  },
  {
   "cell_type": "code",
   "execution_count": 13,
   "metadata": {},
   "outputs": [],
   "source": [
    "# The app.get decorator is used to associate the function with an HTTP GET request.\n",
    "# '/PlayTimeGenre/{genre}/' is the path for the endpoint, the {genre} is the parameter.\n",
    "@app.get('/PlayTimeGenre/{genre}/')\n",
    "def PlayTimeGenre( genre : str ):\n",
    "    '''\n",
    "    Find the genre with the most playtime hours.\n",
    "\n",
    "    Parameters\n",
    "    ----------\n",
    "    genre : str\n",
    "        Desired genre to look for.\n",
    "    \n",
    "    Returns\n",
    "    -------\n",
    "    int\n",
    "        Year when the highest number of hours played was recorded for that genre.\n",
    "    \n",
    "    Examples\n",
    "    -------\n",
    "    >>> PlayTimeGenre('Action')\n",
    "    2012\n",
    "    >>> PlayTimeGenre('Indie')\n",
    "    2006\n",
    "\n",
    "    '''\n",
    "    f1 = pd.read_parquet('./data/f1.parquet')\n",
    "    # We look in our DataSet if there is any match with the genre entered.\n",
    "    f1['genres'] = f1['genres'].str.lower()\n",
    "    genres = f1[f1['genres'] == genre.lower()]\n",
    "    if genres.empty:\n",
    "        return f'The genre {genre} does not exist.'\n",
    "\n",
    "    # We calculate the total playtime for each year in the dataset.\n",
    "    results = genres.groupby('year')['playtime_forever'].sum()\n",
    "    \n",
    "    # Locate the index where the maximum value is. In this case the most played genre.\n",
    "    idResut = results.idxmax()\n",
    "    \n",
    "    return f'Year with the most playtime hours for {genre}: {idResut}'"
   ]
  },
  {
   "cell_type": "code",
   "execution_count": 14,
   "metadata": {},
   "outputs": [
    {
     "name": "stdout",
     "output_type": "stream",
     "text": [
      "Year with the most playtime hours for RPG: 2011\n"
     ]
    }
   ],
   "source": [
    "test = PlayTimeGenre('RPG')\n",
    "print(test)"
   ]
  },
  {
   "cell_type": "markdown",
   "metadata": {},
   "source": [
    "# Segunda Función"
   ]
  },
  {
   "cell_type": "code",
   "execution_count": 15,
   "metadata": {},
   "outputs": [],
   "source": [
    "@app.get('/UserForGenre/{genre}/')\n",
    "def UserForGenre( genre : str ):\n",
    "    '''\n",
    "    Find the user with the most hours played by genre, as well as hours played for each year.\n",
    "\n",
    "    Parameters\n",
    "    ----------\n",
    "    genre : str\n",
    "        Desired genre to look for.\n",
    "    \n",
    "    Returns\n",
    "    -------\n",
    "    list\n",
    "        The user name and the amount of hours played by year for that particular genre.\n",
    "    \n",
    "    Examples\n",
    "    -------\n",
    "    >>> UserForGenre('Simulation')\n",
    "    UserName is the user with the most playtime for the genre \"Action\" with 23721 hours played.\n",
    "\n",
    "    Year            2003    2006    2009    2010    2011    2012    2013    2014    2015    2016    \n",
    "    Hours Played      0      0      2037    4102    1968     223     323    342     1224     112   \n",
    "    '''\n",
    "    \n",
    "    f2 = pd.read_parquet('./data/f2.parquet')\n",
    "\n",
    "    f2['genres'] = f2['genres'].str.lower()\n",
    "    # Look in the DataSet if there is any match with the genre entered.\n",
    "    genres = f2[f2['genres'] == genre.lower()]\n",
    "\n",
    "    if genres.empty:\n",
    "        return f'The genre {genre} does not exist.'\n",
    "\n",
    "    # Group the DataSet by user ID, then sum the amount of hours played.\n",
    "    mostPlayed = genres.groupby('user_id')['playtime_forever'].sum().reset_index()\n",
    "    \n",
    "    # Locate the index for the player.\n",
    "    player = genres.loc[genres['playtime_forever'].idxmax()]['user_id']\n",
    "\n",
    "    # Filter the DataSet with only the player id\n",
    "    filteredDFWithPlayerID = (genres[genres['user_id'] == player])\n",
    "\n",
    "    # Create a new DF with just the year and playtime_forever columns\n",
    "    hoursPlayedByYear = filteredDFWithPlayerID.groupby('year')['playtime_forever'].sum()\n",
    "\n",
    "    hoursList = [ {'Year': year, 'hours': hours} for year, hours in hoursPlayedByYear.items()]\n",
    "    result = {f'{player} is the user with the most playtime for the genre \"{genre.capitalize()}\"\\nHours Played: {hoursList}'\n",
    "              }\n",
    "    return result"
   ]
  },
  {
   "cell_type": "code",
   "execution_count": 16,
   "metadata": {},
   "outputs": [
    {
     "data": {
      "text/plain": [
       "{'Evilutional is the user with the most playtime for the genre \"Action\"\\nHours Played: [{\\'Year\\': 2003, \\'hours\\': 0}, {\\'Year\\': 2006, \\'hours\\': 0}, {\\'Year\\': 2009, \\'hours\\': 2037}, {\\'Year\\': 2010, \\'hours\\': 4102}, {\\'Year\\': 2011, \\'hours\\': 1968}, {\\'Year\\': 2012, \\'hours\\': 680991}, {\\'Year\\': 2013, \\'hours\\': 69726}, {\\'Year\\': 2014, \\'hours\\': 24226}, {\\'Year\\': 2015, \\'hours\\': 112}, {\\'Year\\': 2016, \\'hours\\': 1291}, {\\'Year\\': 2017, \\'hours\\': 10894}]'}"
      ]
     },
     "execution_count": 16,
     "metadata": {},
     "output_type": "execute_result"
    }
   ],
   "source": [
    "UserForGenre('action')"
   ]
  },
  {
   "cell_type": "markdown",
   "metadata": {},
   "source": [
    "# 3rd Function"
   ]
  },
  {
   "cell_type": "code",
   "execution_count": 17,
   "metadata": {},
   "outputs": [
    {
     "name": "stdout",
     "output_type": "stream",
     "text": [
      "<class 'pandas.core.frame.DataFrame'>\n",
      "RangeIndex: 9761461 entries, 0 to 9761460\n",
      "Data columns (total 7 columns):\n",
      " #   Column              Dtype   \n",
      "---  ------              -----   \n",
      " 0   genres              category\n",
      " 1   year                int16   \n",
      " 2   user_id             category\n",
      " 3   playtime_forever    int32   \n",
      " 4   title               category\n",
      " 5   sentiment_analysis  int8    \n",
      " 6   recommend           bool    \n",
      "dtypes: bool(1), category(3), int16(1), int32(1), int8(1)\n",
      "memory usage: 143.4 MB\n"
     ]
    }
   ],
   "source": [
    "userRecommend.info()"
   ]
  },
  {
   "cell_type": "code",
   "execution_count": 18,
   "metadata": {},
   "outputs": [],
   "source": [
    "@app.get('/UsersRecommend/{year}/')\n",
    "def UsersRecommend( year : int ):\n",
    "    '''\n",
    "    Get the three most recommended games  \n",
    "    \n",
    "    Parameters\n",
    "    ----------\n",
    "    year : str\n",
    "        Year in which the top three recommended games are.\n",
    "    \n",
    "    Returns\n",
    "    -------\n",
    "    list\n",
    "        Name of the three recommended games.\n",
    "    \n",
    "    Examples\n",
    "    -------\n",
    "    >>> UsersRecommend(2018):\n",
    "    Counter-Strike: Global Offense, Garry's Mode, Fall Guys\n",
    "    >>> UsersRecommend(2021)\n",
    "    Empire: Total War, Left 4 Dead 2, The Stanley Parable\n",
    "    '''\n",
    "    f3 = pd.read_parquet('./data/f3.parquet')\n",
    "    # Create a DataSet with rows that match the year.\n",
    "    givenYear = f3[f3['year'] == year]\n",
    "\n",
    "    if givenYear.empty:\n",
    "        return f'There are no records for the year {year}.'\n",
    "\n",
    "    # Group the top three games\n",
    "    topThree = (givenYear['title'].value_counts().head(3).reset_index()\n",
    "        .rename(columns={'index': 'title', 'title': 'count'}))\n",
    "    \n",
    "    topThreeList = [{f\"Top {i+1}: {game}\": count} for i, (game, count) in topThree.iterrows()]\n",
    "    return topThreeList\n"
   ]
  },
  {
   "cell_type": "code",
   "execution_count": 19,
   "metadata": {},
   "outputs": [
    {
     "data": {
      "text/plain": [
       "[{'Top 1: ! That Bastard Is Trying To Steal Our Gold !': 0},\n",
       " {'Top 2: Rocksmith - Rick Springfield - Jessie’s Girl': 0},\n",
       " {'Top 3: Rocksmith - Santana - Oye Como Va': 0}]"
      ]
     },
     "execution_count": 19,
     "metadata": {},
     "output_type": "execute_result"
    }
   ],
   "source": [
    "UsersRecommend(2016)"
   ]
  },
  {
   "cell_type": "code",
   "execution_count": 20,
   "metadata": {},
   "outputs": [
    {
     "name": "stdout",
     "output_type": "stream",
     "text": [
      "<class 'pandas.core.frame.DataFrame'>\n",
      "RangeIndex: 9761461 entries, 0 to 9761460\n",
      "Data columns (total 5 columns):\n",
      " #   Column              Dtype   \n",
      "---  ------              -----   \n",
      " 0   year                int16   \n",
      " 1   user_id             category\n",
      " 2   title               category\n",
      " 3   sentiment_analysis  int8    \n",
      " 4   recommend           bool    \n",
      "dtypes: bool(1), category(2), int16(1), int8(1)\n",
      "memory usage: 96.9 MB\n"
     ]
    }
   ],
   "source": [
    "f3 = pd.read_parquet('./data/f3.parquet')\n",
    "f3.info()"
   ]
  },
  {
   "cell_type": "markdown",
   "metadata": {},
   "source": [
    "# 4th Function"
   ]
  },
  {
   "cell_type": "code",
   "execution_count": 21,
   "metadata": {},
   "outputs": [],
   "source": [
    "@app.get('/UsersNotRecommend/{year}/')\n",
    "def UsersNotRecommend( year : int ):\n",
    "    '''\n",
    "    Get the three least recommended games.\n",
    "    \n",
    "    Parameters\n",
    "    ----------\n",
    "    year : str\n",
    "        Year in which the three least recommended games are.\n",
    "    \n",
    "    Returns\n",
    "    -------\n",
    "    list\n",
    "        Name of the three recommended games.\n",
    "    \n",
    "    Examples\n",
    "    -------\n",
    "    >>> UsersNotRecommend(2008):\n",
    "    Portal 2, Garry's Mode, Fall Guys\n",
    "    >>> UsersNotRecommend(2011)\n",
    "    Carmageddon Max Pack, Left 4 Dead 2, The Stanley Parable\n",
    "    '''\n",
    "    f4 = pd.read_parquet('./data/f4.parquet')\n",
    "    givenYear = f4[f4['year'] == year]\n",
    "\n",
    "    if givenYear.empty:\n",
    "        return f'There are no records for the year {year}.'\n",
    "\n",
    "    # Group the games that are from the desired year and had negative reviews.\n",
    "    leastRecommendedGames = f4[(f4['year'] == year) & (f4['recommend'] == False)]\n",
    "\n",
    "    # Create a list that has the 3 least recommended games for that year.\n",
    "    leastThree = (\n",
    "        leastRecommendedGames['title']\n",
    "        .value_counts()\n",
    "        .head(3)\n",
    "        .reset_index()\n",
    "        .rename(columns={'count': 'Negative Reviews', 'title': 'Game'})\n",
    "    )\n",
    "\n",
    "    leastThree = [{f'Top {i+1}: \"{game}\" with {reviews} negative reviews'} for i, (game, reviews) in leastThree.iterrows()]\n",
    "\n",
    "    return leastThree"
   ]
  },
  {
   "cell_type": "code",
   "execution_count": 22,
   "metadata": {},
   "outputs": [],
   "source": [
    "f4 = pd.read_parquet('./data/f4.parquet')"
   ]
  },
  {
   "cell_type": "code",
   "execution_count": 23,
   "metadata": {},
   "outputs": [
    {
     "data": {
      "text/plain": [
       "recommend\n",
       "True     9754815\n",
       "False       6646\n",
       "Name: count, dtype: int64"
      ]
     },
     "execution_count": 23,
     "metadata": {},
     "output_type": "execute_result"
    }
   ],
   "source": [
    "f4['recommend'].value_counts(False)"
   ]
  },
  {
   "cell_type": "code",
   "execution_count": 24,
   "metadata": {},
   "outputs": [
    {
     "data": {
      "text/plain": [
       "[{'Top 1: \"! That Bastard Is Trying To Steal Our Gold !\" with 0 negative reviews'},\n",
       " {'Top 2: \"Rocksmith - Rick Springfield - Jessie’s Girl\" with 0 negative reviews'},\n",
       " {'Top 3: \"Rocksmith - Santana - Oye Como Va\" with 0 negative reviews'}]"
      ]
     },
     "execution_count": 24,
     "metadata": {},
     "output_type": "execute_result"
    }
   ],
   "source": [
    "UsersNotRecommend(2012)"
   ]
  },
  {
   "cell_type": "code",
   "execution_count": 25,
   "metadata": {},
   "outputs": [
    {
     "data": {
      "text/plain": [
       "title\n",
       "! That Bastard Is Trying To Steal Our Gold !    0\n",
       "Rocksmith - Rick Springfield - Jessie’s Girl    0\n",
       "Rocksmith - Santana - Oye Como Va               0\n",
       "Name: count, dtype: int64"
      ]
     },
     "execution_count": 25,
     "metadata": {},
     "output_type": "execute_result"
    }
   ],
   "source": [
    "f4 = pd.read_parquet('./data/f4.parquet')\n",
    "leastRecommendedGames = f4[(f4['year'] == '10') & (f4['recommend'] == False)]\n",
    "leastThree = (\n",
    "        leastRecommendedGames['title']\n",
    "        .value_counts()\n",
    "        .head(3)\n",
    "    )\n",
    "leastThree"
   ]
  },
  {
   "cell_type": "code",
   "execution_count": 26,
   "metadata": {},
   "outputs": [
    {
     "data": {
      "text/html": [
       "<div>\n",
       "<style scoped>\n",
       "    .dataframe tbody tr th:only-of-type {\n",
       "        vertical-align: middle;\n",
       "    }\n",
       "\n",
       "    .dataframe tbody tr th {\n",
       "        vertical-align: top;\n",
       "    }\n",
       "\n",
       "    .dataframe thead th {\n",
       "        text-align: right;\n",
       "    }\n",
       "</style>\n",
       "<table border=\"1\" class=\"dataframe\">\n",
       "  <thead>\n",
       "    <tr style=\"text-align: right;\">\n",
       "      <th></th>\n",
       "      <th>genres</th>\n",
       "      <th>year</th>\n",
       "      <th>user_id</th>\n",
       "      <th>playtime_forever</th>\n",
       "      <th>title</th>\n",
       "      <th>sentiment_analysis</th>\n",
       "      <th>recommend</th>\n",
       "    </tr>\n",
       "  </thead>\n",
       "  <tbody>\n",
       "    <tr>\n",
       "      <th>0</th>\n",
       "      <td>Action</td>\n",
       "      <td>1997</td>\n",
       "      <td>UTNerd24</td>\n",
       "      <td>5</td>\n",
       "      <td>Lost Summoner Kitty</td>\n",
       "      <td>2</td>\n",
       "      <td>True</td>\n",
       "    </tr>\n",
       "  </tbody>\n",
       "</table>\n",
       "</div>"
      ],
      "text/plain": [
       "   genres  year   user_id  playtime_forever                title  \\\n",
       "0  Action  1997  UTNerd24                 5  Lost Summoner Kitty   \n",
       "\n",
       "   sentiment_analysis  recommend  \n",
       "0                   2       True  "
      ]
     },
     "execution_count": 26,
     "metadata": {},
     "output_type": "execute_result"
    }
   ],
   "source": [
    "userRecommend.head(1)"
   ]
  },
  {
   "cell_type": "markdown",
   "metadata": {},
   "source": [
    "# 5th Function"
   ]
  },
  {
   "cell_type": "code",
   "execution_count": 27,
   "metadata": {},
   "outputs": [],
   "source": [
    "@app.get('/sentiment_analysis/{year}/')\n",
    "def sentiment_analysis( year : int ):\n",
    "    '''\n",
    "    Get the category reviews from all users in a year.\n",
    "    \n",
    "    Parameters\n",
    "    ----------\n",
    "    year : str\n",
    "        Desired year to see how the reviews were.\n",
    "    \n",
    "    Returns\n",
    "    -------\n",
    "    list\n",
    "        Amount of all the different review categories for that year.\n",
    "    \n",
    "    Examples\n",
    "    -------\n",
    "    >>> sentiment_analysis(2018)\n",
    "    {Negative = 101, Neutral = 142, Positive = 221}\n",
    "    >>>sentiment_analysis(2019)\n",
    "    {Negative = 140, Neutral = 47, Positive = 115}\n",
    "    '''\n",
    "    f5 = pd.read_parquet('./data/f5.parquet')\n",
    "    givenYear = f5[f5['year'] == year]\n",
    "\n",
    "    if givenYear.empty:\n",
    "        return f'There are no records for the year {year}.'\n",
    "    \n",
    "    \n",
    "    sentiment = f5.groupby('year')['sentiment_analysis'].value_counts()\n",
    "\n",
    "\n",
    "    sentiment = sentiment.loc[year].to_dict()\n",
    "     \n",
    "    return {\"Negative\": sentiment.get(0, 0),\n",
    "            \"Neutral\": sentiment.get(1, 0),\n",
    "            \"Positive\": sentiment.get(2, 0)}\n",
    "            \n"
   ]
  },
  {
   "cell_type": "code",
   "execution_count": 28,
   "metadata": {},
   "outputs": [
    {
     "data": {
      "text/plain": [
       "{'Negative': 333664, 'Neutral': 0, 'Positive': 0}"
      ]
     },
     "execution_count": 28,
     "metadata": {},
     "output_type": "execute_result"
    }
   ],
   "source": [
    "sentiment_analysis(2009)"
   ]
  },
  {
   "cell_type": "code",
   "execution_count": 29,
   "metadata": {},
   "outputs": [
    {
     "data": {
      "text/plain": [
       "{'Negative': 442, 'Neutral': 0, 'Positive': 0}"
      ]
     },
     "execution_count": 29,
     "metadata": {},
     "output_type": "execute_result"
    }
   ],
   "source": [
    "sentiment_analysis(2018)"
   ]
  }
 ],
 "metadata": {
  "kernelspec": {
   "display_name": "Python 3",
   "language": "python",
   "name": "python3"
  },
  "language_info": {
   "codemirror_mode": {
    "name": "ipython",
    "version": 3
   },
   "file_extension": ".py",
   "mimetype": "text/x-python",
   "name": "python",
   "nbconvert_exporter": "python",
   "pygments_lexer": "ipython3",
   "version": "3.11.5"
  }
 },
 "nbformat": 4,
 "nbformat_minor": 2
}
