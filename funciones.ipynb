{
 "cells": [
  {
   "cell_type": "code",
   "execution_count": null,
   "metadata": {},
   "outputs": [],
   "source": [
    "from fastapi import FastAPI\n",
    "\n",
    "import pandas as pd\n",
    "import uvicorn"
   ]
  },
  {
   "cell_type": "code",
   "execution_count": null,
   "metadata": {},
   "outputs": [],
   "source": [
    "app = FastAPI()\n",
    "genreFunction = pd.read_parquet('./data/genre_functions.parquet')"
   ]
  },
  {
   "cell_type": "code",
   "execution_count": null,
   "metadata": {},
   "outputs": [],
   "source": [
    "userRecommend = pd.read_parquet('./data/recommendations.parquet')"
   ]
  },
  {
   "cell_type": "code",
   "execution_count": null,
   "metadata": {},
   "outputs": [],
   "source": [
    "items = pd.read_parquet('./data/items.parquet')\n",
    "items"
   ]
  },
  {
   "cell_type": "code",
   "execution_count": null,
   "metadata": {},
   "outputs": [],
   "source": [
    "\n",
    "# We apply the str.lower() method so that it does not matter how the word is written.\n",
    "genreFunction['genres'] = genreFunction['genres'].str.lower()\n",
    "genreFunction['genres'].unique()"
   ]
  },
  {
   "cell_type": "code",
   "execution_count": null,
   "metadata": {},
   "outputs": [],
   "source": [
    "genreFunction"
   ]
  },
  {
   "cell_type": "code",
   "execution_count": null,
   "metadata": {},
   "outputs": [],
   "source": [
    "mostPlayed = genreFunction.groupby('user_id')['playtime_forever'].sum()\n",
    "mostPlayed.head()"
   ]
  },
  {
   "cell_type": "code",
   "execution_count": null,
   "metadata": {},
   "outputs": [],
   "source": [
    "# The app.get decorator is used to associate the function with an HTTP GET request.\n",
    "# '/PlayTimeGenre/{genre}/' is the path for the endpoint, the {genre} is the parameter.\n",
    "@app.get('/PlayTimeGenre/{genre}/')\n",
    "def PlayTimeGenre( genre : str ):\n",
    "    '''\n",
    "    Find the genre with the most playtime hours.\n",
    "\n",
    "    Parameters\n",
    "    ----------\n",
    "    genre : str\n",
    "        Desired genre to look for.\n",
    "    \n",
    "    Returns\n",
    "    -------\n",
    "    int\n",
    "        Year when the highest number of hours played was recorded for that genre.\n",
    "    \n",
    "    Examples\n",
    "    -------\n",
    "    >>> PlayTimeGenre('Action')\n",
    "    2012\n",
    "    >>> PlayTimeGenre('Indie')\n",
    "    2006\n",
    "\n",
    "    '''\n",
    "    # We look in our DataSet if there is any match with the genre entered.\n",
    "    genres = genreFunction[genreFunction['genres'] == genre.lower()]\n",
    "\n",
    "    # We calculate the total playtime for each year in the dataset.\n",
    "    results = genres.groupby('year')['playtime_forever'].sum()\n",
    "    \n",
    "    # Locate the index where the maximum value is. In this case the most played genre.\n",
    "    idResut = results.idxmax()\n",
    "\n",
    "    \n",
    "    \n",
    "    if genres.empty:\n",
    "        return f'The genre {genre} does not exist.'\n",
    "\n",
    "    \n",
    "    return f'Year with the most playtime hours for {genre}: {idResut}'"
   ]
  },
  {
   "cell_type": "code",
   "execution_count": null,
   "metadata": {},
   "outputs": [],
   "source": [
    "test = PlayTimeGenre('RPG')\n",
    "print(test)"
   ]
  },
  {
   "cell_type": "markdown",
   "metadata": {},
   "source": [
    "# Segunda Función"
   ]
  },
  {
   "cell_type": "code",
   "execution_count": null,
   "metadata": {},
   "outputs": [],
   "source": [
    "@app.get('/PlayTimeGenre/{genre}/')\n",
    "def UserForGenre( genre : str ):\n",
    "    '''\n",
    "    Find the user with the most hours played by genre, as well as hours played for each year.\n",
    "\n",
    "    Parameters\n",
    "    ----------\n",
    "    genre : str\n",
    "        Desired genre to look for.\n",
    "    \n",
    "    Returns\n",
    "    -------\n",
    "    list\n",
    "        The user name and the amount of hours played by year for that particular genre.\n",
    "    \n",
    "    Examples\n",
    "    -------\n",
    "    >>> UserForGenre('Simulation')\n",
    "    UserName is the user with the most playtime for the genre \"Action\" with 23721 hours played.\n",
    "\n",
    "    Year            2003    2006    2009    2010    2011    2012    2013    2014    2015    2016    \n",
    "    Hours Played      0      0      2037    4102    1968     223     323    342     1224     112   \n",
    "    '''\n",
    "    \n",
    "    \n",
    "    # Look in the DataSet if there is any match with the genre entered.\n",
    "    genres = genreFunction[genreFunction['genres'] == genre.lower()]\n",
    "\n",
    "    if genres.empty:\n",
    "        return f'The genre {genre} does not exist.'\n",
    "\n",
    "    # Group the DataSet by user ID, then sum the amount of hours played.\n",
    "    mostPlayed = genres.groupby('user_id')['playtime_forever'].sum().reset_index()\n",
    "    \n",
    "    # Locate the index for the player.\n",
    "    player = genres.loc[genres['playtime_forever'].idxmax()]['user_id']\n",
    "\n",
    "    # Filter the DataSet with only the player id\n",
    "    filteredDFWithPlayerID = (genres[genres['user_id'] == player])\n",
    "\n",
    "    # Create a new DF with just the year and playtime_forever columns\n",
    "    hoursPlayedByYear = filteredDFWithPlayerID.groupby('year')['playtime_forever'].sum()\n",
    "    \n",
    "    \n",
    "    print(f'{player} is the user with the most playtime for the genre \"{genre.capitalize()}\" with {filteredDFWithPlayerID[\"playtime_forever\"].sum()} hours played.')\n",
    "    print(f'\\nYear\\tHours Played\\n')\n",
    "    for year, hour in hoursPlayedByYear.items():\n",
    "        print(f'{year}\\t{hour}\\n')\n",
    "    \n"
   ]
  },
  {
   "cell_type": "code",
   "execution_count": null,
   "metadata": {},
   "outputs": [],
   "source": [
    "UserForGenre('actiON')"
   ]
  },
  {
   "cell_type": "markdown",
   "metadata": {},
   "source": [
    "# 3rd Function"
   ]
  },
  {
   "cell_type": "code",
   "execution_count": 262,
   "metadata": {},
   "outputs": [
    {
     "data": {
      "text/html": [
       "<div>\n",
       "<style scoped>\n",
       "    .dataframe tbody tr th:only-of-type {\n",
       "        vertical-align: middle;\n",
       "    }\n",
       "\n",
       "    .dataframe tbody tr th {\n",
       "        vertical-align: top;\n",
       "    }\n",
       "\n",
       "    .dataframe thead th {\n",
       "        text-align: right;\n",
       "    }\n",
       "</style>\n",
       "<table border=\"1\" class=\"dataframe\">\n",
       "  <thead>\n",
       "    <tr style=\"text-align: right;\">\n",
       "      <th></th>\n",
       "      <th>title</th>\n",
       "      <th>id</th>\n",
       "      <th>user_id</th>\n",
       "      <th>playtime_forever</th>\n",
       "      <th>year</th>\n",
       "      <th>posted</th>\n",
       "      <th>item_id</th>\n",
       "      <th>recommend</th>\n",
       "      <th>sentiment_analysis</th>\n",
       "    </tr>\n",
       "  </thead>\n",
       "  <tbody>\n",
       "    <tr>\n",
       "      <th>0</th>\n",
       "      <td>Carmageddon Max Pack</td>\n",
       "      <td>282010</td>\n",
       "      <td>UTNerd24</td>\n",
       "      <td>5</td>\n",
       "      <td>1997</td>\n",
       "      <td>May 6, 2014.</td>\n",
       "      <td>244210</td>\n",
       "      <td>True</td>\n",
       "      <td>0</td>\n",
       "    </tr>\n",
       "    <tr>\n",
       "      <th>1</th>\n",
       "      <td>Carmageddon Max Pack</td>\n",
       "      <td>282010</td>\n",
       "      <td>UTNerd24</td>\n",
       "      <td>5</td>\n",
       "      <td>1997</td>\n",
       "      <td>December 2, 2015.</td>\n",
       "      <td>440</td>\n",
       "      <td>True</td>\n",
       "      <td>0</td>\n",
       "    </tr>\n",
       "    <tr>\n",
       "      <th>2</th>\n",
       "      <td>Carmageddon Max Pack</td>\n",
       "      <td>282010</td>\n",
       "      <td>UTNerd24</td>\n",
       "      <td>5</td>\n",
       "      <td>1997</td>\n",
       "      <td>June 6, 2015.</td>\n",
       "      <td>376920</td>\n",
       "      <td>True</td>\n",
       "      <td>2</td>\n",
       "    </tr>\n",
       "    <tr>\n",
       "      <th>3</th>\n",
       "      <td>Carmageddon Max Pack</td>\n",
       "      <td>282010</td>\n",
       "      <td>UTNerd24</td>\n",
       "      <td>5</td>\n",
       "      <td>1997</td>\n",
       "      <td>September 29, 2015.</td>\n",
       "      <td>257750</td>\n",
       "      <td>True</td>\n",
       "      <td>1</td>\n",
       "    </tr>\n",
       "    <tr>\n",
       "      <th>4</th>\n",
       "      <td>Carmageddon Max Pack</td>\n",
       "      <td>282010</td>\n",
       "      <td>UTNerd24</td>\n",
       "      <td>5</td>\n",
       "      <td>1997</td>\n",
       "      <td>September 8, 2014.</td>\n",
       "      <td>221910</td>\n",
       "      <td>True</td>\n",
       "      <td>0</td>\n",
       "    </tr>\n",
       "  </tbody>\n",
       "</table>\n",
       "</div>"
      ],
      "text/plain": [
       "                  title      id   user_id  playtime_forever  year  \\\n",
       "0  Carmageddon Max Pack  282010  UTNerd24                 5  1997   \n",
       "1  Carmageddon Max Pack  282010  UTNerd24                 5  1997   \n",
       "2  Carmageddon Max Pack  282010  UTNerd24                 5  1997   \n",
       "3  Carmageddon Max Pack  282010  UTNerd24                 5  1997   \n",
       "4  Carmageddon Max Pack  282010  UTNerd24                 5  1997   \n",
       "\n",
       "                posted  item_id  recommend  sentiment_analysis  \n",
       "0         May 6, 2014.   244210       True                   0  \n",
       "1    December 2, 2015.      440       True                   0  \n",
       "2        June 6, 2015.   376920       True                   2  \n",
       "3  September 29, 2015.   257750       True                   1  \n",
       "4   September 8, 2014.   221910       True                   0  "
      ]
     },
     "execution_count": 262,
     "metadata": {},
     "output_type": "execute_result"
    }
   ],
   "source": [
    "userRecommend.head()"
   ]
  },
  {
   "cell_type": "code",
   "execution_count": 323,
   "metadata": {},
   "outputs": [],
   "source": [
    "@app.get('/UsersRecommend/{year}/')\n",
    "def UsersRecommend( year : int ):\n",
    "    '''\n",
    "    Get the three most recommended games  \n",
    "    \n",
    "    Parameters\n",
    "    ----------\n",
    "    year : str\n",
    "        Year in which the top three recommended games are.\n",
    "    \n",
    "    Returns\n",
    "    -------\n",
    "    list\n",
    "        Name of the three recommended games.\n",
    "    \n",
    "    Examples\n",
    "    -------\n",
    "    >>> UsersRecommend(2018):\n",
    "    Counter-Strike: Global Offense, Garry's Mode, Fall Guys\n",
    "    >>> UsersRecommend(2021)\n",
    "    Empire: Total War, Left 4 Dead 2, The Stanley Parable\n",
    "    '''\n",
    "\n",
    "\n",
    "    givenYear = userRecommend[userRecommend['year'] == year]\n",
    "\n",
    "    if givenYear.empty:\n",
    "        return f'The year {year} does not exist.'\n",
    "\n",
    "    # Group the top three games\n",
    "    topThree = (givenYear['title'].value_counts().head(3).reset_index()\n",
    "        .rename(columns={ 'title': 'Game', 'count': 'Positive Reviews'}))\n",
    "    # print((topThree))\n",
    "\n",
    "    return [{f'Top {i+1}: \"{game}\" with {reviews} positive reviews'} for i, (game, reviews) in topThree.iterrows()]\n"
   ]
  },
  {
   "cell_type": "code",
   "execution_count": 324,
   "metadata": {},
   "outputs": [
    {
     "data": {
      "text/plain": [
       "[{'Top 1: \"Terraria\" with 31329 positive reviews'},\n",
       " {'Top 2: \"Portal 2\" with 26975 positive reviews'},\n",
       " {'Top 3: \"PAYDAY™ The Heist\" with 19889 positive reviews'}]"
      ]
     },
     "execution_count": 324,
     "metadata": {},
     "output_type": "execute_result"
    }
   ],
   "source": [
    "UsersRecommend(2011)"
   ]
  },
  {
   "cell_type": "markdown",
   "metadata": {},
   "source": [
    "# 4th Function"
   ]
  },
  {
   "cell_type": "code",
   "execution_count": null,
   "metadata": {},
   "outputs": [],
   "source": [
    "@app.get('/UsersNotRecommend/{year}/')\n",
    "def UsersNotRecommend( year : int ):\n",
    "    '''\n",
    "    Get the three least recommended games.\n",
    "    \n",
    "    Parameters\n",
    "    ----------\n",
    "    year : str\n",
    "        Year in which the three least recommended games are.\n",
    "    \n",
    "    Returns\n",
    "    -------\n",
    "    list\n",
    "        Name of the three recommended games.\n",
    "    \n",
    "    Examples\n",
    "    -------\n",
    "    >>> UsersRecommend(2018):\n",
    "    Counter-Strike: Global Offense, Garry's Mode, Fall Guys\n",
    "    >>> UsersRecommend(2021)\n",
    "    Empire: Total War, Left 4 Dead 2, The Stanley Parable\n",
    "    '''\n",
    "\n",
    "    pass"
   ]
  }
 ],
 "metadata": {
  "kernelspec": {
   "display_name": "Python 3",
   "language": "python",
   "name": "python3"
  },
  "language_info": {
   "codemirror_mode": {
    "name": "ipython",
    "version": 3
   },
   "file_extension": ".py",
   "mimetype": "text/x-python",
   "name": "python",
   "nbconvert_exporter": "python",
   "pygments_lexer": "ipython3",
   "version": "3.11.5"
  }
 },
 "nbformat": 4,
 "nbformat_minor": 2
}
