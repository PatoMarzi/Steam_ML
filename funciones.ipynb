{
 "cells": [
  {
   "cell_type": "code",
   "execution_count": 30,
   "metadata": {},
   "outputs": [],
   "source": [
    "from fastapi import FastAPI\n",
    "\n",
    "import numpy as np\n",
    "import pandas as pd\n",
    "import uvicorn"
   ]
  },
  {
   "cell_type": "code",
   "execution_count": 31,
   "metadata": {},
   "outputs": [],
   "source": [
    "app = FastAPI()\n",
    "genreFunction = pd.read_parquet('./data/genre_functions.parquet')"
   ]
  },
  {
   "cell_type": "code",
   "execution_count": 52,
   "metadata": {},
   "outputs": [
    {
     "name": "stdout",
     "output_type": "stream",
     "text": [
      "<class 'pandas.core.frame.DataFrame'>\n",
      "RangeIndex: 9761461 entries, 0 to 9761460\n",
      "Data columns (total 4 columns):\n",
      " #   Column            Dtype \n",
      "---  ------            ----- \n",
      " 0   genres            object\n",
      " 1   year              int16 \n",
      " 2   user_id           object\n",
      " 3   playtime_forever  int32 \n",
      "dtypes: int16(1), int32(1), object(2)\n",
      "memory usage: 204.8+ MB\n"
     ]
    }
   ],
   "source": [
    "genreFunction.info()"
   ]
  },
  {
   "cell_type": "code",
   "execution_count": 53,
   "metadata": {},
   "outputs": [
    {
     "name": "stdout",
     "output_type": "stream",
     "text": [
      "<class 'pandas.core.frame.DataFrame'>\n",
      "RangeIndex: 5948940 entries, 0 to 5948939\n",
      "Data columns (total 5 columns):\n",
      " #   Column              Dtype \n",
      "---  ------              ----- \n",
      " 0   title               object\n",
      " 1   playtime_forever    int32 \n",
      " 2   year                int16 \n",
      " 3   recommend           bool  \n",
      " 4   sentiment_analysis  int8  \n",
      "dtypes: bool(1), int16(1), int32(1), int8(1), object(1)\n",
      "memory usage: 90.8+ MB\n"
     ]
    }
   ],
   "source": [
    "userRecommend = pd.read_parquet('./data/recommendations.parquet')\n",
    "userRecommend.info()"
   ]
  },
  {
   "cell_type": "code",
   "execution_count": 34,
   "metadata": {},
   "outputs": [
    {
     "name": "stdout",
     "output_type": "stream",
     "text": [
      "<class 'pandas.core.frame.DataFrame'>\n",
      "RangeIndex: 5948940 entries, 0 to 5948939\n",
      "Data columns (total 5 columns):\n",
      " #   Column              Dtype \n",
      "---  ------              ----- \n",
      " 0   title               object\n",
      " 1   playtime_forever    int32 \n",
      " 2   year                int16 \n",
      " 3   recommend           bool  \n",
      " 4   sentiment_analysis  int8  \n",
      "dtypes: bool(1), int16(1), int32(1), int8(1), object(1)\n",
      "memory usage: 90.8+ MB\n"
     ]
    }
   ],
   "source": [
    "userRecommend.drop(['id', 'user_id'], axis = 1, inplace=True)\n",
    "userRecommend.info()"
   ]
  },
  {
   "cell_type": "code",
   "execution_count": 35,
   "metadata": {},
   "outputs": [
    {
     "data": {
      "text/html": [
       "<div>\n",
       "<style scoped>\n",
       "    .dataframe tbody tr th:only-of-type {\n",
       "        vertical-align: middle;\n",
       "    }\n",
       "\n",
       "    .dataframe tbody tr th {\n",
       "        vertical-align: top;\n",
       "    }\n",
       "\n",
       "    .dataframe thead th {\n",
       "        text-align: right;\n",
       "    }\n",
       "</style>\n",
       "<table border=\"1\" class=\"dataframe\">\n",
       "  <thead>\n",
       "    <tr style=\"text-align: right;\">\n",
       "      <th></th>\n",
       "      <th>user_id</th>\n",
       "      <th>item_id</th>\n",
       "      <th>item_name</th>\n",
       "      <th>playtime_forever</th>\n",
       "    </tr>\n",
       "  </thead>\n",
       "  <tbody>\n",
       "    <tr>\n",
       "      <th>0</th>\n",
       "      <td>76561197970982479</td>\n",
       "      <td>10</td>\n",
       "      <td>Counter-Strike</td>\n",
       "      <td>6</td>\n",
       "    </tr>\n",
       "    <tr>\n",
       "      <th>1</th>\n",
       "      <td>76561197970982479</td>\n",
       "      <td>20</td>\n",
       "      <td>Team Fortress Classic</td>\n",
       "      <td>0</td>\n",
       "    </tr>\n",
       "    <tr>\n",
       "      <th>2</th>\n",
       "      <td>76561197970982479</td>\n",
       "      <td>30</td>\n",
       "      <td>Day of Defeat</td>\n",
       "      <td>7</td>\n",
       "    </tr>\n",
       "    <tr>\n",
       "      <th>3</th>\n",
       "      <td>76561197970982479</td>\n",
       "      <td>40</td>\n",
       "      <td>Deathmatch Classic</td>\n",
       "      <td>0</td>\n",
       "    </tr>\n",
       "    <tr>\n",
       "      <th>4</th>\n",
       "      <td>76561197970982479</td>\n",
       "      <td>50</td>\n",
       "      <td>Half-Life: Opposing Force</td>\n",
       "      <td>0</td>\n",
       "    </tr>\n",
       "    <tr>\n",
       "      <th>...</th>\n",
       "      <td>...</td>\n",
       "      <td>...</td>\n",
       "      <td>...</td>\n",
       "      <td>...</td>\n",
       "    </tr>\n",
       "    <tr>\n",
       "      <th>5094077</th>\n",
       "      <td>76561198329548331</td>\n",
       "      <td>346330</td>\n",
       "      <td>BrainBread 2</td>\n",
       "      <td>0</td>\n",
       "    </tr>\n",
       "    <tr>\n",
       "      <th>5094078</th>\n",
       "      <td>76561198329548331</td>\n",
       "      <td>373330</td>\n",
       "      <td>All Is Dust</td>\n",
       "      <td>0</td>\n",
       "    </tr>\n",
       "    <tr>\n",
       "      <th>5094079</th>\n",
       "      <td>76561198329548331</td>\n",
       "      <td>388490</td>\n",
       "      <td>One Way To Die: Steam Edition</td>\n",
       "      <td>3</td>\n",
       "    </tr>\n",
       "    <tr>\n",
       "      <th>5094080</th>\n",
       "      <td>76561198329548331</td>\n",
       "      <td>521570</td>\n",
       "      <td>You Have 10 Seconds 2</td>\n",
       "      <td>4</td>\n",
       "    </tr>\n",
       "    <tr>\n",
       "      <th>5094081</th>\n",
       "      <td>76561198329548331</td>\n",
       "      <td>519140</td>\n",
       "      <td>Minds Eyes</td>\n",
       "      <td>3</td>\n",
       "    </tr>\n",
       "  </tbody>\n",
       "</table>\n",
       "<p>5094082 rows × 4 columns</p>\n",
       "</div>"
      ],
      "text/plain": [
       "                   user_id  item_id                      item_name  \\\n",
       "0        76561197970982479       10                 Counter-Strike   \n",
       "1        76561197970982479       20          Team Fortress Classic   \n",
       "2        76561197970982479       30                  Day of Defeat   \n",
       "3        76561197970982479       40             Deathmatch Classic   \n",
       "4        76561197970982479       50      Half-Life: Opposing Force   \n",
       "...                    ...      ...                            ...   \n",
       "5094077  76561198329548331   346330                   BrainBread 2   \n",
       "5094078  76561198329548331   373330                    All Is Dust   \n",
       "5094079  76561198329548331   388490  One Way To Die: Steam Edition   \n",
       "5094080  76561198329548331   521570          You Have 10 Seconds 2   \n",
       "5094081  76561198329548331   519140                     Minds Eyes   \n",
       "\n",
       "         playtime_forever  \n",
       "0                       6  \n",
       "1                       0  \n",
       "2                       7  \n",
       "3                       0  \n",
       "4                       0  \n",
       "...                   ...  \n",
       "5094077                 0  \n",
       "5094078                 0  \n",
       "5094079                 3  \n",
       "5094080                 4  \n",
       "5094081                 3  \n",
       "\n",
       "[5094082 rows x 4 columns]"
      ]
     },
     "execution_count": 35,
     "metadata": {},
     "output_type": "execute_result"
    }
   ],
   "source": [
    "items = pd.read_parquet('./data/items.parquet')\n",
    "items"
   ]
  },
  {
   "cell_type": "code",
   "execution_count": 36,
   "metadata": {},
   "outputs": [
    {
     "data": {
      "text/plain": [
       "array(['action', 'indie', 'racing', 'strategy', 'rpg', 'simulation',\n",
       "       'casual', 'adventure', 'sports', 'free to play',\n",
       "       'massively multiplayer', 'early access',\n",
       "       'animation &amp; modeling', 'education', 'software training',\n",
       "       'utilities', 'web publishing', 'design &amp; illustration',\n",
       "       'audio production', 'video production', 'photo editing'],\n",
       "      dtype=object)"
      ]
     },
     "execution_count": 36,
     "metadata": {},
     "output_type": "execute_result"
    }
   ],
   "source": [
    "\n",
    "# We apply the str.lower() method so that it does not matter how the word is written.\n",
    "genreFunction['genres'] = genreFunction['genres'].str.lower()\n",
    "genreFunction['genres'].unique()"
   ]
  },
  {
   "cell_type": "code",
   "execution_count": 37,
   "metadata": {},
   "outputs": [
    {
     "data": {
      "text/html": [
       "<div>\n",
       "<style scoped>\n",
       "    .dataframe tbody tr th:only-of-type {\n",
       "        vertical-align: middle;\n",
       "    }\n",
       "\n",
       "    .dataframe tbody tr th {\n",
       "        vertical-align: top;\n",
       "    }\n",
       "\n",
       "    .dataframe thead th {\n",
       "        text-align: right;\n",
       "    }\n",
       "</style>\n",
       "<table border=\"1\" class=\"dataframe\">\n",
       "  <thead>\n",
       "    <tr style=\"text-align: right;\">\n",
       "      <th></th>\n",
       "      <th>genres</th>\n",
       "      <th>year</th>\n",
       "      <th>user_id</th>\n",
       "      <th>playtime_forever</th>\n",
       "    </tr>\n",
       "  </thead>\n",
       "  <tbody>\n",
       "    <tr>\n",
       "      <th>0</th>\n",
       "      <td>action</td>\n",
       "      <td>1997</td>\n",
       "      <td>UTNerd24</td>\n",
       "      <td>5</td>\n",
       "    </tr>\n",
       "    <tr>\n",
       "      <th>1</th>\n",
       "      <td>action</td>\n",
       "      <td>1997</td>\n",
       "      <td>I_DID_911_JUST_SAYING</td>\n",
       "      <td>0</td>\n",
       "    </tr>\n",
       "    <tr>\n",
       "      <th>2</th>\n",
       "      <td>action</td>\n",
       "      <td>1997</td>\n",
       "      <td>76561197962104795</td>\n",
       "      <td>0</td>\n",
       "    </tr>\n",
       "    <tr>\n",
       "      <th>3</th>\n",
       "      <td>action</td>\n",
       "      <td>1997</td>\n",
       "      <td>r3ap3r78</td>\n",
       "      <td>0</td>\n",
       "    </tr>\n",
       "    <tr>\n",
       "      <th>4</th>\n",
       "      <td>action</td>\n",
       "      <td>1997</td>\n",
       "      <td>saint556</td>\n",
       "      <td>13</td>\n",
       "    </tr>\n",
       "    <tr>\n",
       "      <th>...</th>\n",
       "      <td>...</td>\n",
       "      <td>...</td>\n",
       "      <td>...</td>\n",
       "      <td>...</td>\n",
       "    </tr>\n",
       "    <tr>\n",
       "      <th>9761456</th>\n",
       "      <td>action</td>\n",
       "      <td>2004</td>\n",
       "      <td>76561198273508956</td>\n",
       "      <td>0</td>\n",
       "    </tr>\n",
       "    <tr>\n",
       "      <th>9761457</th>\n",
       "      <td>action</td>\n",
       "      <td>2004</td>\n",
       "      <td>76561198282090798</td>\n",
       "      <td>0</td>\n",
       "    </tr>\n",
       "    <tr>\n",
       "      <th>9761458</th>\n",
       "      <td>action</td>\n",
       "      <td>2004</td>\n",
       "      <td>943525</td>\n",
       "      <td>0</td>\n",
       "    </tr>\n",
       "    <tr>\n",
       "      <th>9761459</th>\n",
       "      <td>action</td>\n",
       "      <td>2004</td>\n",
       "      <td>76561198283312749</td>\n",
       "      <td>9</td>\n",
       "    </tr>\n",
       "    <tr>\n",
       "      <th>9761460</th>\n",
       "      <td>action</td>\n",
       "      <td>2004</td>\n",
       "      <td>76561198312638244</td>\n",
       "      <td>99</td>\n",
       "    </tr>\n",
       "  </tbody>\n",
       "</table>\n",
       "<p>9761461 rows × 4 columns</p>\n",
       "</div>"
      ],
      "text/plain": [
       "         genres  year                user_id  playtime_forever\n",
       "0        action  1997               UTNerd24                 5\n",
       "1        action  1997  I_DID_911_JUST_SAYING                 0\n",
       "2        action  1997      76561197962104795                 0\n",
       "3        action  1997               r3ap3r78                 0\n",
       "4        action  1997               saint556                13\n",
       "...         ...   ...                    ...               ...\n",
       "9761456  action  2004      76561198273508956                 0\n",
       "9761457  action  2004      76561198282090798                 0\n",
       "9761458  action  2004                 943525                 0\n",
       "9761459  action  2004      76561198283312749                 9\n",
       "9761460  action  2004      76561198312638244                99\n",
       "\n",
       "[9761461 rows x 4 columns]"
      ]
     },
     "execution_count": 37,
     "metadata": {},
     "output_type": "execute_result"
    }
   ],
   "source": [
    "genreFunction"
   ]
  },
  {
   "cell_type": "code",
   "execution_count": 54,
   "metadata": {},
   "outputs": [],
   "source": [
    "# mostPlayed = genreFunction.groupby('user_id')['playtime_forever'].sum()\n",
    "# mostPlayed.head()"
   ]
  },
  {
   "cell_type": "code",
   "execution_count": 55,
   "metadata": {},
   "outputs": [],
   "source": [
    "# The app.get decorator is used to associate the function with an HTTP GET request.\n",
    "# '/PlayTimeGenre/{genre}/' is the path for the endpoint, the {genre} is the parameter.\n",
    "@app.get('/PlayTimeGenre/{genre}/')\n",
    "def PlayTimeGenre( genre : str ):\n",
    "    '''\n",
    "    Find the genre with the most playtime hours.\n",
    "\n",
    "    Parameters\n",
    "    ----------\n",
    "    genre : str\n",
    "        Desired genre to look for.\n",
    "    \n",
    "    Returns\n",
    "    -------\n",
    "    int\n",
    "        Year when the highest number of hours played was recorded for that genre.\n",
    "    \n",
    "    Examples\n",
    "    -------\n",
    "    >>> PlayTimeGenre('Action')\n",
    "    2012\n",
    "    >>> PlayTimeGenre('Indie')\n",
    "    2006\n",
    "\n",
    "    '''\n",
    "    # We look in our DataSet if there is any match with the genre entered.\n",
    "    genres = genreFunction[genreFunction['genres'] == genre.lower()]\n",
    "    if genres.empty:\n",
    "        return f'The genre {genre} does not exist.'\n",
    "\n",
    "    # We calculate the total playtime for each year in the dataset.\n",
    "    results = genres.groupby('year')['playtime_forever'].sum()\n",
    "    \n",
    "    # Locate the index where the maximum value is. In this case the most played genre.\n",
    "    idResut = results.idxmax()\n",
    "    \n",
    "    return f'Year with the most playtime hours for {genre}: {idResut}'"
   ]
  },
  {
   "cell_type": "code",
   "execution_count": 56,
   "metadata": {},
   "outputs": [
    {
     "name": "stdout",
     "output_type": "stream",
     "text": [
      "Year with the most playtime hours for RPG: 2011\n"
     ]
    }
   ],
   "source": [
    "test = PlayTimeGenre('RPG')\n",
    "print(test)"
   ]
  },
  {
   "cell_type": "markdown",
   "metadata": {},
   "source": [
    "# Segunda Función"
   ]
  },
  {
   "cell_type": "code",
   "execution_count": 57,
   "metadata": {},
   "outputs": [],
   "source": [
    "@app.get('/PlayTimeGenre/{genre}/')\n",
    "def UserForGenre( genre : str ):\n",
    "    '''\n",
    "    Find the user with the most hours played by genre, as well as hours played for each year.\n",
    "\n",
    "    Parameters\n",
    "    ----------\n",
    "    genre : str\n",
    "        Desired genre to look for.\n",
    "    \n",
    "    Returns\n",
    "    -------\n",
    "    list\n",
    "        The user name and the amount of hours played by year for that particular genre.\n",
    "    \n",
    "    Examples\n",
    "    -------\n",
    "    >>> UserForGenre('Simulation')\n",
    "    UserName is the user with the most playtime for the genre \"Action\" with 23721 hours played.\n",
    "\n",
    "    Year            2003    2006    2009    2010    2011    2012    2013    2014    2015    2016    \n",
    "    Hours Played      0      0      2037    4102    1968     223     323    342     1224     112   \n",
    "    '''\n",
    "    \n",
    "    \n",
    "    # Look in the DataSet if there is any match with the genre entered.\n",
    "    genres = genreFunction[genreFunction['genres'] == genre.lower()]\n",
    "\n",
    "    if genres.empty:\n",
    "        return f'The genre {genre} does not exist.'\n",
    "\n",
    "    # Group the DataSet by user ID, then sum the amount of hours played.\n",
    "    mostPlayed = genres.groupby('user_id')['playtime_forever'].sum().reset_index()\n",
    "    \n",
    "    # Locate the index for the player.\n",
    "    player = genres.loc[genres['playtime_forever'].idxmax()]['user_id']\n",
    "\n",
    "    # Filter the DataSet with only the player id\n",
    "    filteredDFWithPlayerID = (genres[genres['user_id'] == player])\n",
    "\n",
    "    # Create a new DF with just the year and playtime_forever columns\n",
    "    hoursPlayedByYear = filteredDFWithPlayerID.groupby('year')['playtime_forever'].sum()\n",
    "    \n",
    "    \n",
    "    print(f'{player} is the user with the most playtime for the genre \"{genre.capitalize()}\" with {filteredDFWithPlayerID[\"playtime_forever\"].sum()} hours played.')\n",
    "    print(f'\\nYear\\tHours Played\\n')\n",
    "    for year, hour in hoursPlayedByYear.items():\n",
    "        print(f'{year}\\t{hour}\\n')"
   ]
  },
  {
   "cell_type": "code",
   "execution_count": 58,
   "metadata": {},
   "outputs": [
    {
     "name": "stdout",
     "output_type": "stream",
     "text": [
      "Evilutional is the user with the most playtime for the genre \"Action\" with 795347 hours played.\n",
      "\n",
      "Year\tHours Played\n",
      "\n",
      "2003\t0\n",
      "\n",
      "2006\t0\n",
      "\n",
      "2009\t2037\n",
      "\n",
      "2010\t4102\n",
      "\n",
      "2011\t1968\n",
      "\n",
      "2012\t680991\n",
      "\n",
      "2013\t69726\n",
      "\n",
      "2014\t24226\n",
      "\n",
      "2015\t112\n",
      "\n",
      "2016\t1291\n",
      "\n",
      "2017\t10894\n",
      "\n"
     ]
    }
   ],
   "source": [
    "UserForGenre('actiON')"
   ]
  },
  {
   "cell_type": "markdown",
   "metadata": {},
   "source": [
    "# 3rd Function"
   ]
  },
  {
   "cell_type": "code",
   "execution_count": 59,
   "metadata": {},
   "outputs": [
    {
     "name": "stdout",
     "output_type": "stream",
     "text": [
      "<class 'pandas.core.frame.DataFrame'>\n",
      "RangeIndex: 5948940 entries, 0 to 5948939\n",
      "Data columns (total 5 columns):\n",
      " #   Column              Dtype \n",
      "---  ------              ----- \n",
      " 0   title               object\n",
      " 1   playtime_forever    int32 \n",
      " 2   year                int16 \n",
      " 3   recommend           bool  \n",
      " 4   sentiment_analysis  int8  \n",
      "dtypes: bool(1), int16(1), int32(1), int8(1), object(1)\n",
      "memory usage: 90.8+ MB\n"
     ]
    }
   ],
   "source": [
    "userRecommend.info()"
   ]
  },
  {
   "cell_type": "code",
   "execution_count": 60,
   "metadata": {},
   "outputs": [],
   "source": [
    "@app.get('/UsersRecommend/{year}/')\n",
    "def UsersRecommend( year : int ):\n",
    "    '''\n",
    "    Get the three most recommended games  \n",
    "    \n",
    "    Parameters\n",
    "    ----------\n",
    "    year : str\n",
    "        Year in which the top three recommended games are.\n",
    "    \n",
    "    Returns\n",
    "    -------\n",
    "    list\n",
    "        Name of the three recommended games.\n",
    "    \n",
    "    Examples\n",
    "    -------\n",
    "    >>> UsersRecommend(2018):\n",
    "    Counter-Strike: Global Offense, Garry's Mode, Fall Guys\n",
    "    >>> UsersRecommend(2021)\n",
    "    Empire: Total War, Left 4 Dead 2, The Stanley Parable\n",
    "    '''\n",
    "\n",
    "    # Create a DataSet with rows that match the year.\n",
    "    givenYear = userRecommend[userRecommend['year'] == year]\n",
    "\n",
    "    if givenYear.empty:\n",
    "        return f'There are no records for the year {year}.'\n",
    "\n",
    "    # Group the top three games\n",
    "    topThree = (givenYear['title'].value_counts().head(3).reset_index()\n",
    "        .rename(columns={ 'title': 'Game', 'count': 'Positive Reviews'}))\n",
    "    \n",
    "\n",
    "    return [{f'Top {i+1}: \"{game}\" with {reviews} positive reviews'} for i, (game, reviews) in topThree.iterrows()]\n"
   ]
  },
  {
   "cell_type": "code",
   "execution_count": 61,
   "metadata": {},
   "outputs": [
    {
     "data": {
      "text/plain": [
       "[{'Top 1: \"Counter-Strike\" with 10851 positive reviews'},\n",
       " {'Top 2: \"Hitman: Codename 47\" with 4966 positive reviews'},\n",
       " {'Top 3: \"Deus Ex: Game of the Year Edition\" with 4937 positive reviews'}]"
      ]
     },
     "execution_count": 61,
     "metadata": {},
     "output_type": "execute_result"
    }
   ],
   "source": [
    "UsersRecommend(2000)"
   ]
  },
  {
   "cell_type": "markdown",
   "metadata": {},
   "source": [
    "# 4th Function"
   ]
  },
  {
   "cell_type": "code",
   "execution_count": 62,
   "metadata": {},
   "outputs": [],
   "source": [
    "@app.get('/UsersNotRecommend/{year}/')\n",
    "def UsersNotRecommend( year : int ):\n",
    "    '''\n",
    "    Get the three least recommended games.\n",
    "    \n",
    "    Parameters\n",
    "    ----------\n",
    "    year : str\n",
    "        Year in which the three least recommended games are.\n",
    "    \n",
    "    Returns\n",
    "    -------\n",
    "    list\n",
    "        Name of the three recommended games.\n",
    "    \n",
    "    Examples\n",
    "    -------\n",
    "    >>> UsersNotRecommend(2008):\n",
    "    Portal 2, Garry's Mode, Fall Guys\n",
    "    >>> UsersNotRecommend(2011)\n",
    "    Carmageddon Max Pack, Left 4 Dead 2, The Stanley Parable\n",
    "    '''\n",
    "\n",
    "    givenYear = userRecommend[userRecommend['year'] == year]\n",
    "\n",
    "    if givenYear.empty:\n",
    "        return f'There are no records for the year {year}.'\n",
    "\n",
    "    # Group the games that are from the desired year and had negative reviews.\n",
    "    leastRecommendedGames = userRecommend[(userRecommend['year'] == year) & (userRecommend['recommend'] == False)]\n",
    "\n",
    "    # Create a list that has the 3 least recommended games for that year.\n",
    "    leastThree = (\n",
    "        leastRecommendedGames['title']\n",
    "        .value_counts()\n",
    "        .head(3)\n",
    "        .reset_index()\n",
    "        .rename(columns={'count': 'Negative Reviews', 'title': 'Game'})\n",
    "    )\n",
    "\n",
    "    leastThree = [{f'Top {i+1}: \"{game}\" with {reviews} negative reviews'} for i, (game, reviews) in leastThree.iterrows()]\n",
    "\n",
    "    return leastThree"
   ]
  },
  {
   "cell_type": "code",
   "execution_count": 63,
   "metadata": {},
   "outputs": [
    {
     "data": {
      "text/plain": [
       "[{'Top 1: \"Lost Moon\" with 40 negative reviews'},\n",
       " {'Top 2: \"Starwalker\" with 12 negative reviews'},\n",
       " {'Top 3: \"Empires Of Creation\" with 9 negative reviews'}]"
      ]
     },
     "execution_count": 63,
     "metadata": {},
     "output_type": "execute_result"
    }
   ],
   "source": [
    "UsersNotRecommend(2018)"
   ]
  },
  {
   "cell_type": "code",
   "execution_count": 64,
   "metadata": {},
   "outputs": [
    {
     "data": {
      "text/html": [
       "<div>\n",
       "<style scoped>\n",
       "    .dataframe tbody tr th:only-of-type {\n",
       "        vertical-align: middle;\n",
       "    }\n",
       "\n",
       "    .dataframe tbody tr th {\n",
       "        vertical-align: top;\n",
       "    }\n",
       "\n",
       "    .dataframe thead th {\n",
       "        text-align: right;\n",
       "    }\n",
       "</style>\n",
       "<table border=\"1\" class=\"dataframe\">\n",
       "  <thead>\n",
       "    <tr style=\"text-align: right;\">\n",
       "      <th></th>\n",
       "      <th>title</th>\n",
       "      <th>playtime_forever</th>\n",
       "      <th>year</th>\n",
       "      <th>recommend</th>\n",
       "      <th>sentiment_analysis</th>\n",
       "    </tr>\n",
       "  </thead>\n",
       "  <tbody>\n",
       "    <tr>\n",
       "      <th>0</th>\n",
       "      <td>Carmageddon Max Pack</td>\n",
       "      <td>5</td>\n",
       "      <td>1997</td>\n",
       "      <td>True</td>\n",
       "      <td>0</td>\n",
       "    </tr>\n",
       "  </tbody>\n",
       "</table>\n",
       "</div>"
      ],
      "text/plain": [
       "                  title  playtime_forever  year  recommend  sentiment_analysis\n",
       "0  Carmageddon Max Pack                 5  1997       True                   0"
      ]
     },
     "execution_count": 64,
     "metadata": {},
     "output_type": "execute_result"
    }
   ],
   "source": [
    "userRecommend.head(1)"
   ]
  },
  {
   "cell_type": "markdown",
   "metadata": {},
   "source": [
    "# 5th Function"
   ]
  },
  {
   "cell_type": "code",
   "execution_count": 65,
   "metadata": {},
   "outputs": [],
   "source": [
    "@app.get('/sentiment_analysis/{year}/')\n",
    "def sentiment_analysis( year : int ):\n",
    "    '''\n",
    "    Get the category reviews from all users in a year.\n",
    "    \n",
    "    Parameters\n",
    "    ----------\n",
    "    year : str\n",
    "        Desired year to see how the reviews were.\n",
    "    \n",
    "    Returns\n",
    "    -------\n",
    "    list\n",
    "        Amount of all the different review categories for that year.\n",
    "    \n",
    "    Examples\n",
    "    -------\n",
    "    >>> sentiment_analysis(2018)\n",
    "    {Negative = 101, Neutral = 142, Positive = 221}\n",
    "    >>>sentiment_analysis(2019)\n",
    "    {Negative = 140, Neutral = 47, Positive = 115}\n",
    "    '''\n",
    "\n",
    "    givenYear = userRecommend[userRecommend['year'] == year]\n",
    "\n",
    "    if givenYear.empty:\n",
    "        return f'There are no records for the year {year}.'\n",
    "    \n",
    "    \n",
    "    sentiment = userRecommend.groupby('year')['sentiment_analysis'].value_counts().unstack(fill_value=0)\n",
    "\n",
    "\n",
    "    sentiment = sentiment.loc[year].to_dict()\n",
    "     \n",
    "    return {\"Negative\": sentiment.get(0, 0),\n",
    "            \"Neutral\": sentiment.get(1, 0),\n",
    "            \"Positive\": sentiment.get(2, 0)}\n",
    "            \n"
   ]
  },
  {
   "cell_type": "code",
   "execution_count": 66,
   "metadata": {},
   "outputs": [
    {
     "data": {
      "text/plain": [
       "{'Negative': 70585, 'Neutral': 59924, 'Positive': 175569}"
      ]
     },
     "execution_count": 66,
     "metadata": {},
     "output_type": "execute_result"
    }
   ],
   "source": [
    "sentiment_analysis(2009)"
   ]
  },
  {
   "cell_type": "code",
   "execution_count": 67,
   "metadata": {},
   "outputs": [
    {
     "data": {
      "text/plain": [
       "{'Negative': 101, 'Neutral': 142, 'Positive': 221}"
      ]
     },
     "execution_count": 67,
     "metadata": {},
     "output_type": "execute_result"
    }
   ],
   "source": [
    "sentiment_analysis(2018)"
   ]
  }
 ],
 "metadata": {
  "kernelspec": {
   "display_name": "Python 3",
   "language": "python",
   "name": "python3"
  },
  "language_info": {
   "codemirror_mode": {
    "name": "ipython",
    "version": 3
   },
   "file_extension": ".py",
   "mimetype": "text/x-python",
   "name": "python",
   "nbconvert_exporter": "python",
   "pygments_lexer": "ipython3",
   "version": "3.11.5"
  }
 },
 "nbformat": 4,
 "nbformat_minor": 2
}
