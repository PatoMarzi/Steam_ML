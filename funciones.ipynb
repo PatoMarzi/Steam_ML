{
 "cells": [
  {
   "cell_type": "code",
   "execution_count": 2,
   "metadata": {},
   "outputs": [],
   "source": [
    "from fastapi import FastAPI\n",
    "\n",
    "import pandas as pd\n",
    "import uvicorn"
   ]
  },
  {
   "cell_type": "code",
   "execution_count": 3,
   "metadata": {},
   "outputs": [],
   "source": [
    "app = FastAPI()\n",
    "genreFunction = pd.read_parquet('./data/genre_functions.parquet')"
   ]
  },
  {
   "cell_type": "code",
   "execution_count": 120,
   "metadata": {},
   "outputs": [
    {
     "data": {
      "text/plain": [
       "array(['action', 'indie', 'racing', 'strategy', 'rpg', 'simulation',\n",
       "       'casual', 'adventure', 'sports', 'free to play',\n",
       "       'massively multiplayer', 'early access',\n",
       "       'animation &amp; modeling', 'education', 'software training',\n",
       "       'utilities', 'web publishing', 'design &amp; illustration',\n",
       "       'audio production', 'video production', 'photo editing'],\n",
       "      dtype=object)"
      ]
     },
     "execution_count": 120,
     "metadata": {},
     "output_type": "execute_result"
    }
   ],
   "source": [
    "\n",
    "# We apply the str.lower() method so that it does not matter how the word is written.\n",
    "genreFunction['genres'] = genreFunction['genres'].str.lower()\n",
    "genreFunction['genres'].unique()"
   ]
  },
  {
   "cell_type": "code",
   "execution_count": 124,
   "metadata": {},
   "outputs": [
    {
     "name": "stdout",
     "output_type": "stream",
     "text": [
      "<class 'pandas.core.series.Series'>\n",
      "Index: 68602 entries, --000-- to zzzmidmiss\n",
      "Series name: playtime_forever\n",
      "Non-Null Count  Dtype\n",
      "--------------  -----\n",
      "68602 non-null  int64\n",
      "dtypes: int64(1)\n",
      "memory usage: 1.0+ MB\n"
     ]
    }
   ],
   "source": [
    "mostPlayed = genreFunction.groupby('user_id')['playtime_forever'].sum()\n",
    "mostPlayed.info()"
   ]
  },
  {
   "cell_type": "code",
   "execution_count": 106,
   "metadata": {},
   "outputs": [],
   "source": [
    "# The app.get decorator is used to associate the function with an HTTP GET request.\n",
    "# '/PlayTimeGenre/{genre}/' is the path for the endpoint, the {genre} is the parameter.\n",
    "@app.get('/PlayTimeGenre/{genre}/')\n",
    "def PlayTimeGenre( genre : str ):\n",
    "    '''\n",
    "    Find the genre with the most playtime hours.\n",
    "\n",
    "    Parameters\n",
    "    ----------\n",
    "    genre : str\n",
    "        Desired genre to look for.\n",
    "    \n",
    "    Returns\n",
    "    -------\n",
    "    int\n",
    "        Year when the highest number of hours played was recorded for that genre.\n",
    "    \n",
    "    Examples\n",
    "    -------\n",
    "    >>> PlayTimeGenre('Action')\n",
    "    2012\n",
    "    >>> PlayTimeGenre('Indie')\n",
    "    2006\n",
    "\n",
    "    '''\n",
    "    # We look in our DataSet if there is any match with the genre entered.\n",
    "    genres = genreFunction[genreFunction['genres'] == genre.lower()]\n",
    "\n",
    "    # We calculate the total playtime for each year in the dataset.\n",
    "    results = genres.groupby('year')['playtime_forever'].sum()\n",
    "    \n",
    "    # Locate the index where the maximum value is. In this case the most played genre.\n",
    "    idResut = results.idxmax()\n",
    "\n",
    "    \n",
    "    \n",
    "    if genres.empty:\n",
    "        return f'The genre {genre} does not exist.'\n",
    "\n",
    "    \n",
    "    return f'Year with the most playtime hours for {genre}: {idResut}'"
   ]
  },
  {
   "cell_type": "code",
   "execution_count": 107,
   "metadata": {},
   "outputs": [
    {
     "name": "stdout",
     "output_type": "stream",
     "text": [
      "Year with the most playtime hours for RPG: 2011\n"
     ]
    }
   ],
   "source": [
    "test = PlayTimeGenre('RPG')\n",
    "print(test)"
   ]
  },
  {
   "cell_type": "markdown",
   "metadata": {},
   "source": [
    "# Segunda Función"
   ]
  },
  {
   "cell_type": "code",
   "execution_count": 148,
   "metadata": {},
   "outputs": [],
   "source": [
    "def UserForGenre( genre : str ):\n",
    "    '''\n",
    "    Find the user with the most hours played by genre, as well as hours played by year.\n",
    "\n",
    "    Parameters\n",
    "    ----------\n",
    "    genre : str\n",
    "        Desired genre to look for.\n",
    "    \n",
    "    Returns\n",
    "    -------\n",
    "    list\n",
    "        The user name and the amount of hours played by year for that particular genre.\n",
    "    \n",
    "    Examples\n",
    "    -------\n",
    "    >>> UserForGenre('')\n",
    "    2012\n",
    "    >>> UserForGenre('')\n",
    "    2006\n",
    "    '''\n",
    "    \n",
    "    \n",
    "    # Look in the DataSet if there is any match with the genre entered.\n",
    "    genres = genreFunction[genreFunction['genres'] == genre.lower()]\n",
    "\n",
    "    if genres.empty:\n",
    "        return f'The genre {genre} does not exist.'\n",
    "\n",
    "    # Group the DataSet by user ID, then sum the amount of hours played.\n",
    "    mostPlayed = genres.groupby('user_id')['playtime_forever'].sum().reset_index()\n",
    "    \n",
    "    # Locate the index for the player.\n",
    "    player = genres.loc[genres['playtime_forever'].idxmax()]['user_id']\n",
    "\n",
    "    # Filter the DataSet with only the player id\n",
    "    filteredDF = (mostPlayed[mostPlayed['user_id'] == player]).to_dict()\n",
    "\n",
    "    # Group the DataSet by year and sum the amount of hours played for each year.\n",
    "    # listHour = filteredDF.groupby(filteredDF['year'])['playtime_forever'].sum()\n",
    "    print(filteredDF)\n",
    "    print(f'{player} is the user with the most playtime for the genre {genre}')\n",
    "    print(f'\\nYear\\tHours Played')\n",
    "    for year, hour in filteredDF.items():\n",
    "        print(f'{year}\\t{hour}\\n')\n",
    "    \n",
    "    return\n",
    "    \n",
    "    # print (\n",
    "    #         {player}' is the user with the most playtime for the genre {genre}\n",
    "    #             [{\"year\": year, \"Hours Played\": hours} for year, hours in zip(mostPlayed[\"year\"], mostPlayed[\"playtime_forever\"])]'\n",
    "    # )"
   ]
  },
  {
   "cell_type": "code",
   "execution_count": 149,
   "metadata": {},
   "outputs": [
    {
     "ename": "AttributeError",
     "evalue": "'dict' object has no attribute 'shape'",
     "output_type": "error",
     "traceback": [
      "\u001b[1;31m---------------------------------------------------------------------------\u001b[0m",
      "\u001b[1;31mAttributeError\u001b[0m                            Traceback (most recent call last)",
      "\u001b[1;32mc:\\Users\\punto\\Desktop\\Desktop\\SoyHenry\\DataScience\\Steam_ML\\funciones.ipynb Cell 9\u001b[0m line \u001b[0;36m1\n\u001b[1;32m----> <a href='vscode-notebook-cell:/c%3A/Users/punto/Desktop/Desktop/SoyHenry/DataScience/Steam_ML/funciones.ipynb#X13sZmlsZQ%3D%3D?line=0'>1</a>\u001b[0m result \u001b[39m=\u001b[39m UserForGenre(\u001b[39m'\u001b[39;49m\u001b[39mstrategy\u001b[39;49m\u001b[39m'\u001b[39;49m)\n\u001b[0;32m      <a href='vscode-notebook-cell:/c%3A/Users/punto/Desktop/Desktop/SoyHenry/DataScience/Steam_ML/funciones.ipynb#X13sZmlsZQ%3D%3D?line=2'>3</a>\u001b[0m result\n",
      "\u001b[1;32mc:\\Users\\punto\\Desktop\\Desktop\\SoyHenry\\DataScience\\Steam_ML\\funciones.ipynb Cell 9\u001b[0m line \u001b[0;36m4\n\u001b[0;32m     <a href='vscode-notebook-cell:/c%3A/Users/punto/Desktop/Desktop/SoyHenry/DataScience/Steam_ML/funciones.ipynb#X13sZmlsZQ%3D%3D?line=36'>37</a>\u001b[0m filteredDF \u001b[39m=\u001b[39m (mostPlayed[mostPlayed[\u001b[39m'\u001b[39m\u001b[39muser_id\u001b[39m\u001b[39m'\u001b[39m] \u001b[39m==\u001b[39m player])\u001b[39m.\u001b[39mto_dict()\n\u001b[0;32m     <a href='vscode-notebook-cell:/c%3A/Users/punto/Desktop/Desktop/SoyHenry/DataScience/Steam_ML/funciones.ipynb#X13sZmlsZQ%3D%3D?line=38'>39</a>\u001b[0m \u001b[39m# Group the DataSet by year and sum the amount of hours played for each year.\u001b[39;00m\n\u001b[0;32m     <a href='vscode-notebook-cell:/c%3A/Users/punto/Desktop/Desktop/SoyHenry/DataScience/Steam_ML/funciones.ipynb#X13sZmlsZQ%3D%3D?line=39'>40</a>\u001b[0m \u001b[39m# listHour = filteredDF.groupby(filteredDF['year'])['playtime_forever'].sum()\u001b[39;00m\n\u001b[1;32m---> <a href='vscode-notebook-cell:/c%3A/Users/punto/Desktop/Desktop/SoyHenry/DataScience/Steam_ML/funciones.ipynb#X13sZmlsZQ%3D%3D?line=40'>41</a>\u001b[0m \u001b[39mprint\u001b[39m(filteredDF\u001b[39m.\u001b[39;49mshape)\n\u001b[0;32m     <a href='vscode-notebook-cell:/c%3A/Users/punto/Desktop/Desktop/SoyHenry/DataScience/Steam_ML/funciones.ipynb#X13sZmlsZQ%3D%3D?line=41'>42</a>\u001b[0m \u001b[39mprint\u001b[39m(\u001b[39mf\u001b[39m\u001b[39m'\u001b[39m\u001b[39m{\u001b[39;00mplayer\u001b[39m}\u001b[39;00m\u001b[39m is the user with the most playtime for the genre \u001b[39m\u001b[39m{\u001b[39;00mgenre\u001b[39m}\u001b[39;00m\u001b[39m'\u001b[39m)\n\u001b[0;32m     <a href='vscode-notebook-cell:/c%3A/Users/punto/Desktop/Desktop/SoyHenry/DataScience/Steam_ML/funciones.ipynb#X13sZmlsZQ%3D%3D?line=42'>43</a>\u001b[0m \u001b[39mprint\u001b[39m(\u001b[39mf\u001b[39m\u001b[39m'\u001b[39m\u001b[39m\\n\u001b[39;00m\u001b[39mYear\u001b[39m\u001b[39m\\t\u001b[39;00m\u001b[39mHours Played\u001b[39m\u001b[39m'\u001b[39m)\n",
      "\u001b[1;31mAttributeError\u001b[0m: 'dict' object has no attribute 'shape'"
     ]
    }
   ],
   "source": [
    "\n",
    "result = UserForGenre('strategy')\n",
    "\n",
    "result"
   ]
  },
  {
   "cell_type": "code",
   "execution_count": 37,
   "metadata": {},
   "outputs": [],
   "source": [
    "# Look in the DataSet if there is any match with the genre entered.\n",
    "genres = genreFunction[genreFunction['genres'] == 'Action']\n",
    "\n",
    "# Group the DataSet by user ID and year, then sum the amount of hours played.\n",
    "mostPlayed = genres.groupby(['user_id', 'year'])['playtime_forever'].sum()\n",
    "\n",
    "# Locate the index for the player.\n",
    "player = mostPlayed.idxmax()\n",
    "\n",
    "# Filter the DataSet with only the player id\n",
    "filteredDF = genreFunction[genreFunction['user_id'] == player]\n",
    "\n",
    "# Group the DataSet by year and sum the amount of hours played for each year.\n",
    "listHour = filteredDF.groupby(filteredDF['year'])['playtime_forever'].sum().to_list()"
   ]
  },
  {
   "cell_type": "code",
   "execution_count": 96,
   "metadata": {},
   "outputs": [
    {
     "name": "stdout",
     "output_type": "stream",
     "text": [
      "[{'ID': 2, 'Name': 'Bob'}]\n"
     ]
    }
   ],
   "source": [
    "# Sample dataset as a list of dictionaries\n",
    "dataset = [\n",
    "    {'ID': 1, 'Name': 'Alice'},\n",
    "    {'ID': 2, 'Name': 'Bob'},\n",
    "    {'ID': 3, 'Name': 'Charlie'},\n",
    "]\n",
    "\n",
    "# ID to match\n",
    "target_id = 2\n",
    "\n",
    "# Filter the dataset based on the target ID\n",
    "filtered_data = [record for record in dataset if record['ID'] == target_id]\n",
    "\n",
    "# Display the filtered data\n",
    "print(filtered_data)\n"
   ]
  },
  {
   "cell_type": "code",
   "execution_count": 39,
   "metadata": {},
   "outputs": [
    {
     "ename": "AttributeError",
     "evalue": "'list' object has no attribute 'items'",
     "output_type": "error",
     "traceback": [
      "\u001b[1;31m---------------------------------------------------------------------------\u001b[0m",
      "\u001b[1;31mAttributeError\u001b[0m                            Traceback (most recent call last)",
      "\u001b[1;32mc:\\Users\\punto\\Desktop\\Desktop\\SoyHenry\\DataScience\\Steam_ML\\funciones.ipynb Cell 9\u001b[0m line \u001b[0;36m1\n\u001b[1;32m----> <a href='vscode-notebook-cell:/c%3A/Users/punto/Desktop/Desktop/SoyHenry/DataScience/Steam_ML/funciones.ipynb#X11sZmlsZQ%3D%3D?line=0'>1</a>\u001b[0m \u001b[39mfor\u001b[39;00m year, hours \u001b[39min\u001b[39;00m listHour\u001b[39m.\u001b[39;49mitems():\n\u001b[0;32m      <a href='vscode-notebook-cell:/c%3A/Users/punto/Desktop/Desktop/SoyHenry/DataScience/Steam_ML/funciones.ipynb#X11sZmlsZQ%3D%3D?line=1'>2</a>\u001b[0m     \u001b[39mprint\u001b[39m(\u001b[39mf\u001b[39m\u001b[39m'\u001b[39m\u001b[39m{\u001b[39;00myear\u001b[39m}\u001b[39;00m\u001b[39m-> \u001b[39m\u001b[39m{\u001b[39;00mhours\u001b[39m}\u001b[39;00m\u001b[39m'\u001b[39m)\n",
      "\u001b[1;31mAttributeError\u001b[0m: 'list' object has no attribute 'items'"
     ]
    }
   ],
   "source": [
    "for year, hours in listHour.items():\n",
    "    print(f'{year}-> {hours}')"
   ]
  }
 ],
 "metadata": {
  "kernelspec": {
   "display_name": "Python 3",
   "language": "python",
   "name": "python3"
  },
  "language_info": {
   "codemirror_mode": {
    "name": "ipython",
    "version": 3
   },
   "file_extension": ".py",
   "mimetype": "text/x-python",
   "name": "python",
   "nbconvert_exporter": "python",
   "pygments_lexer": "ipython3",
   "version": "3.11.5"
  }
 },
 "nbformat": 4,
 "nbformat_minor": 2
}
